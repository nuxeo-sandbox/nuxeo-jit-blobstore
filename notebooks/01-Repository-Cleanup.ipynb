{
 "cells": [
  {
   "cell_type": "markdown",
   "metadata": {},
   "source": [
    "### Cleanup Repositories\n",
    "\n",
    "Call `Benchmark.cleanRepository` Operation"
   ]
  },
  {
   "cell_type": "code",
   "execution_count": 1,
   "metadata": {},
   "outputs": [
    {
     "name": "stdout",
     "output_type": "stream",
     "text": [
      "{\"entity-type\":\"string\",\"value\":\"e0513a38-d4ab-41f1-a806-20dadea3e406\"}"
     ]
    }
   ],
   "source": [
    "!curl -H 'Content-Type:application/json+nxrequest' -X POST -d '{\"params\":{\"repositoryName\":\"*\"},\"context\":{}}' -u $NXUSER:$NXPWD http://127.0.0.1:8080/nuxeo/api/v1/automation/Benchmark.cleanRepository\n"
   ]
  },
  {
   "cell_type": "markdown",
   "metadata": {},
   "source": [
    "For safety reason, this call should return a token that you need to provide in a second call so that the delete is executed."
   ]
  },
  {
   "cell_type": "code",
   "execution_count": null,
   "metadata": {},
   "outputs": [],
   "source": [
    "!curl -H 'Content-Type:application/json+nxrequest' -X POST -d '{\"params\":{\"repositoryName\":\"*\", \"confirmationKey\":\"XXXXXXX\"},\"context\":{}}' -u $NXUSER:$NXPWD http://127.0.0.1:8080/nuxeo/api/v1/automation/Benchmark.cleanRepository\n"
   ]
  },
  {
   "cell_type": "markdown",
   "metadata": {},
   "source": [
    "Then you may want to also clear the Audit Index by calling directly ES API\n"
   ]
  },
  {
   "cell_type": "code",
   "execution_count": null,
   "metadata": {},
   "outputs": [],
   "source": [
    "curl -X DELETE \"https://vpc-es-nxbench-2826-benr-2irnnyd7d2shthhsne4oabjmru.us-east-1.es.amazonaws.com/nuxeo-audit\" -H 'Content-Type: application/json' \n"
   ]
  },
  {
   "cell_type": "markdown",
   "metadata": {},
   "source": [
    "### MongoDB indexes\n",
    "\n",
    " - some index need to be recreated in sparse mode\n",
    " - some index need to be added\n"
   ]
  },
  {
   "cell_type": "code",
   "execution_count": 6,
   "metadata": {},
   "outputs": [
    {
     "name": "stdout",
     "output_type": "stream",
     "text": [
      "\n",
      "print(\"************************\");\n",
      "print(\"update collection archives\");\n",
      "\n",
      "// Switch default indexes in Sparse mode\n",
      "db.archives.dropIndex( { \"ecm:versionSeriesId\": 1 });\n",
      "db.archives.createIndex( { \"ecm:versionSeriesId\": 1 }, { sparse: true , background: true} );\n",
      "db.archives.dropIndex( { \"ecm:proxyTargetId\": 1 });\n",
      "db.archives.createIndex( { \"ecm:proxyTargetId\": 1 }, { sparse: true }, { background: true} );\n",
      "db.archives.dropIndex( { \"ecm:proxyVersionSeriesId\": 1 });\n",
      "db.archives.createIndex( { \"ecm:proxyVersionSeriesId\": 1 }, { sparse: true , background: true} );\n",
      "db.archives.dropIndex( { \"ecm:racl\": 1 });\n",
      "db.archives.createIndex( { \"ecm:racl\": 1 }, { sparse: true , background: true} );\n",
      "db.archives.dropIndex( { \"ecm:retainUntil\": 1 });\n",
      "db.archives.createIndex( { \"ecm:retainUntil\": 1 }, { sparse: true , background: true} );\n",
      "db.archives.dropIndex( { \"ecm:fulltextJobId\": 1 });\n",
      "db.archives.createIndex( { \"ecm:fulltextJobId\": 1 }, { sparse: true , background: true} );\n",
      "db.archives.dropIndex( { \"ecm:acp.acl.user\": 1 });\n",
      "db.archives.createIndex( { \"ecm:acp.acl.user\": 1 }, { sparse: true , background: true} );\n",
      "db.archives.dropIndex( { \"ecm:acp.acl.status\": 1 });\n",
      "db.archives.createIndex( { \"ecm:acp.acl.status\": 1 }, { sparse: true , background: true} );\n",
      "db.archives.dropIndex( { \"dc:modified_\": -1 });\n",
      "db.archives.createIndex( { \"dc:modified\": -1 }, { sparse: true , background: true} );\n",
      "db.archives.dropIndex( { \"rend:renditionName\": 1 });\n",
      "db.archives.createIndex( { \"rend:renditionName\": 1 }, { sparse: true , background: true} );\n",
      "db.archives.dropIndex( { \"rend:sourceId\": 1 });\n",
      "db.archives.createIndex( { \"rend:sourceId\": 1 }, { sparse: true , background: true} );\n",
      "db.archives.dropIndex( { \"rend:sourceVersionableId\": 1 });\n",
      "db.archives.createIndex( { \"rend:sourceVersionableId\": 1 }, { sparse: true , background: true} );\n",
      "db.archives.dropIndex( { \"drv:subscriptions.enabled\": 1 });\n",
      "db.archives.createIndex( { \"drv:subscriptions.enabled\": 1 }, { sparse: true , background: true} );\n",
      "db.archives.dropIndex( { \"collectionMember:collectionIds\": 1 });\n",
      "db.archives.createIndex( { \"collectionMember:collectionIds\": 1 }, { sparse: true , background: true} );\n",
      "db.archives.dropIndex( { \"nxtag:tags\": 1 });\n",
      "db.archives.createIndex( { \"nxtag:tags\": 1 }, { sparse: true , background: true} );\n",
      "db.archives.dropIndex( { \"coldstorage:beingRetrieved\": 1 });\n",
      "db.archives.createIndex( { \"coldstorage:beingRetrieved\": 1 }, { sparse: true , background: true} );\n",
      "\n",
      "// Application specific index\n",
      "db.archives.dropIndex( { \"customer:number\": 1 });\n",
      "db.archives.createIndex( { \"customer:number\": 1 }, { sparse: true , background: true} );\n",
      "db.archives.dropIndex( { \"account:number\": 1 });\n",
      "db.archives.createIndex( { \"account:number\": 1 }, { sparse: true , background: true} );\n",
      "\n",
      "print(\"************************\");\n",
      "print(\"All updates completed\");\n",
      "\n",
      "\n"
     ]
    }
   ],
   "source": [
    "%%bash\n",
    "cat <<EOT > createIndex.js\n",
    "\n",
    "print(\"************************\");\n",
    "print(\"update collection archives\");\n",
    "\n",
    "// Switch default indexes in Sparse mode\n",
    "db.archives.dropIndex( { \"ecm:versionSeriesId\": 1 });\n",
    "db.archives.createIndex( { \"ecm:versionSeriesId\": 1 }, { sparse: true , background: true} );\n",
    "db.archives.dropIndex( { \"ecm:proxyTargetId\": 1 });\n",
    "db.archives.createIndex( { \"ecm:proxyTargetId\": 1 }, { sparse: true }, { background: true} );\n",
    "db.archives.dropIndex( { \"ecm:proxyVersionSeriesId\": 1 });\n",
    "db.archives.createIndex( { \"ecm:proxyVersionSeriesId\": 1 }, { sparse: true , background: true} );\n",
    "db.archives.dropIndex( { \"ecm:racl\": 1 });\n",
    "db.archives.createIndex( { \"ecm:racl\": 1 }, { sparse: true , background: true} );\n",
    "db.archives.dropIndex( { \"ecm:retainUntil\": 1 });\n",
    "db.archives.createIndex( { \"ecm:retainUntil\": 1 }, { sparse: true , background: true} );\n",
    "db.archives.dropIndex( { \"ecm:fulltextJobId\": 1 });\n",
    "db.archives.createIndex( { \"ecm:fulltextJobId\": 1 }, { sparse: true , background: true} );\n",
    "db.archives.dropIndex( { \"ecm:acp.acl.user\": 1 });\n",
    "db.archives.createIndex( { \"ecm:acp.acl.user\": 1 }, { sparse: true , background: true} );\n",
    "db.archives.dropIndex( { \"ecm:acp.acl.status\": 1 });\n",
    "db.archives.createIndex( { \"ecm:acp.acl.status\": 1 }, { sparse: true , background: true} );\n",
    "db.archives.dropIndex( { \"dc:modified_\": -1 });\n",
    "db.archives.createIndex( { \"dc:modified\": -1 }, { sparse: true , background: true} );\n",
    "db.archives.dropIndex( { \"rend:renditionName\": 1 });\n",
    "db.archives.createIndex( { \"rend:renditionName\": 1 }, { sparse: true , background: true} );\n",
    "db.archives.dropIndex( { \"rend:sourceId\": 1 });\n",
    "db.archives.createIndex( { \"rend:sourceId\": 1 }, { sparse: true , background: true} );\n",
    "db.archives.dropIndex( { \"rend:sourceVersionableId\": 1 });\n",
    "db.archives.createIndex( { \"rend:sourceVersionableId\": 1 }, { sparse: true , background: true} );\n",
    "db.archives.dropIndex( { \"drv:subscriptions.enabled\": 1 });\n",
    "db.archives.createIndex( { \"drv:subscriptions.enabled\": 1 }, { sparse: true , background: true} );\n",
    "db.archives.dropIndex( { \"collectionMember:collectionIds\": 1 });\n",
    "db.archives.createIndex( { \"collectionMember:collectionIds\": 1 }, { sparse: true , background: true} );\n",
    "db.archives.dropIndex( { \"nxtag:tags\": 1 });\n",
    "db.archives.createIndex( { \"nxtag:tags\": 1 }, { sparse: true , background: true} );\n",
    "db.archives.dropIndex( { \"coldstorage:beingRetrieved\": 1 });\n",
    "db.archives.createIndex( { \"coldstorage:beingRetrieved\": 1 }, { sparse: true , background: true} );\n",
    "\n",
    "// Application specific index\n",
    "db.archives.dropIndex( { \"customer:number\": 1 });\n",
    "db.archives.createIndex( { \"customer:number\": 1 }, { sparse: true , background: true} );\n",
    "db.archives.dropIndex( { \"account:number\": 1 });\n",
    "db.archives.createIndex( { \"account:number\": 1 }, { sparse: true , background: true} );\n",
    "\n",
    "print(\"************************\");\n",
    "print(\"All updates completed\");\n",
    "\n",
    "\n",
    "EOT\n",
    "cat createIndex.js"
   ]
  },
  {
   "cell_type": "code",
   "execution_count": 8,
   "metadata": {},
   "outputs": [
    {
     "name": "stdout",
     "output_type": "stream",
     "text": [
      "MongoDB shell version v4.4.0\n",
      "connecting to: mongodb://nxbench-2826-bench-11-n-shard-00-00.vzeqm.mongodb.net:27017,nxbench-2826-bench-11-n-shard-00-01.vzeqm.mongodb.net:27017,nxbench-2826-bench-11-n-shard-00-02.vzeqm.mongodb.net:27017/nuxeo?authSource=admin&compressors=disabled&gssapiServiceName=mongodb&replicaSet=atlas-lwol2l-shard-0&ssl=true\n",
      "Implicit session: session { \"id\" : UUID(\"25c875b3-8de0-404c-aa9b-e7c431bf7e78\") }\n",
      "MongoDB server version: 4.2.8\n",
      "WARNING: shell and server versions do not match\n",
      "************************\n",
      "update collection archives\n",
      "************************\n",
      "All updates completed\n"
     ]
    }
   ],
   "source": [
    "!mongo \"mongodb+srv://nxbench-2826-bench-11-n.vzeqm.mongodb.net/nuxeo\" --username $MONGOUSER --password $MONGOPWD createIndex.js"
   ]
  },
  {
   "cell_type": "code",
   "execution_count": 9,
   "metadata": {},
   "outputs": [],
   "source": [
    "!rm createIndex.js"
   ]
  }
 ],
 "metadata": {
  "kernelspec": {
   "display_name": "Python 3",
   "language": "python",
   "name": "python3"
  },
  "language_info": {
   "codemirror_mode": {
    "name": "ipython",
    "version": 3
   },
   "file_extension": ".py",
   "mimetype": "text/x-python",
   "name": "python",
   "nbconvert_exporter": "python",
   "pygments_lexer": "ipython3",
   "version": "3.7.3"
  }
 },
 "nbformat": 4,
 "nbformat_minor": 4
}
