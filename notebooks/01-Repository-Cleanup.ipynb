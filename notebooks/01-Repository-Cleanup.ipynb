{
 "cells": [
  {
   "cell_type": "markdown",
   "metadata": {},
   "source": [
    "### Cleanup Repositories\n",
    "\n",
    "Call `Benchmark.cleanRepository` Operation"
   ]
  },
  {
   "cell_type": "code",
   "execution_count": 1,
   "metadata": {},
   "outputs": [
    {
     "name": "stdout",
     "output_type": "stream",
     "text": [
      "curl: (7) Failed to connect to 127.0.0.1 port 8080: Connection refused\r\n"
     ]
    }
   ],
   "source": [
    "!curl -H 'Content-Type:application/json+nxrequest' -X POST -d '{\"params\":{\"repositoryName\":\"*\"},\"context\":{}}' -u $NXUSER:$NXPWD http://127.0.0.1:8080/nuxeo/api/v1/automation/Benchmark.cleanRepository\n"
   ]
  },
  {
   "cell_type": "markdown",
   "metadata": {},
   "source": [
    "For safety reason, this call should return a token that you need to provide in a second call so that the delete is executed."
   ]
  },
  {
   "cell_type": "code",
   "execution_count": null,
   "metadata": {},
   "outputs": [],
   "source": [
    "!curl -H 'Content-Type:application/json+nxrequest' -X POST -d '{\"params\":{\"repositoryName\":\"*\", \"confirmationKey\":\"0cd80116-7c33-4a1f-852b-ea29b9492c00\"},\"context\":{}}' -u $NXUSER:$NXPWD http://127.0.0.1:8080/nuxeo/api/v1/automation/Benchmark.cleanRepository\n"
   ]
  },
  {
   "cell_type": "markdown",
   "metadata": {},
   "source": [
    "Then you may want to also clear the Audit Index by calling directly ES API\n"
   ]
  },
  {
   "cell_type": "code",
   "execution_count": null,
   "metadata": {},
   "outputs": [],
   "source": [
    "curl -X DELETE \"https://vpc-es-nxbench-2826-benr-2irnnyd7d2shthhsne4oabjmru.us-east-1.es.amazonaws.com/nuxeo-audit\" -H 'Content-Type: application/json' \n"
   ]
  }
 ],
 "metadata": {
  "kernelspec": {
   "display_name": "Python 3",
   "language": "python",
   "name": "python3"
  },
  "language_info": {
   "codemirror_mode": {
    "name": "ipython",
    "version": 3
   },
   "file_extension": ".py",
   "mimetype": "text/x-python",
   "name": "python",
   "nbconvert_exporter": "python",
   "pygments_lexer": "ipython3",
   "version": "3.7.3"
  }
 },
 "nbformat": 4,
 "nbformat_minor": 4
}
