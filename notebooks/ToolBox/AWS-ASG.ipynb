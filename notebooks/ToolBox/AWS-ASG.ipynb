{
 "cells": [
  {
   "cell_type": "markdown",
   "metadata": {},
   "source": [
    "### Scale up or Down AutoScaling Group"
   ]
  },
  {
   "cell_type": "code",
   "execution_count": 2,
   "metadata": {},
   "outputs": [
    {
     "name": "stdout",
     "output_type": "stream",
     "text": [
      "aws autoscaling set-desired-capacity --auto-scaling-group-name nxbench-bench-11-2826-worker-blue --desired-capacity 3\r\n"
     ]
    }
   ],
   "source": [
    "ASG = \"nxbench-bench-11-2826-worker-blue\"\n",
    "capacity = 3\n",
    "\n",
    "!echo aws autoscaling set-desired-capacity --auto-scaling-group-name $ASG \\\n",
    "  --desired-capacity $capacity"
   ]
  }
 ],
 "metadata": {
  "kernelspec": {
   "display_name": "Python 3",
   "language": "python",
   "name": "python3"
  },
  "language_info": {
   "codemirror_mode": {
    "name": "ipython",
    "version": 3
   },
   "file_extension": ".py",
   "mimetype": "text/x-python",
   "name": "python",
   "nbconvert_exporter": "python",
   "pygments_lexer": "ipython3",
   "version": "3.7.3"
  }
 },
 "nbformat": 4,
 "nbformat_minor": 4
}
