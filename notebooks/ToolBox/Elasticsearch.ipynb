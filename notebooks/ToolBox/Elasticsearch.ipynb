{
 "cells": [
  {
   "cell_type": "markdown",
   "metadata": {},
   "source": [
    "### Setup an ES index for bulk Indexing\n",
    "\n",
    " - set replicates to 0\n",
    " - set refresh interval to -1\n",
    " \n",
    "In the case of a full-reindex, this needs to be run after starting the process because Nuxeo will recreate the index with the default refresn and replicate."
   ]
  },
  {
   "cell_type": "code",
   "execution_count": 1,
   "metadata": {},
   "outputs": [
    {
     "name": "stdout",
     "output_type": "stream",
     "text": [
      "\n",
      "curl -X PUT $ES_SERVER/us-west/_settings -H \"Content-Type: application/json\"    -d '{\"index\" : { \"number_of_replicas\" : 0  , \"refresh_interval\" : -1 } }'\n",
      "\n",
      "\n",
      "{\"acknowledged\":true}"
     ]
    }
   ],
   "source": [
    "Index = \"us-west\"\n",
    "\n",
    "cmd = \"\"\"\n",
    "curl -X PUT $ES_SERVER/$Index/_settings -H \"Content-Type: application/json\" \\\n",
    "   -d '{\"index\" : { \"number_of_replicas\" : 0  , \"refresh_interval\" : -1 } }'\n",
    "\n",
    "\"\"\".replace(\"$Index\", Index)\n",
    "curl -X PUT $ES_SERVER/us-west/_settings -H \"Content-Type: application/json\"    -d '{\"index\" : { \"number_of_replicas\" : 0  , \"refresh_interval\" : -1 } }'\n",
    "\n",
    "\n",
    "{\"acknowledged\":true}\n",
    "print(cmd)\n",
    "\n",
    "!$cmd"
   ]
  },
  {
   "cell_type": "markdown",
   "metadata": {},
   "source": [
    "### Setup an ES index for normal operations\n",
    "\n",
    " - set replicates to 1\n",
    " - set refresh interval to null"
   ]
  },
  {
   "cell_type": "code",
   "execution_count": 3,
   "metadata": {},
   "outputs": [
    {
     "name": "stdout",
     "output_type": "stream",
     "text": [
      "\n",
      "curl -X PUT $ES_SERVER/nuxeo/_settings -H \"Content-Type: application/json\"    -d '{\"index\" : { \"number_of_replicas\" : 1  , \"refresh_interval\" : null } }'\n",
      "\n",
      "\n",
      "{\"acknowledged\":true}"
     ]
    }
   ],
   "source": [
    "Index = \"nuxeo\"\n",
    "\n",
    "cmd = \"\"\"\n",
    "curl -X PUT $ES_SERVER/$Index/_settings -H \"Content-Type: application/json\" \\\n",
    "   -d '{\"index\" : { \"number_of_replicas\" : 1  , \"refresh_interval\" : null } }'\n",
    "\n",
    "\"\"\".replace(\"$Index\", Index)\n",
    "\n",
    "print(cmd)\n",
    "\n",
    "!$cmd\n"
   ]
  },
  {
   "cell_type": "markdown",
   "metadata": {},
   "source": [
    "### Gather stats about ES"
   ]
  },
  {
   "cell_type": "code",
   "execution_count": 13,
   "metadata": {},
   "outputs": [
    {
     "name": "stdout",
     "output_type": "stream",
     "text": [
      "  % Total    % Received % Xferd  Average Speed   Time    Time     Time  Current\n",
      "                                 Dload  Upload   Total   Spent    Left  Speed\n",
      "100   509  100   509    0     0  56555      0 --:--:-- --:--:-- --:--:-- 56555\n",
      "  % Total    % Received % Xferd  Average Speed   Time    Time     Time  Current\n",
      "                                 Dload  Upload   Total   Spent    Left  Speed\n",
      "100   336  100   336    0     0  10838      0 --:--:-- --:--:-- --:--:-- 10838\n",
      "  % Total    % Received % Xferd  Average Speed   Time    Time     Time  Current\n",
      "                                 Dload  Upload   Total   Spent    Left  Speed\n",
      "100  1051  100  1051    0     0  21020      0 --:--:-- --:--:-- --:--:-- 21020\n",
      "  % Total    % Received % Xferd  Average Speed   Time    Time     Time  Current\n",
      "                                 Dload  Upload   Total   Spent    Left  Speed\n",
      "100   864  100   864    0     0  37565      0 --:--:-- --:--:-- --:--:-- 37565\n",
      "{\n",
      "  \"name\" : \"Hzuqv7f\",\n",
      "  \"cluster_name\" : \"188670881089:es-nxbench-2826-benr\",\n",
      "  \"cluster_uuid\" : \"VkxqYf4lSLu0fU1msd7Qgw\",\n",
      "  \"version\" : {\n",
      "    \"number\" : \"6.5.4\",\n",
      "    \"build_flavor\" : \"oss\",\n",
      "    \"build_type\" : \"zip\",\n",
      "    \"build_hash\" : \"ad42e08\",\n",
      "    \"build_date\" : \"2020-06-18T23:56:05.513175Z\",\n",
      "    \"build_snapshot\" : false,\n",
      "    \"lucene_version\" : \"7.5.0\",\n",
      "    \"minimum_wire_compatibility_version\" : \"5.6.0\",\n",
      "    \"minimum_index_compatibility_version\" : \"5.0.0\"\n",
      "  },\n",
      "  \"tagline\" : \"You Know, for Search\"\n",
      "}\n",
      "epoch      timestamp cluster                           status node.total node.data shards pri relo init unassign pending_tasks max_task_wait_time active_shards_percent\n",
      "1600207155 21:59:15  188670881089:es-nxbench-2826-benr green          11         8    490 242    0    0        0             0                  -                100.0%\n",
      "ip            heap.percent ram.percent cpu load_1m load_5m load_15m node.role master name\n",
      "x.x.x.x            24          91   0    0.00    0.00     0.00 di        -      aeuBB1k\n",
      "x.x.x.x           53          96   0    0.03    0.09     0.08 di        -      0SyFrEo\n",
      "x.x.x.x            5          95   0    0.00    0.04     0.07 m         -      muW89J8\n",
      "x.x.x.x           49          87   0    0.06    0.02     0.00 di        -      oM62gcO\n",
      "x.x.x.x           71          94   0    0.00    0.00     0.00 di        -      Hzuqv7f\n",
      "x.x.x.x            18          94   0    0.00    0.00     0.00 di        -      IWvYARi\n",
      "x.x.x.x           31          95   0    0.02    0.06     0.02 di        -      u2mRLVF\n",
      "x.x.x.x             5          94   0    0.00    0.00     0.00 m         -      zq2gosB\n",
      "x.x.x.x            5          95   0    0.01    0.02     0.00 m         *      4A5T2FQ\n",
      "x.x.x.x           72          96   0    0.01    0.01     0.00 di        -      uiPqxzO\n",
      "x.x.x.x            19          92   0    0.01    0.03     0.00 di        -      pstmFi5\n",
      "health status index        uuid                   pri rep docs.count docs.deleted store.size pri.store.size\n",
      "green  open   archives     HJgj5mOSRQ-lMyzCBnMtPA 100   1         23            0      512kb          256kb\n",
      "green  open   nuxeo-audit  gGm4wLiaQ1mDwroe_MhSWw  35   1       1959            0      5.6mb          2.8mb\n",
      "green  open   us-east      RDN10QY8SJSXM04YE5-v8w  35   1         62            0      1.7mb          904kb\n",
      "green  open   us-west      cnMyWwwARz6pKNcr7-om9Q  35   1  801695569            0      1.8tb          968gb\n",
      "green  open   .kibana_1    _2CznO6LRHCBOA_QcmUbuA   1   1          1            0      7.4kb          3.7kb\n",
      "green  open   nuxeo        2NVvhrROSSOpu2EEN9qxxw  35   1        105            3        3mb          1.5mb\n",
      "green  open   nuxeo-uidgen 0bxocGu1SNeCJ8HqBwgE7A   1   7          1            0     20.9kb          2.6kb\n"
     ]
    }
   ],
   "source": [
    "!statfile=\"../11B-Steps/snapshots/es-after-us-west-indexing-\"`date +%Y%m%d-%H%M%S`.txt; \\\n",
    " curl \"$ES_SERVER\" > $statfile; \\\n",
    " curl \"$ES_SERVER/_cat/health?v\" >> $statfile ; \\\n",
    " curl \"$ES_SERVER/_cat/nodes?v\" >> $statfile; \\\n",
    " curl \"$ES_SERVER/_cat/indices?v\" >> $statfile; \\\n",
    " cat $statfile"
   ]
  },
  {
   "cell_type": "code",
   "execution_count": null,
   "metadata": {},
   "outputs": [],
   "source": []
  }
 ],
 "metadata": {
  "kernelspec": {
   "display_name": "Python 3",
   "language": "python",
   "name": "python3"
  },
  "language_info": {
   "codemirror_mode": {
    "name": "ipython",
    "version": 3
   },
   "file_extension": ".py",
   "mimetype": "text/x-python",
   "name": "python",
   "nbconvert_exporter": "python",
   "pygments_lexer": "ipython3",
   "version": "3.7.3"
  }
 },
 "nbformat": 4,
 "nbformat_minor": 4
}
