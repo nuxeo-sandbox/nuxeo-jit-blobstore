{
 "cells": [
  {
   "cell_type": "markdown",
   "metadata": {},
   "source": [
    "### Setup an ES index for bulk Indexing\n",
    "\n",
    " - set replicates to 0\n",
    " - set refresh interval to -1"
   ]
  },
  {
   "cell_type": "code",
   "execution_count": 1,
   "metadata": {},
   "outputs": [
    {
     "name": "stdout",
     "output_type": "stream",
     "text": [
      "\n",
      "curl -X PUT $ES_SERVER/us-west/_settings -H \"Content-Type: application/json\"    -d '{\"index\" : { \"number_of_replicas\" : 0  , \"refresh_interval\" : -1 } }'\n",
      "\n",
      "\n",
      "{\"acknowledged\":true}"
     ]
    }
   ],
   "source": [
    "Index = \"us-west\"\n",
    "\n",
    "cmd = \"\"\"\n",
    "curl -X PUT $ES_SERVER/$Index/_settings -H \"Content-Type: application/json\" \\\n",
    "   -d '{\"index\" : { \"number_of_replicas\" : 0  , \"refresh_interval\" : -1 } }'\n",
    "\n",
    "\"\"\".replace(\"$Index\", Index)\n",
    "curl -X PUT $ES_SERVER/us-west/_settings -H \"Content-Type: application/json\"    -d '{\"index\" : { \"number_of_replicas\" : 0  , \"refresh_interval\" : -1 } }'\n",
    "\n",
    "\n",
    "{\"acknowledged\":true}\n",
    "print(cmd)\n",
    "\n",
    "!$cmd"
   ]
  },
  {
   "cell_type": "markdown",
   "metadata": {},
   "source": [
    "### Setup an ES index for normal operations\n",
    "\n",
    " - set replicates to 1\n",
    " - set refresh interval to null"
   ]
  },
  {
   "cell_type": "code",
   "execution_count": 3,
   "metadata": {},
   "outputs": [
    {
     "name": "stdout",
     "output_type": "stream",
     "text": [
      "\n",
      "curl -X PUT $ES_SERVER/nuxeo/_settings -H \"Content-Type: application/json\"    -d '{\"index\" : { \"number_of_replicas\" : 1  , \"refresh_interval\" : null } }'\n",
      "\n",
      "\n",
      "{\"acknowledged\":true}"
     ]
    }
   ],
   "source": [
    "Index = \"nuxeo\"\n",
    "\n",
    "cmd = \"\"\"\n",
    "curl -X PUT $ES_SERVER/$Index/_settings -H \"Content-Type: application/json\" \\\n",
    "   -d '{\"index\" : { \"number_of_replicas\" : 1  , \"refresh_interval\" : null } }'\n",
    "\n",
    "\"\"\".replace(\"$Index\", Index)\n",
    "\n",
    "print(cmd)\n",
    "\n",
    "!$cmd\n"
   ]
  },
  {
   "cell_type": "markdown",
   "metadata": {},
   "source": [
    "### Gather stats about ES"
   ]
  },
  {
   "cell_type": "code",
   "execution_count": 1,
   "metadata": {},
   "outputs": [
    {
     "name": "stdout",
     "output_type": "stream",
     "text": [
      "{\n",
      "  \"name\" : \"dqO17Pu\",\n",
      "  \"cluster_name\" : \"188670881089:es-nxbench-2826-benr\",\n",
      "  \"cluster_uuid\" : \"VkxqYf4lSLu0fU1msd7Qgw\",\n",
      "  \"version\" : {\n",
      "    \"number\" : \"6.5.4\",\n",
      "    \"build_flavor\" : \"oss\",\n",
      "    \"build_type\" : \"zip\",\n",
      "    \"build_hash\" : \"ad42e08\",\n",
      "    \"build_date\" : \"2020-06-18T23:56:05.513175Z\",\n",
      "    \"build_snapshot\" : false,\n",
      "    \"lucene_version\" : \"7.5.0\",\n",
      "    \"minimum_wire_compatibility_version\" : \"5.6.0\",\n",
      "    \"minimum_index_compatibility_version\" : \"5.0.0\"\n",
      "  },\n",
      "  \"tagline\" : \"You Know, for Search\"\n",
      "}\n",
      "epoch      timestamp cluster                           status node.total node.data shards pri relo init unassign pending_tasks max_task_wait_time active_shards_percent\n",
      "1599676112 18:28:32  188670881089:es-nxbench-2826-benr green           8         5    357 177    0    0        0             0                  -                100.0%\n",
      "ip            heap.percent ram.percent cpu load_1m load_5m load_15m node.role master name\n",
      "x.x.x.x            19          99   0    0.02    0.01     0.00 di        -      vczgFna\n",
      "x.x.x.x           53          99   0    0.00    0.00     0.00 di        -      HHGToG2\n",
      "x.x.x.x             3          95   1    0.00    0.00     0.00 m         *      U4p-hE0\n",
      "x.x.x.x            38          99   0    0.02    0.02     0.00 di        -      dqO17Pu\n",
      "x.x.x.x           32          99   0    0.00    0.01     0.00 di        -      w0UQheT\n",
      "x.x.x.x            2          94   1    0.23    0.06     0.06 m         -      xZVmYT4\n",
      "x.x.x.x             3          94   1    0.00    0.00     0.00 m         -      V5BiJh1\n",
      "x.x.x.x           59          99   0    0.05    0.19     0.13 di        -      8PsdAEj\n",
      "health status index        uuid                   pri rep docs.count docs.deleted store.size pri.store.size\n",
      "green  open   archives     OgaeO1b6SEy3J5CSlFmjWA  35   1         85            5      2.2mb          1.1mb\n",
      "green  open   us-east      1RqQXBRfSE-8Ityim5f-BQ  35   1  280068715     87933866    561.4gb          281gb\n",
      "green  open   us-west      Vf-T5vSoRY-vpXyuMDipSQ  35   1   79437482     19137203    125.7gb         63.2gb\n",
      "green  open   nuxeo        thxxhRTiRhOgYiW0LBwPaQ  35   1        224           29      5.3mb          2.6mb\n",
      "green  open   nuxeo-audit  mNhlqK_zR0SDv4RGpuOL8g  35   1       5212            0     12.5mb          6.2mb\n",
      "green  open   .kibana_1    _2CznO6LRHCBOA_QcmUbuA   1   1          1            0      7.4kb          3.7kb\n",
      "green  open   nuxeo-uidgen 0bxocGu1SNeCJ8HqBwgE7A   1   4          1            0     12.3kb          2.4kb\n"
     ]
    }
   ],
   "source": [
    "!curl \"$ES_SERVER\"; \\\n",
    "  curl \"$ES_SERVER/_cat/health?v\"; \\\n",
    "  curl \"$ES_SERVER/_cat/nodes?v\"; \\\n",
    "  curl \"$ES_SERVER/_cat/indices?v\"\n",
    "#> nuxeo-elastic-`date +%Y%m%d-%H%M%S`.txt"
   ]
  },
  {
   "cell_type": "code",
   "execution_count": null,
   "metadata": {},
   "outputs": [],
   "source": []
  }
 ],
 "metadata": {
  "kernelspec": {
   "display_name": "Python 3",
   "language": "python",
   "name": "python3"
  },
  "language_info": {
   "codemirror_mode": {
    "name": "ipython",
    "version": 3
   },
   "file_extension": ".py",
   "mimetype": "text/x-python",
   "name": "python",
   "nbconvert_exporter": "python",
   "pygments_lexer": "ipython3",
   "version": "3.7.3"
  }
 },
 "nbformat": 4,
 "nbformat_minor": 4
}
