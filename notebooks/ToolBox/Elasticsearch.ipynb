{
 "cells": [
  {
   "cell_type": "markdown",
   "metadata": {},
   "source": [
    "### Setup an ES index for bulk Indexing\n",
    "\n",
    " - set replicates to 0\n",
    " - set refresh interval to -1"
   ]
  },
  {
   "cell_type": "code",
   "execution_count": 16,
   "metadata": {},
   "outputs": [
    {
     "name": "stdout",
     "output_type": "stream",
     "text": [
      "\n",
      "curl -X PUT http://127.0.0.1//nuxeo/_settings -H \"Content-Type: application/json\"    -d '{\"index\" : { \"number_of_replicas\" : 0  , \"refresh_interval\" : -1 } }'\n",
      "\n",
      "\n",
      "404 page not found\r\n"
     ]
    }
   ],
   "source": [
    "ESEndpoint = \"http://127.0.0.1/\"\n",
    "Index = \"nuxeo\"\n",
    "\n",
    "cmd = \"\"\"\n",
    "curl -X PUT $ESEndpoint/$Index/_settings -H \"Content-Type: application/json\" \\\n",
    "   -d '{\"index\" : { \"number_of_replicas\" : 0  , \"refresh_interval\" : -1 } }'\n",
    "\n",
    "\"\"\".replace(\"$ESEndpoint\", ESEndpoint).replace(\"$Index\", Index)\n",
    "\n",
    "print(cmd)\n",
    "\n",
    "!$cmd"
   ]
  },
  {
   "cell_type": "markdown",
   "metadata": {},
   "source": [
    "### Setup an ES index for normal operations\n",
    "\n",
    " - set replicates to 1\n",
    " - set refresh interval to null"
   ]
  },
  {
   "cell_type": "code",
   "execution_count": 17,
   "metadata": {},
   "outputs": [
    {
     "name": "stdout",
     "output_type": "stream",
     "text": [
      "\n",
      "curl -X PUT http://127.0.0.1//nuxeo/_settings -H \"Content-Type: application/json\"    -d '{\"index\" : { \"number_of_replicas\" : 1  , \"refresh_interval\" : null } }'\n",
      "\n",
      "\n",
      "404 page not found\r\n"
     ]
    }
   ],
   "source": [
    "ESEndpoint = \"http://127.0.0.1/\"\n",
    "Index = \"nuxeo\"\n",
    "\n",
    "cmd = \"\"\"\n",
    "curl -X PUT $ESEndpoint/$Index/_settings -H \"Content-Type: application/json\" \\\n",
    "   -d '{\"index\" : { \"number_of_replicas\" : 1  , \"refresh_interval\" : null } }'\n",
    "\n",
    "\"\"\".replace(\"$ESEndpoint\", ESEndpoint).replace(\"$Index\", Index)\n",
    "\n",
    "print(cmd)\n",
    "\n",
    "!$cmd"
   ]
  },
  {
   "cell_type": "markdown",
   "metadata": {},
   "source": [
    "### Gather stats about ES"
   ]
  },
  {
   "cell_type": "code",
   "execution_count": 19,
   "metadata": {},
   "outputs": [
    {
     "name": "stdout",
     "output_type": "stream",
     "text": [
      "  % Total    % Received % Xferd  Average Speed   Time    Time     Time  Current\n",
      "                                 Dload  Upload   Total   Spent    Left  Speed\n",
      "  0     0    0     0    0     0      0      0 --:--:-- --:--:-- --:--:--     0curl: (6) Could not resolve host: vpc-es-nxbench-2551-benr-6qgda5urb7ldbuh33eggbcb3vq.us-east-1.es.amazonaws.com\n",
      "  % Total    % Received % Xferd  Average Speed   Time    Time     Time  Current\n",
      "                                 Dload  Upload   Total   Spent    Left  Speed\n",
      "  0     0    0     0    0     0      0      0 --:--:-- --:--:-- --:--:--     0curl: (6) Could not resolve host: vpc-es-nxbench-2551-benr-6qgda5urb7ldbuh33eggbcb3vq.us-east-1.es.amazonaws.com\n",
      "  % Total    % Received % Xferd  Average Speed   Time    Time     Time  Current\n",
      "                                 Dload  Upload   Total   Spent    Left  Speed\n",
      "  0     0    0     0    0     0      0      0 --:--:-- --:--:-- --:--:--     0curl: (6) Could not resolve host: vpc-es-nxbench-2551-benr-6qgda5urb7ldbuh33eggbcb3vq.us-east-1.es.amazonaws.com\n",
      "  % Total    % Received % Xferd  Average Speed   Time    Time     Time  Current\n",
      "                                 Dload  Upload   Total   Spent    Left  Speed\n",
      "  0     0    0     0    0     0      0      0 --:--:-- --:--:-- --:--:--     0curl: (6) Could not resolve host: vpc-es-nxbench-2551-benr-6qgda5urb7ldbuh33eggbcb3vq.us-east-1.es.amazonaws.com\n"
     ]
    }
   ],
   "source": [
    "!(ES=\"https://vpc-es-nxbench-2551-benr-6qgda5urb7ldbuh33eggbcb3vq.us-east-1.es.amazonaws.com\"; \\\n",
    "  curl \"$ES\"; curl \"$ES/_cat/health?v\"; curl \"$ES/_cat/nodes?v\"; curl \"$ES/_cat/indices?v\") > /tmp/nuxeo-elastic-`date +%Y%m%d-%H%M%S`.txt"
   ]
  },
  {
   "cell_type": "code",
   "execution_count": null,
   "metadata": {},
   "outputs": [],
   "source": []
  }
 ],
 "metadata": {
  "kernelspec": {
   "display_name": "Python 3",
   "language": "python",
   "name": "python3"
  },
  "language_info": {
   "codemirror_mode": {
    "name": "ipython",
    "version": 3
   },
   "file_extension": ".py",
   "mimetype": "text/x-python",
   "name": "python",
   "nbconvert_exporter": "python",
   "pygments_lexer": "ipython3",
   "version": "3.7.3"
  }
 },
 "nbformat": 4,
 "nbformat_minor": 4
}
