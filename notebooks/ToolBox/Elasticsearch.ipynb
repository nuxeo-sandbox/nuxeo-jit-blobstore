{
 "cells": [
  {
   "cell_type": "markdown",
   "metadata": {},
   "source": [
    "### Setup an ES index for bulk Indexing\n",
    "\n",
    " - set replicates to 0\n",
    " - set refresh interval to -1\n",
    " \n",
    "In the case of a full-reindex, this needs to be run after starting the process because Nuxeo will recreate the index with the default refresn and replicate."
   ]
  },
  {
   "cell_type": "code",
   "execution_count": 1,
   "metadata": {},
   "outputs": [
    {
     "name": "stdout",
     "output_type": "stream",
     "text": [
      "\n",
      "curl -X PUT $ES_SERVER/us-west/_settings -H \"Content-Type: application/json\"    -d '{\"index\" : { \"number_of_replicas\" : 0  , \"refresh_interval\" : -1 } }'\n",
      "\n",
      "\n",
      "{\"acknowledged\":true}"
     ]
    }
   ],
   "source": [
    "Index = \"us-west\"\n",
    "\n",
    "cmd = \"\"\"\n",
    "curl -X PUT $ES_SERVER/$Index/_settings -H \"Content-Type: application/json\" \\\n",
    "   -d '{\"index\" : { \"number_of_replicas\" : 0  , \"refresh_interval\" : -1 } }'\n",
    "\n",
    "\"\"\".replace(\"$Index\", Index)\n",
    "curl -X PUT $ES_SERVER/us-west/_settings -H \"Content-Type: application/json\"    -d '{\"index\" : { \"number_of_replicas\" : 0  , \"refresh_interval\" : -1 } }'\n",
    "\n",
    "\n",
    "{\"acknowledged\":true}\n",
    "print(cmd)\n",
    "\n",
    "!$cmd"
   ]
  },
  {
   "cell_type": "markdown",
   "metadata": {},
   "source": [
    "### Setup an ES index for normal operations\n",
    "\n",
    " - set replicates to 1\n",
    " - set refresh interval to null"
   ]
  },
  {
   "cell_type": "code",
   "execution_count": 3,
   "metadata": {},
   "outputs": [
    {
     "name": "stdout",
     "output_type": "stream",
     "text": [
      "\n",
      "curl -X PUT $ES_SERVER/nuxeo/_settings -H \"Content-Type: application/json\"    -d '{\"index\" : { \"number_of_replicas\" : 1  , \"refresh_interval\" : null } }'\n",
      "\n",
      "\n",
      "{\"acknowledged\":true}"
     ]
    }
   ],
   "source": [
    "Index = \"nuxeo\"\n",
    "\n",
    "cmd = \"\"\"\n",
    "curl -X PUT $ES_SERVER/$Index/_settings -H \"Content-Type: application/json\" \\\n",
    "   -d '{\"index\" : { \"number_of_replicas\" : 1  , \"refresh_interval\" : null } }'\n",
    "\n",
    "\"\"\".replace(\"$Index\", Index)\n",
    "\n",
    "print(cmd)\n",
    "\n",
    "!$cmd\n"
   ]
  },
  {
   "cell_type": "markdown",
   "metadata": {},
   "source": [
    "### Gather stats about ES"
   ]
  },
  {
   "cell_type": "code",
   "execution_count": 14,
   "metadata": {},
   "outputs": [
    {
     "name": "stdout",
     "output_type": "stream",
     "text": [
      "  % Total    % Received % Xferd  Average Speed   Time    Time     Time  Current\n",
      "                                 Dload  Upload   Total   Spent    Left  Speed\n",
      "100   509  100   509    0     0  20360      0 --:--:-- --:--:-- --:--:-- 19576\n",
      "  % Total    % Received % Xferd  Average Speed   Time    Time     Time  Current\n",
      "                                 Dload  Upload   Total   Spent    Left  Speed\n",
      "100   336  100   336    0     0   5694      0 --:--:-- --:--:-- --:--:--  5694\n",
      "  % Total    % Received % Xferd  Average Speed   Time    Time     Time  Current\n",
      "                                 Dload  Upload   Total   Spent    Left  Speed\n",
      "100  1051  100  1051    0     0  35033      0 --:--:-- --:--:-- --:--:-- 35033\n",
      "  % Total    % Received % Xferd  Average Speed   Time    Time     Time  Current\n",
      "                                 Dload  Upload   Total   Spent    Left  Speed\n",
      "100   864  100   864    0     0  19636      0 --:--:-- --:--:-- --:--:-- 19636\n",
      "{\n",
      "  \"name\" : \"Hzuqv7f\",\n",
      "  \"cluster_name\" : \"188670881089:es-nxbench-2826-benr\",\n",
      "  \"cluster_uuid\" : \"VkxqYf4lSLu0fU1msd7Qgw\",\n",
      "  \"version\" : {\n",
      "    \"number\" : \"6.5.4\",\n",
      "    \"build_flavor\" : \"oss\",\n",
      "    \"build_type\" : \"zip\",\n",
      "    \"build_hash\" : \"ad42e08\",\n",
      "    \"build_date\" : \"2020-06-18T23:56:05.513175Z\",\n",
      "    \"build_snapshot\" : false,\n",
      "    \"lucene_version\" : \"7.5.0\",\n",
      "    \"minimum_wire_compatibility_version\" : \"5.6.0\",\n",
      "    \"minimum_index_compatibility_version\" : \"5.0.0\"\n",
      "  },\n",
      "  \"tagline\" : \"You Know, for Search\"\n",
      "}\n",
      "epoch      timestamp cluster                           status node.total node.data shards pri relo init unassign pending_tasks max_task_wait_time active_shards_percent\n",
      "1600279522 18:05:22  188670881089:es-nxbench-2826-benr green          11         8    455 242    0    0        0             0                  -                100.0%\n",
      "ip            heap.percent ram.percent cpu load_1m load_5m load_15m node.role master name\n",
      "x.x.x.x            30          99   1    0.92    0.31     0.23 di        -      aeuBB1k\n",
      "x.x.x.x           18          96   0    0.03    0.13     0.23 di        -      uiPqxzO\n",
      "x.x.x.x           22          98   0    0.07    0.18     0.30 di        -      0SyFrEo\n",
      "x.x.x.x            6          95   3    0.00    0.00     0.00 m         -      muW89J8\n",
      "x.x.x.x           54          98   0    0.02    0.19     0.29 di        -      oM62gcO\n",
      "x.x.x.x             6          95   0    0.35    0.17     0.06 m         -      zq2gosB\n",
      "x.x.x.x            17          98   0    0.02    0.11     0.16 di        -      IWvYARi\n",
      "x.x.x.x           14          98   0    0.01    0.19     0.30 di        -      u2mRLVF\n",
      "x.x.x.x            6          95   3    0.00    0.05     0.09 m         *      4A5T2FQ\n",
      "x.x.x.x           16          97   0    0.04    0.33     0.52 di        -      Hzuqv7f\n",
      "x.x.x.x            30          98   0    0.77    0.47     0.32 di        -      pstmFi5\n",
      "health status index        uuid                   pri rep docs.count docs.deleted store.size pri.store.size\n",
      "green  open   archives     HJgj5mOSRQ-lMyzCBnMtPA 100   1         23            0    532.1kb          266kb\n",
      "green  open   nuxeo-audit  gGm4wLiaQ1mDwroe_MhSWw  35   1       2242            0      5.7mb          2.8mb\n",
      "green  open   us-west      cnMyWwwARz6pKNcr7-om9Q  35   1  801695569           21      1.8tb        968.1gb\n",
      "green  open   .kibana_1    _2CznO6LRHCBOA_QcmUbuA   1   1          1            0      7.4kb          3.7kb\n",
      "green  open   nuxeo        2NVvhrROSSOpu2EEN9qxxw  35   1        114            5      3.4mb          1.6mb\n",
      "green  open   nuxeo-uidgen 0bxocGu1SNeCJ8HqBwgE7A   1   7          1            0     19.7kb          2.4kb\n",
      "green  open   us-east      Jz3kBNZQTJyjVr9CPqUfTg  35   0  815290495            0   1001.7gb       1001.7gb\n"
     ]
    }
   ],
   "source": [
    "!statfile=\"../11B-Steps/snapshots/es-after-us-east-indexing-\"`date +%Y%m%d-%H%M%S`.txt; \\\n",
    " curl \"$ES_SERVER\" > $statfile; \\\n",
    " curl \"$ES_SERVER/_cat/health?v\" >> $statfile ; \\\n",
    " curl \"$ES_SERVER/_cat/nodes?v\" >> $statfile; \\\n",
    " curl \"$ES_SERVER/_cat/indices?v\" >> $statfile; \\\n",
    " cat $statfile"
   ]
  },
  {
   "cell_type": "code",
   "execution_count": null,
   "metadata": {},
   "outputs": [],
   "source": []
  }
 ],
 "metadata": {
  "kernelspec": {
   "display_name": "Python 3",
   "language": "python",
   "name": "python3"
  },
  "language_info": {
   "codemirror_mode": {
    "name": "ipython",
    "version": 3
   },
   "file_extension": ".py",
   "mimetype": "text/x-python",
   "name": "python",
   "nbconvert_exporter": "python",
   "pygments_lexer": "ipython3",
   "version": "3.7.3"
  }
 },
 "nbformat": 4,
 "nbformat_minor": 4
}
