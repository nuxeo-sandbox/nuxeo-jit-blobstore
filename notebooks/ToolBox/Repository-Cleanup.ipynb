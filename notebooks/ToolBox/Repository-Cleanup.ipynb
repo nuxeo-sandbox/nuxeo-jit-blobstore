{
 "cells": [
  {
   "cell_type": "markdown",
   "metadata": {},
   "source": [
    "### Cleanup Repositories\n",
    "\n",
    "Call `Benchmark.cleanRepository` Operation"
   ]
  },
  {
   "cell_type": "code",
   "execution_count": 1,
   "metadata": {},
   "outputs": [
    {
     "name": "stdout",
     "output_type": "stream",
     "text": [
      "{\"entity-type\":\"string\",\"value\":\"85f913a8-dc26-41ab-b0e9-2523e8d4dfae\"}"
     ]
    }
   ],
   "source": [
    "!curl -H 'Content-Type:application/json+nxrequest' -X POST -d '{\"params\":{\"repositoryName\":\"*\"},\"context\":{}}' -u $NXUSER:$NXPWD http://127.0.0.1:8080/nuxeo/api/v1/automation/Benchmark.cleanRepository\n"
   ]
  },
  {
   "cell_type": "markdown",
   "metadata": {},
   "source": [
    "For safety reason, this call should return a token that you need to provide in a second call so that the delete is executed."
   ]
  },
  {
   "cell_type": "code",
   "execution_count": 2,
   "metadata": {},
   "outputs": [
    {
     "name": "stdout",
     "output_type": "stream",
     "text": [
      "{\"entity-type\":\"string\",\"value\":\"Cleaned up MongoDB and ES for default us-east us-west archives.\"}"
     ]
    }
   ],
   "source": [
    "!curl -H 'Content-Type:application/json+nxrequest' -X POST -d '{\"params\":{\"repositoryName\":\"*\", \"confirmationKey\":\"85f913a8-dc26-41ab-b0e9-2523e8d4dfae\"},\"context\":{}}' -u $NXUSER:$NXPWD http://127.0.0.1:8080/nuxeo/api/v1/automation/Benchmark.cleanRepository\n"
   ]
  },
  {
   "cell_type": "markdown",
   "metadata": {},
   "source": [
    "Then you may want to also clear the Audit Index by calling directly ES API\n"
   ]
  },
  {
   "cell_type": "code",
   "execution_count": 6,
   "metadata": {},
   "outputs": [
    {
     "name": "stdout",
     "output_type": "stream",
     "text": [
      "{\"acknowledged\":true}"
     ]
    }
   ],
   "source": [
    "!curl -X DELETE $ES_SERVER/nuxeo-audit -H 'Content-Type: application/json' \n"
   ]
  },
  {
   "cell_type": "markdown",
   "metadata": {},
   "source": [
    "### MongoDB indexes\n",
    "\n",
    " - some index need to be recreated in sparse mode\n",
    " - some index need to be added\n"
   ]
  },
  {
   "cell_type": "code",
   "execution_count": 7,
   "metadata": {},
   "outputs": [],
   "source": [
    "js=\"\"\n",
    "for col in [\"us-east\", \"us-west\", \"archives\"]:\n",
    "    js = js + \"\"\"\n",
    "\n",
    "print(\"************************\");\n",
    "print(\"update collection $COL\");\n",
    "\n",
    "// Switch default indexes in Sparse mode\n",
    "db[\"$COL\"].dropIndex( { \"ecm:versionSeriesId\": 1 });\n",
    "db[\"$COL\"].createIndex( { \"ecm:versionSeriesId\": 1 }, { sparse: true , background: true} );\n",
    "db[\"$COL\"].dropIndex( { \"ecm:proxyTargetId\": 1 });\n",
    "db[\"$COL\"].createIndex( { \"ecm:proxyTargetId\": 1 }, { sparse: true }, { background: true} );\n",
    "db[\"$COL\"].dropIndex( { \"ecm:proxyVersionSeriesId\": 1 });\n",
    "db[\"$COL\"].createIndex( { \"ecm:proxyVersionSeriesId\": 1 }, { sparse: true , background: true} );\n",
    "db[\"$COL\"].dropIndex( { \"ecm:racl\": 1 });\n",
    "db[\"$COL\"].createIndex( { \"ecm:racl\": 1 }, { sparse: true , background: true} );\n",
    "db[\"$COL\"].dropIndex( { \"ecm:retainUntil\": 1 });\n",
    "db[\"$COL\"].createIndex( { \"ecm:retainUntil\": 1 }, { sparse: true , background: true} );\n",
    "db[\"$COL\"].dropIndex( { \"ecm:fulltextJobId\": 1 });\n",
    "db[\"$COL\"].createIndex( { \"ecm:fulltextJobId\": 1 }, { sparse: true , background: true} );\n",
    "db[\"$COL\"].dropIndex( { \"ecm:acp.acl.user\": 1 });\n",
    "db[\"$COL\"].createIndex( { \"ecm:acp.acl.user\": 1 }, { sparse: true , background: true} );\n",
    "db[\"$COL\"].dropIndex( { \"ecm:acp.acl.status\": 1 });\n",
    "db[\"$COL\"].createIndex( { \"ecm:acp.acl.status\": 1 }, { sparse: true , background: true} );\n",
    "db[\"$COL\"].dropIndex( { \"dc:modified_\": -1 });\n",
    "db[\"$COL\"].createIndex( { \"dc:modified\": -1 }, { sparse: true , background: true} );\n",
    "db[\"$COL\"].dropIndex( { \"rend:renditionName\": 1 });\n",
    "db[\"$COL\"].createIndex( { \"rend:renditionName\": 1 }, { sparse: true , background: true} );\n",
    "db[\"$COL\"].dropIndex( { \"rend:sourceId\": 1 });\n",
    "db[\"$COL\"].createIndex( { \"rend:sourceId\": 1 }, { sparse: true , background: true} );\n",
    "db[\"$COL\"].dropIndex( { \"rend:sourceVersionableId\": 1 });\n",
    "db[\"$COL\"].createIndex( { \"rend:sourceVersionableId\": 1 }, { sparse: true , background: true} );\n",
    "db[\"$COL\"].dropIndex( { \"drv:subscriptions.enabled\": 1 });\n",
    "db[\"$COL\"].createIndex( { \"drv:subscriptions.enabled\": 1 }, { sparse: true , background: true} );\n",
    "db[\"$COL\"].dropIndex( { \"collectionMember:collectionIds\": 1 });\n",
    "db[\"$COL\"].createIndex( { \"collectionMember:collectionIds\": 1 }, { sparse: true , background: true} );\n",
    "db[\"$COL\"].dropIndex( { \"nxtag:tags\": 1 });\n",
    "db[\"$COL\"].createIndex( { \"nxtag:tags\": 1 }, { sparse: true , background: true} );\n",
    "db[\"$COL\"].dropIndex( { \"coldstorage:beingRetrieved\": 1 });\n",
    "db[\"$COL\"].createIndex( { \"coldstorage:beingRetrieved\": 1 }, { sparse: true , background: true} );\n",
    "\n",
    "// Application specific index\n",
    "db[\"$COL\"].dropIndex( { \"customer:number\": 1 });\n",
    "db[\"$COL\"].createIndex( { \"customer:number\": 1 }, { sparse: true , background: true} );\n",
    "db[\"$COL\"].dropIndex( { \"account:number\": 1 });\n",
    "db[\"$COL\"].createIndex( { \"account:number\": 1 }, { sparse: true , background: true} );\n",
    "\n",
    "\n",
    "\"\"\".replace(\"$COL\", col)\n",
    "js = js + \"\"\"print(\"************************\"); \n",
    "print(\"All updates completed\");\"\"\"\n",
    "\n",
    "createIndex = open(\"createIndex.js\", \"w\")\n",
    "n = createIndex.write(js)\n",
    "createIndex.close()"
   ]
  },
  {
   "cell_type": "code",
   "execution_count": 8,
   "metadata": {},
   "outputs": [
    {
     "name": "stdout",
     "output_type": "stream",
     "text": [
      "MongoDB shell version v4.4.0\n",
      "connecting to: mongodb://nxbench-2826-bench-11-n-shard-00-00.vzeqm.mongodb.net:27017,nxbench-2826-bench-11-n-shard-00-01.vzeqm.mongodb.net:27017,nxbench-2826-bench-11-n-shard-00-02.vzeqm.mongodb.net:27017/nuxeo?authSource=admin&compressors=disabled&gssapiServiceName=mongodb&replicaSet=atlas-lwol2l-shard-0&ssl=true\n",
      "Implicit session: session { \"id\" : UUID(\"1e181a9e-cfa4-42ee-94aa-16a1ef651ff8\") }\n",
      "MongoDB server version: 4.2.9\n",
      "WARNING: shell and server versions do not match\n",
      "************************\n",
      "update collection us-east\n",
      "************************\n",
      "update collection us-west\n",
      "************************\n",
      "update collection archives\n",
      "************************\n",
      "All updates completed\n"
     ]
    }
   ],
   "source": [
    "!mongo \"mongodb+srv://nxbench-2826-bench-11-n.vzeqm.mongodb.net/nuxeo\" --username $MONGOUSER --password $MONGOPWD createIndex.js"
   ]
  }
 ],
 "metadata": {
  "kernelspec": {
   "display_name": "Python 3",
   "language": "python",
   "name": "python3"
  },
  "language_info": {
   "codemirror_mode": {
    "name": "ipython",
    "version": 3
   },
   "file_extension": ".py",
   "mimetype": "text/x-python",
   "name": "python",
   "nbconvert_exporter": "python",
   "pygments_lexer": "ipython3",
   "version": "3.7.3"
  }
 },
 "nbformat": 4,
 "nbformat_minor": 4
}
