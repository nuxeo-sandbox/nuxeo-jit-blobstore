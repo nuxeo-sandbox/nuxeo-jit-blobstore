{
 "cells": [
  {
   "cell_type": "markdown",
   "metadata": {},
   "source": [
    "### Cleanup Repositories\n",
    "\n",
    "Call `Benchmark.cleanRepository` Operation"
   ]
  },
  {
   "cell_type": "code",
   "execution_count": 9,
   "metadata": {},
   "outputs": [
    {
     "name": "stdout",
     "output_type": "stream",
     "text": [
      "{\"entity-type\":\"string\",\"value\":\"bf8bd7a6-551c-434e-b7db-3144d290d6e8\"}"
     ]
    }
   ],
   "source": [
    "!curl -H 'Content-Type:application/json+nxrequest' -X POST -d '{\"params\":{\"repositoryName\":\"*\"},\"context\":{}}' -u $NXUSER:$NXPWD http://127.0.0.1:8080/nuxeo/api/v1/automation/Benchmark.cleanRepository\n"
   ]
  },
  {
   "cell_type": "markdown",
   "metadata": {},
   "source": [
    "For safety reason, this call should return a token that you need to provide in a second call so that the delete is executed."
   ]
  },
  {
   "cell_type": "code",
   "execution_count": 10,
   "metadata": {},
   "outputs": [
    {
     "name": "stdout",
     "output_type": "stream",
     "text": [
      "{\"entity-type\":\"string\",\"value\":\"Cleaned up MongoDB and ES for default us-east us-west archives.\"}"
     ]
    }
   ],
   "source": [
    "!curl -H 'Content-Type:application/json+nxrequest' -X POST -d '{\"params\":{\"repositoryName\":\"*\", \"confirmationKey\":\"bf8bd7a6-551c-434e-b7db-3144d290d6e8\"},\"context\":{}}' -u $NXUSER:$NXPWD http://127.0.0.1:8080/nuxeo/api/v1/automation/Benchmark.cleanRepository\n"
   ]
  },
  {
   "cell_type": "markdown",
   "metadata": {},
   "source": [
    "Then you may want to also clear the Audit Index by calling directly ES API\n"
   ]
  },
  {
   "cell_type": "code",
   "execution_count": 6,
   "metadata": {},
   "outputs": [
    {
     "name": "stdout",
     "output_type": "stream",
     "text": [
      "{\"acknowledged\":true}"
     ]
    }
   ],
   "source": [
    "!curl -X DELETE $ES_SERVER/nuxeo-audit -H 'Content-Type: application/json' \n"
   ]
  },
  {
   "cell_type": "markdown",
   "metadata": {},
   "source": [
    "### MongoDB indexes\n",
    "\n",
    " - some index need to be recreated in sparse mode\n",
    " - some index need to be added\n"
   ]
  },
  {
   "cell_type": "code",
   "execution_count": 11,
   "metadata": {},
   "outputs": [],
   "source": [
    "js=\"\"\n",
    "for col in [\"us-east\", \"us-west\", \"archives\"]:\n",
    "    js = js + \"\"\"\n",
    "\n",
    "print(\"************************\");\n",
    "print(\"update collection $COL\");\n",
    "\n",
    "// Switch default indexes in Sparse mode\n",
    "db[\"$COL\"].dropIndex( { \"ecm:versionSeriesId\": 1 });\n",
    "db[\"$COL\"].createIndex( { \"ecm:versionSeriesId\": 1 }, { sparse: true , background: true} );\n",
    "db[\"$COL\"].dropIndex( { \"ecm:proxyTargetId\": 1 });\n",
    "db[\"$COL\"].createIndex( { \"ecm:proxyTargetId\": 1 }, { sparse: true }, { background: true} );\n",
    "db[\"$COL\"].dropIndex( { \"ecm:proxyVersionSeriesId\": 1 });\n",
    "db[\"$COL\"].createIndex( { \"ecm:proxyVersionSeriesId\": 1 }, { sparse: true , background: true} );\n",
    "db[\"$COL\"].dropIndex( { \"ecm:racl\": 1 });\n",
    "db[\"$COL\"].createIndex( { \"ecm:racl\": 1 }, { sparse: true , background: true} );\n",
    "db[\"$COL\"].dropIndex( { \"ecm:retainUntil\": 1 });\n",
    "db[\"$COL\"].createIndex( { \"ecm:retainUntil\": 1 }, { sparse: true , background: true} );\n",
    "db[\"$COL\"].dropIndex( { \"ecm:fulltextJobId\": 1 });\n",
    "db[\"$COL\"].createIndex( { \"ecm:fulltextJobId\": 1 }, { sparse: true , background: true} );\n",
    "db[\"$COL\"].dropIndex( { \"ecm:acp.acl.user\": 1 });\n",
    "db[\"$COL\"].createIndex( { \"ecm:acp.acl.user\": 1 }, { sparse: true , background: true} );\n",
    "db[\"$COL\"].dropIndex( { \"ecm:acp.acl.status\": 1 });\n",
    "db[\"$COL\"].createIndex( { \"ecm:acp.acl.status\": 1 }, { sparse: true , background: true} );\n",
    "db[\"$COL\"].dropIndex( { \"dc:modified_\": -1 });\n",
    "db[\"$COL\"].createIndex( { \"dc:modified\": -1 }, { sparse: true , background: true} );\n",
    "db[\"$COL\"].dropIndex( { \"rend:renditionName\": 1 });\n",
    "db[\"$COL\"].createIndex( { \"rend:renditionName\": 1 }, { sparse: true , background: true} );\n",
    "db[\"$COL\"].dropIndex( { \"rend:sourceId\": 1 });\n",
    "db[\"$COL\"].createIndex( { \"rend:sourceId\": 1 }, { sparse: true , background: true} );\n",
    "db[\"$COL\"].dropIndex( { \"rend:sourceVersionableId\": 1 });\n",
    "db[\"$COL\"].createIndex( { \"rend:sourceVersionableId\": 1 }, { sparse: true , background: true} );\n",
    "db[\"$COL\"].dropIndex( { \"drv:subscriptions.enabled\": 1 });\n",
    "db[\"$COL\"].createIndex( { \"drv:subscriptions.enabled\": 1 }, { sparse: true , background: true} );\n",
    "db[\"$COL\"].dropIndex( { \"collectionMember:collectionIds\": 1 });\n",
    "db[\"$COL\"].createIndex( { \"collectionMember:collectionIds\": 1 }, { sparse: true , background: true} );\n",
    "db[\"$COL\"].dropIndex( { \"nxtag:tags\": 1 });\n",
    "db[\"$COL\"].createIndex( { \"nxtag:tags\": 1 }, { sparse: true , background: true} );\n",
    "db[\"$COL\"].dropIndex( { \"coldstorage:beingRetrieved\": 1 });\n",
    "db[\"$COL\"].createIndex( { \"coldstorage:beingRetrieved\": 1 }, { sparse: true , background: true} );\n",
    "\n",
    "// Application specific index\n",
    "db[\"$COL\"].dropIndex( { \"customer:number\": 1 });\n",
    "db[\"$COL\"].createIndex( { \"customer:number\": 1 }, { sparse: true , background: true} );\n",
    "db[\"$COL\"].dropIndex( { \"account:number\": 1 });\n",
    "db[\"$COL\"].createIndex( { \"account:number\": 1 }, { sparse: true , background: true} );\n",
    "\n",
    "\n",
    "\"\"\".replace(\"$COL\", col)\n",
    "js = js + \"\"\"print(\"************************\"); \n",
    "print(\"All updates completed\");\"\"\"\n",
    "\n",
    "createIndex = open(\"createIndex.js\", \"w\")\n",
    "n = createIndex.write(js)\n",
    "createIndex.close()"
   ]
  },
  {
   "cell_type": "code",
   "execution_count": 13,
   "metadata": {},
   "outputs": [
    {
     "name": "stdout",
     "output_type": "stream",
     "text": [
      "MongoDB shell version v4.4.0\n",
      "connecting to: mongodb://nxbench-2826-bench-11-n-shard-00-01.vzeqm.mongodb.net:27017,nxbench-2826-bench-11-n-shard-00-02.vzeqm.mongodb.net:27017,nxbench-2826-bench-11-n-shard-00-00.vzeqm.mongodb.net:27017/nuxeo?authSource=admin&compressors=disabled&gssapiServiceName=mongodb&replicaSet=atlas-lwol2l-shard-0&ssl=true\n",
      "Implicit session: session { \"id\" : UUID(\"4f7b2c3f-dfbb-4091-a851-79118d442b4e\") }\n",
      "MongoDB server version: 4.2.9\n",
      "WARNING: shell and server versions do not match\n",
      "************************\n",
      "update collection us-east\n",
      "************************\n",
      "update collection us-west\n",
      "************************\n",
      "update collection archives\n",
      "************************\n",
      "All updates completed\n"
     ]
    }
   ],
   "source": [
    "!mongo \"mongodb+srv://nxbench-2826-bench-11-n.vzeqm.mongodb.net/nuxeo\" --username $MONGOUSER --password $MONGOPWD createIndex.js"
   ]
  },
  {
   "cell_type": "code",
   "execution_count": 18,
   "metadata": {},
   "outputs": [],
   "source": [
    "js=\"\"\n",
    "\n",
    "col = \"us-west\"\n",
    "js = js + \"\"\"\n",
    "\n",
    "print(\"************************\");\n",
    "print(\"update collection $COL\");\n",
    "\n",
    "// Switch default indexes in Sparse mode\n",
    "db[\"$COL\"].dropIndex( { \"ecm:versionSeriesId\": 1 });\n",
    "db[\"$COL\"].createIndex( { \"ecm:versionSeriesId\": 1 }, { sparse: true , background: true} );\n",
    "db[\"$COL\"].dropIndex( { \"ecm:proxyTargetId\": 1 });\n",
    "db[\"$COL\"].createIndex( { \"ecm:proxyTargetId\": 1 }, { sparse: true }, { background: true} );\n",
    "db[\"$COL\"].dropIndex( { \"ecm:proxyVersionSeriesId\": 1 });\n",
    "db[\"$COL\"].createIndex( { \"ecm:proxyVersionSeriesId\": 1 }, { sparse: true , background: true} );\n",
    "db[\"$COL\"].dropIndex( { \"ecm:racl\": 1 });\n",
    "db[\"$COL\"].createIndex( { \"ecm:racl\": 1 }, { sparse: true , background: true} );\n",
    "db[\"$COL\"].dropIndex( { \"ecm:retainUntil\": 1 });\n",
    "db[\"$COL\"].createIndex( { \"ecm:retainUntil\": 1 }, { sparse: true , background: true} );\n",
    "db[\"$COL\"].dropIndex( { \"ecm:fulltextJobId\": 1 });\n",
    "db[\"$COL\"].createIndex( { \"ecm:fulltextJobId\": 1 }, { sparse: true , background: true} );\n",
    "db[\"$COL\"].dropIndex( { \"ecm:acp.acl.user\": 1 });\n",
    "db[\"$COL\"].createIndex( { \"ecm:acp.acl.user\": 1 }, { sparse: true , background: true} );\n",
    "db[\"$COL\"].dropIndex( { \"ecm:acp.acl.status\": 1 });\n",
    "db[\"$COL\"].createIndex( { \"ecm:acp.acl.status\": 1 }, { sparse: true , background: true} );\n",
    "db[\"$COL\"].dropIndex( { \"dc:modified_\": -1 });\n",
    "db[\"$COL\"].createIndex( { \"dc:modified\": -1 }, { sparse: true , background: true} );\n",
    "db[\"$COL\"].dropIndex( { \"rend:renditionName\": 1 });\n",
    "db[\"$COL\"].createIndex( { \"rend:renditionName\": 1 }, { sparse: true , background: true} );\n",
    "db[\"$COL\"].dropIndex( { \"rend:sourceId\": 1 });\n",
    "db[\"$COL\"].createIndex( { \"rend:sourceId\": 1 }, { sparse: true , background: true} );\n",
    "db[\"$COL\"].dropIndex( { \"rend:sourceVersionableId\": 1 });\n",
    "db[\"$COL\"].createIndex( { \"rend:sourceVersionableId\": 1 }, { sparse: true , background: true} );\n",
    "db[\"$COL\"].dropIndex( { \"drv:subscriptions.enabled\": 1 });\n",
    "db[\"$COL\"].createIndex( { \"drv:subscriptions.enabled\": 1 }, { sparse: true , background: true} );\n",
    "db[\"$COL\"].dropIndex( { \"collectionMember:collectionIds\": 1 });\n",
    "db[\"$COL\"].createIndex( { \"collectionMember:collectionIds\": 1 }, { sparse: true , background: true} );\n",
    "db[\"$COL\"].dropIndex( { \"nxtag:tags\": 1 });\n",
    "db[\"$COL\"].createIndex( { \"nxtag:tags\": 1 }, { sparse: true , background: true} );\n",
    "db[\"$COL\"].dropIndex( { \"coldstorage:beingRetrieved\": 1 });\n",
    "db[\"$COL\"].createIndex( { \"coldstorage:beingRetrieved\": 1 }, { sparse: true , background: true} );\n",
    "\n",
    "// Application specific index\n",
    "db[\"$COL\"].dropIndex( { \"customer:number\": 1 });\n",
    "db[\"$COL\"].createIndex( { \"customer:number\": 1 }, { sparse: true , background: true} );\n",
    "db[\"$COL\"].dropIndex( { \"account:number\": 1 });\n",
    "db[\"$COL\"].createIndex( { \"account:number\": 1 }, { sparse: true , background: true} );\n",
    "\n",
    "\n",
    "\"\"\".replace(\"$COL\", col)\n",
    "js = js + \"\"\"print(\"************************\"); \n",
    "print(\"All updates completed\");\"\"\"\n",
    "\n",
    "createIndex = open(\"createIndexOneCollection.js\", \"w\")\n",
    "n = createIndex.write(js)\n",
    "createIndex.close()"
   ]
  },
  {
   "cell_type": "code",
   "execution_count": 19,
   "metadata": {},
   "outputs": [
    {
     "name": "stdout",
     "output_type": "stream",
     "text": [
      "\r\n",
      "\r\n",
      "print(\"************************\");\r\n",
      "print(\"update collection us-west\");\r\n",
      "\r\n",
      "// Switch default indexes in Sparse mode\r\n",
      "db[\"us-west\"].dropIndex( { \"ecm:versionSeriesId\": 1 });\r\n",
      "db[\"us-west\"].createIndex( { \"ecm:versionSeriesId\": 1 }, { sparse: true , background: true} );\r\n",
      "db[\"us-west\"].dropIndex( { \"ecm:proxyTargetId\": 1 });\r\n",
      "db[\"us-west\"].createIndex( { \"ecm:proxyTargetId\": 1 }, { sparse: true }, { background: true} );\r\n",
      "db[\"us-west\"].dropIndex( { \"ecm:proxyVersionSeriesId\": 1 });\r\n",
      "db[\"us-west\"].createIndex( { \"ecm:proxyVersionSeriesId\": 1 }, { sparse: true , background: true} );\r\n",
      "db[\"us-west\"].dropIndex( { \"ecm:racl\": 1 });\r\n",
      "db[\"us-west\"].createIndex( { \"ecm:racl\": 1 }, { sparse: true , background: true} );\r\n",
      "db[\"us-west\"].dropIndex( { \"ecm:retainUntil\": 1 });\r\n",
      "db[\"us-west\"].createIndex( { \"ecm:retainUntil\": 1 }, { sparse: true , background: true} );\r\n",
      "db[\"us-west\"].dropIndex( { \"ecm:fulltextJobId\": 1 });\r\n",
      "db[\"us-west\"].createIndex( { \"ecm:fulltextJobId\": 1 }, { sparse: true , background: true} );\r\n",
      "db[\"us-west\"].dropIndex( { \"ecm:acp.acl.user\": 1 });\r\n",
      "db[\"us-west\"].createIndex( { \"ecm:acp.acl.user\": 1 }, { sparse: true , background: true} );\r\n",
      "db[\"us-west\"].dropIndex( { \"ecm:acp.acl.status\": 1 });\r\n",
      "db[\"us-west\"].createIndex( { \"ecm:acp.acl.status\": 1 }, { sparse: true , background: true} );\r\n",
      "db[\"us-west\"].dropIndex( { \"dc:modified_\": -1 });\r\n",
      "db[\"us-west\"].createIndex( { \"dc:modified\": -1 }, { sparse: true , background: true} );\r\n",
      "db[\"us-west\"].dropIndex( { \"rend:renditionName\": 1 });\r\n",
      "db[\"us-west\"].createIndex( { \"rend:renditionName\": 1 }, { sparse: true , background: true} );\r\n",
      "db[\"us-west\"].dropIndex( { \"rend:sourceId\": 1 });\r\n",
      "db[\"us-west\"].createIndex( { \"rend:sourceId\": 1 }, { sparse: true , background: true} );\r\n",
      "db[\"us-west\"].dropIndex( { \"rend:sourceVersionableId\": 1 });\r\n",
      "db[\"us-west\"].createIndex( { \"rend:sourceVersionableId\": 1 }, { sparse: true , background: true} );\r\n",
      "db[\"us-west\"].dropIndex( { \"drv:subscriptions.enabled\": 1 });\r\n",
      "db[\"us-west\"].createIndex( { \"drv:subscriptions.enabled\": 1 }, { sparse: true , background: true} );\r\n",
      "db[\"us-west\"].dropIndex( { \"collectionMember:collectionIds\": 1 });\r\n",
      "db[\"us-west\"].createIndex( { \"collectionMember:collectionIds\": 1 }, { sparse: true , background: true} );\r\n",
      "db[\"us-west\"].dropIndex( { \"nxtag:tags\": 1 });\r\n",
      "db[\"us-west\"].createIndex( { \"nxtag:tags\": 1 }, { sparse: true , background: true} );\r\n",
      "db[\"us-west\"].dropIndex( { \"coldstorage:beingRetrieved\": 1 });\r\n",
      "db[\"us-west\"].createIndex( { \"coldstorage:beingRetrieved\": 1 }, { sparse: true , background: true} );\r\n",
      "\r\n",
      "// Application specific index\r\n",
      "db[\"us-west\"].dropIndex( { \"customer:number\": 1 });\r\n",
      "db[\"us-west\"].createIndex( { \"customer:number\": 1 }, { sparse: true , background: true} );\r\n",
      "db[\"us-west\"].dropIndex( { \"account:number\": 1 });\r\n",
      "db[\"us-west\"].createIndex( { \"account:number\": 1 }, { sparse: true , background: true} );\r\n",
      "\r\n",
      "\r\n",
      "print(\"************************\"); \r\n",
      "print(\"All updates completed\");"
     ]
    }
   ],
   "source": [
    "!cat createIndexOneCollection.js"
   ]
  },
  {
   "cell_type": "code",
   "execution_count": 20,
   "metadata": {},
   "outputs": [
    {
     "name": "stdout",
     "output_type": "stream",
     "text": [
      "MongoDB shell version v4.4.0\n",
      "connecting to: mongodb://nxbench-2826-bench-11-r-shard-00-01.vzeqm.mongodb.net:27017,nxbench-2826-bench-11-r-shard-00-02.vzeqm.mongodb.net:27017,nxbench-2826-bench-11-r-shard-00-00.vzeqm.mongodb.net:27017/nuxeo?authSource=admin&compressors=disabled&gssapiServiceName=mongodb&replicaSet=atlas-880fxr-shard-0&ssl=true\n",
      "Implicit session: session { \"id\" : UUID(\"93c9a952-ca96-495f-9903-b2499dbf3ec6\") }\n",
      "MongoDB server version: 4.2.9\n",
      "WARNING: shell and server versions do not match\n",
      "************************\n",
      "update collection us-west\n",
      "************************\n",
      "All updates completed\n"
     ]
    }
   ],
   "source": [
    "# run index update on us-west on the target server\n",
    "!mongo \"mongodb+srv://nxbench-2826-bench-11-r.vzeqm.mongodb.net/nuxeo\" --username $MONGOUSER --password $MONGOPWD createIndexOneCollection.js"
   ]
  },
  {
   "cell_type": "code",
   "execution_count": null,
   "metadata": {},
   "outputs": [],
   "source": []
  }
 ],
 "metadata": {
  "kernelspec": {
   "display_name": "Python 3",
   "language": "python",
   "name": "python3"
  },
  "language_info": {
   "codemirror_mode": {
    "name": "ipython",
    "version": 3
   },
   "file_extension": ".py",
   "mimetype": "text/x-python",
   "name": "python",
   "nbconvert_exporter": "python",
   "pygments_lexer": "ipython3",
   "version": "3.7.3"
  }
 },
 "nbformat": 4,
 "nbformat_minor": 4
}
