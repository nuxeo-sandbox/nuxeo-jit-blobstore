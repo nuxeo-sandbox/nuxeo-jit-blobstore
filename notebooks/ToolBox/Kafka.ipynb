{
 "cells": [
  {
   "cell_type": "markdown",
   "metadata": {},
   "source": [
    "### Changing retention on Kafka"
   ]
  },
  {
   "cell_type": "code",
   "execution_count": 4,
   "metadata": {},
   "outputs": [
    {
     "name": "stdout",
     "output_type": "stream",
     "text": [
      "5184000000\n"
     ]
    }
   ],
   "source": [
    "# 60 days\n",
    "ms=60*24*3600*1000\n",
    "print(ms)"
   ]
  },
  {
   "cell_type": "code",
   "execution_count": 5,
   "metadata": {},
   "outputs": [],
   "source": [
    "script = \"\"\"#!/bin/bash\n",
    "\n",
    "ms=5184000000\n",
    "\n",
    "for topic in accounts-us-east accounts-us-west customers-us-east customers-us-west statements_archive0 statements_archive1 statements_archive2 statements_archive3 statements_archive4 statements_live-us-east statements_live-us-west states-hierarchy-us-east states-hierarchy-us-west\n",
    "\n",
    "do\n",
    "  TOPICNAME=nuxeo-import-$topic\n",
    "  \n",
    "  echo \"##############################\"\n",
    "  echo update retention on topic $TOPICNAME\n",
    "  kafka-configs.sh --zookeeper z-1.nxbench-2826-bench-11.yx3zdh.c4.kafka.us-east-1.amazonaws.com:2181 --command-config ~/kafka-ssl.properties --alter --entity-type topics --entity-name $TOPICNAME --add-config retention.ms=$ms   \n",
    "\n",
    "done\n",
    "\"\"\"\n",
    "updateRetention = open(\"updateRetention.sh\", \"w\")\n",
    "n = updateRetention.write(script)\n",
    "updateRetention.close()"
   ]
  },
  {
   "cell_type": "code",
   "execution_count": 7,
   "metadata": {
    "scrolled": true
   },
   "outputs": [
    {
     "name": "stdout",
     "output_type": "stream",
     "text": [
      "\n",
      "##############################\n",
      "update retention on topic nuxeo-import-accounts-us-east\n",
      "Completed Updating config for entity: topic 'nuxeo-import-accounts-us-east'.\n",
      "##############################\n",
      "update retention on topic nuxeo-import-accounts-us-west\n",
      "Completed Updating config for entity: topic 'nuxeo-import-accounts-us-west'.\n",
      "##############################\n",
      "update retention on topic nuxeo-import-customers-us-east\n",
      "Completed Updating config for entity: topic 'nuxeo-import-customers-us-east'.\n",
      "##############################\n",
      "update retention on topic nuxeo-import-customers-us-west\n",
      "Completed Updating config for entity: topic 'nuxeo-import-customers-us-west'.\n",
      "##############################\n",
      "update retention on topic nuxeo-import-statements_archive0\n",
      "Completed Updating config for entity: topic 'nuxeo-import-statements_archive0'.\n",
      "##############################\n",
      "update retention on topic nuxeo-import-statements_archive1\n",
      "Completed Updating config for entity: topic 'nuxeo-import-statements_archive1'.\n",
      "##############################\n",
      "update retention on topic nuxeo-import-statements_archive2\n",
      "Completed Updating config for entity: topic 'nuxeo-import-statements_archive2'.\n",
      "##############################\n",
      "update retention on topic nuxeo-import-statements_archive3\n",
      "Completed Updating config for entity: topic 'nuxeo-import-statements_archive3'.\n",
      "##############################\n",
      "update retention on topic nuxeo-import-statements_archive4\n",
      "Completed Updating config for entity: topic 'nuxeo-import-statements_archive4'.\n",
      "##############################\n",
      "update retention on topic nuxeo-import-statements_live-us-east\n",
      "Completed Updating config for entity: topic 'nuxeo-import-statements_live-us-east'.\n",
      "##############################\n",
      "update retention on topic nuxeo-import-statements_live-us-west\n",
      "Completed Updating config for entity: topic 'nuxeo-import-statements_live-us-west'.\n",
      "##############################\n",
      "update retention on topic nuxeo-import-states-hierarchy-us-east\n",
      "Completed Updating config for entity: topic 'nuxeo-import-states-hierarchy-us-east'.\n",
      "##############################\n",
      "update retention on topic nuxeo-import-states-hierarchy-us-west\n",
      "Completed Updating config for entity: topic 'nuxeo-import-states-hierarchy-us-west'.\n",
      "\n"
     ]
    }
   ],
   "source": [
    "!/updateRetention.sh"
   ]
  },
  {
   "cell_type": "code",
   "execution_count": null,
   "metadata": {},
   "outputs": [],
   "source": []
  }
 ],
 "metadata": {
  "kernelspec": {
   "display_name": "Python 3",
   "language": "python",
   "name": "python3"
  },
  "language_info": {
   "codemirror_mode": {
    "name": "ipython",
    "version": 3
   },
   "file_extension": ".py",
   "mimetype": "text/x-python",
   "name": "python",
   "nbconvert_exporter": "python",
   "pygments_lexer": "ipython3",
   "version": "3.7.3"
  }
 },
 "nbformat": 4,
 "nbformat_minor": 4
}
