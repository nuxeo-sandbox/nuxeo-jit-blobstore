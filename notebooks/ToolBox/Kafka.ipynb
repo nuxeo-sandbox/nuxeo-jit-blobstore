{
 "cells": [
  {
   "cell_type": "markdown",
   "metadata": {},
   "source": [
    "### Generate the command-config file\n",
    "\n",
    "We need a `kafka-ssl.properties` that will be passed to some of the Kafka CLI"
   ]
  },
  {
   "cell_type": "code",
   "execution_count": 1,
   "metadata": {},
   "outputs": [
    {
     "name": "stdout",
     "output_type": "stream",
     "text": [
      "bootstrap.servers=b-2.nxbench-2826-bench-11.yx3zdh.c4.kafka.us-east-1.amazonaws.com:9094,b-1.nxbench-2826-bench-11.yx3zdh.c4.kafka.us-east-1.amazonaws.com:9094\n",
      "security.protocol=SSL\n",
      "ssl.truststore.location=/nxbench/nuxeo-conf/KeyStore/kafka.client.truststore.jks\n",
      "ssl.truststore.password=hwza5iQU51VEysGJ\n",
      "ssl.truststore.type=JKS\n",
      "consumer.security.protocol = SSL\n"
     ]
    }
   ],
   "source": [
    "%%bash\n",
    "cat <<EOT > kafka-ssl.properties\n",
    "bootstrap.servers=$KAFKA_BOOTSTRAP\n",
    "security.protocol=SSL\n",
    "ssl.truststore.location=$KAFKA_TRUSTSTORE_LOCATION\n",
    "ssl.truststore.password=$KAFKA_TRUSTSTORE_PWD\n",
    "ssl.truststore.type=JKS\n",
    "consumer.security.protocol = SSL\n",
    "EOT\n",
    "#cat kafka-ssl.properties"
   ]
  },
  {
   "cell_type": "markdown",
   "metadata": {},
   "source": [
    "### List existing topics"
   ]
  },
  {
   "cell_type": "code",
   "execution_count": 2,
   "metadata": {},
   "outputs": [
    {
     "name": "stdout",
     "output_type": "stream",
     "text": [
      "[2020-09-09 18:21:28,178] WARN The configuration 'consumer.security.protocol' was supplied but isn't a known config. (org.apache.kafka.clients.admin.AdminClientConfig)\n",
      "__consumer_offsets\n",
      "nuxeo-audit-audit\n",
      "nuxeo-bulk-automation\n",
      "nuxeo-bulk-bulkIndex\n",
      "nuxeo-bulk-command\n",
      "nuxeo-bulk-csvExport\n",
      "nuxeo-bulk-deletion\n",
      "nuxeo-bulk-done\n",
      "nuxeo-bulk-exposeBlob\n",
      "nuxeo-bulk-index\n",
      "nuxeo-bulk-makeBlob\n",
      "nuxeo-bulk-recomputeThumbnails\n",
      "nuxeo-bulk-recomputeViews\n",
      "nuxeo-bulk-removeProxy\n",
      "nuxeo-bulk-setProperties\n",
      "nuxeo-bulk-setSystemProperties\n",
      "nuxeo-bulk-sortBlob\n",
      "nuxeo-bulk-status\n",
      "nuxeo-bulk-trash\n",
      "nuxeo-bulk-zipBlob\n",
      "nuxeo-import-accounts-us-east\n",
      "nuxeo-import-accounts-us-west\n",
      "nuxeo-import-customers-us-east\n",
      "nuxeo-import-customers-us-west\n",
      "nuxeo-import-statements_archive0\n",
      "nuxeo-import-statements_archive1\n",
      "nuxeo-import-statements_archive2\n",
      "nuxeo-import-statements_archive3\n",
      "nuxeo-import-statements_archive4\n",
      "nuxeo-import-statements_archive5\n",
      "nuxeo-import-statements_live-us-east\n",
      "nuxeo-import-statements_live-us-west\n",
      "nuxeo-import-states-hierarchy-us-east\n",
      "nuxeo-import-states-hierarchy-us-west\n",
      "nuxeo-input-null\n",
      "nuxeo-pubsub-pubsub\n",
      "nuxeo-work-audit\n",
      "nuxeo-work-blobs\n",
      "nuxeo-work-collections\n",
      "nuxeo-work-csvImporter\n",
      "nuxeo-work-default\n",
      "nuxeo-work-dlq\n",
      "nuxeo-work-elasticSearchIndexing\n",
      "nuxeo-work-escalation\n",
      "nuxeo-work-fulltextUpdater\n",
      "nuxeo-work-permissionsPurge\n",
      "nuxeo-work-pictureViewsGeneration\n",
      "nuxeo-work-renditionBuilder\n",
      "nuxeo-work-updateACEStatus\n",
      "nuxeo-work-videoConversion\n"
     ]
    }
   ],
   "source": [
    "!kafka-topics.sh -bootstrap-server $KAFKA_BOOTSTRAP --command-config kafka-ssl.properties --list"
   ]
  },
  {
   "cell_type": "markdown",
   "metadata": {},
   "source": [
    "### Changing retention on Kafka"
   ]
  },
  {
   "cell_type": "code",
   "execution_count": 4,
   "metadata": {},
   "outputs": [
    {
     "name": "stdout",
     "output_type": "stream",
     "text": [
      "5184000000\n"
     ]
    }
   ],
   "source": [
    "# 60 days\n",
    "ms=60*24*3600*1000\n",
    "print(ms)"
   ]
  },
  {
   "cell_type": "code",
   "execution_count": 5,
   "metadata": {},
   "outputs": [],
   "source": [
    "script = \"\"\"#!/bin/bash\n",
    "\n",
    "ms=5184000000\n",
    "\n",
    "for topic in accounts-us-east accounts-us-west customers-us-east customers-us-west statements_archive0 statements_archive1 statements_archive2 statements_archive3 statements_archive4 statements_archive5 statements_live-us-east statements_live-us-west states-hierarchy-us-east states-hierarchy-us-west\n",
    "\n",
    "do\n",
    "  TOPICNAME=nuxeo-import-$topic\n",
    "  \n",
    "  echo \"##############################\"\n",
    "  echo update retention on topic $TOPICNAME\n",
    "  kafka-configs.sh --zookeeper $KAFKA_ZK --command-config kafka-ssl.properties --alter --entity-type topics --entity-name $TOPICNAME --add-config retention.ms=$ms   \n",
    "\n",
    "done\n",
    "\"\"\"\n",
    "updateRetention = open(\"updateRetention.sh\", \"w\")\n",
    "n = updateRetention.write(script)\n",
    "updateRetention.close()"
   ]
  },
  {
   "cell_type": "code",
   "execution_count": 7,
   "metadata": {
    "scrolled": true
   },
   "outputs": [
    {
     "name": "stdout",
     "output_type": "stream",
     "text": [
      "\n",
      "##############################\n",
      "update retention on topic nuxeo-import-accounts-us-east\n",
      "Completed Updating config for entity: topic 'nuxeo-import-accounts-us-east'.\n",
      "##############################\n",
      "update retention on topic nuxeo-import-accounts-us-west\n",
      "Completed Updating config for entity: topic 'nuxeo-import-accounts-us-west'.\n",
      "##############################\n",
      "update retention on topic nuxeo-import-customers-us-east\n",
      "Completed Updating config for entity: topic 'nuxeo-import-customers-us-east'.\n",
      "##############################\n",
      "update retention on topic nuxeo-import-customers-us-west\n",
      "Completed Updating config for entity: topic 'nuxeo-import-customers-us-west'.\n",
      "##############################\n",
      "update retention on topic nuxeo-import-statements_archive0\n",
      "Completed Updating config for entity: topic 'nuxeo-import-statements_archive0'.\n",
      "##############################\n",
      "update retention on topic nuxeo-import-statements_archive1\n",
      "Completed Updating config for entity: topic 'nuxeo-import-statements_archive1'.\n",
      "##############################\n",
      "update retention on topic nuxeo-import-statements_archive2\n",
      "Completed Updating config for entity: topic 'nuxeo-import-statements_archive2'.\n",
      "##############################\n",
      "update retention on topic nuxeo-import-statements_archive3\n",
      "Completed Updating config for entity: topic 'nuxeo-import-statements_archive3'.\n",
      "##############################\n",
      "update retention on topic nuxeo-import-statements_archive4\n",
      "Completed Updating config for entity: topic 'nuxeo-import-statements_archive4'.\n",
      "##############################\n",
      "update retention on topic nuxeo-import-statements_live-us-east\n",
      "Completed Updating config for entity: topic 'nuxeo-import-statements_live-us-east'.\n",
      "##############################\n",
      "update retention on topic nuxeo-import-statements_live-us-west\n",
      "Completed Updating config for entity: topic 'nuxeo-import-statements_live-us-west'.\n",
      "##############################\n",
      "update retention on topic nuxeo-import-states-hierarchy-us-east\n",
      "Completed Updating config for entity: topic 'nuxeo-import-states-hierarchy-us-east'.\n",
      "##############################\n",
      "update retention on topic nuxeo-import-states-hierarchy-us-west\n",
      "Completed Updating config for entity: topic 'nuxeo-import-states-hierarchy-us-west'.\n",
      "\n"
     ]
    }
   ],
   "source": [
    "!/updateRetention.sh"
   ]
  },
  {
   "cell_type": "code",
   "execution_count": null,
   "metadata": {},
   "outputs": [],
   "source": []
  }
 ],
 "metadata": {
  "kernelspec": {
   "display_name": "Python 3",
   "language": "python",
   "name": "python3"
  },
  "language_info": {
   "codemirror_mode": {
    "name": "ipython",
    "version": 3
   },
   "file_extension": ".py",
   "mimetype": "text/x-python",
   "name": "python",
   "nbconvert_exporter": "python",
   "pygments_lexer": "ipython3",
   "version": "3.7.3"
  }
 },
 "nbformat": 4,
 "nbformat_minor": 4
}
