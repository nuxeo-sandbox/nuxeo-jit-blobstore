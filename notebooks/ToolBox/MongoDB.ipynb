{
 "cells": [
  {
   "cell_type": "code",
   "execution_count": 116,
   "metadata": {},
   "outputs": [],
   "source": [
    "col=\"archives\";\n",
    "js=\"\"\"\n",
    "print(\"{ 'dbinfo':\")\n",
    "printjson(db.runCommand( { serverStatus: 1,  repl: 1 } ))\n",
    "print(\", 'collectionInfo':\")\n",
    "printjson(db['$COL'].stats({\"scale\": 1024, \"indexDetails\": true}))\n",
    "print(\"}\")\n",
    "\"\"\".replace(\"$COL\", col)\n",
    "script = open( col + \"-mongodb-stats.js\", \"w\")\n",
    "n = script.write(js)\n",
    "script.close()"
   ]
  },
  {
   "cell_type": "code",
   "execution_count": 39,
   "metadata": {},
   "outputs": [],
   "source": [
    "!mongo \"mongodb+srv://nxbench-2826-bench-11-r.vzeqm.mongodb.net/nuxeo\" --quiet --username $MONGOUSER --password $MONGOPWD tmp.js > ../11B-Steps/snapshots/\"mongodb-us-west-\"`date +%Y%m%d-%H%M%S`.bson"
   ]
  },
  {
   "cell_type": "code",
   "execution_count": 41,
   "metadata": {},
   "outputs": [],
   "source": [
    "!mongo \"mongodb+srv://nxbench-2826-bench-11-n.vzeqm.mongodb.net/nuxeo\" --quiet --username $MONGOUSER --password $MONGOPWD tmp.js > ../11B-Steps/snapshots/\"mongodb-us-east-\"`date +%Y%m%d-%H%M%S`.bson"
   ]
  },
  {
   "cell_type": "code",
   "execution_count": 36,
   "metadata": {},
   "outputs": [
    {
     "name": "stdout",
     "output_type": "stream",
     "text": [
      "mongodb-us-west-20200915-195317.csv\n"
     ]
    }
   ],
   "source": [
    "! echo \"mongodb-$col-\"`date +%Y%m%d-%H%M%S`.json"
   ]
  },
  {
   "cell_type": "code",
   "execution_count": 30,
   "metadata": {},
   "outputs": [
    {
     "name": "stdout",
     "output_type": "stream",
     "text": [
      "\n",
      "\n",
      "printjson(db.runCommand( { serverStatus: 1,  repl: 1 } ))\n",
      "\n",
      "print(\"display statistic for collection us-west\")\n",
      "//show collections\n",
      "db['us-west'].stats()\n",
      "printjson(db['us-west'].stats({\"scale\": 1024, \"indexDetails\": true}))\n"
     ]
    }
   ],
   "source": [
    "!cat tmp.js"
   ]
  },
  {
   "cell_type": "code",
   "execution_count": 50,
   "metadata": {},
   "outputs": [],
   "source": [
    "js=\"\"\"\n",
    "db.printShardingStatus({\"verbose\":false})\n",
    "\"\"\"\n",
    "script = open(\"tmp.js\", \"w\")\n",
    "n = script.write(js)\n",
    "script.close()"
   ]
  },
  {
   "cell_type": "code",
   "execution_count": 46,
   "metadata": {},
   "outputs": [],
   "source": [
    "js=\"\"\"\n",
    "sh.shardCollection(\"nuxeo.testcol\", {\"_id\": \"hashed\"}, true, {\"numInitialChunks\":5})\n",
    "\"\"\"\n",
    "script = open(\"shard.js\", \"w\")\n",
    "n = script.write(js)\n",
    "script.close()"
   ]
  },
  {
   "cell_type": "code",
   "execution_count": 47,
   "metadata": {},
   "outputs": [
    {
     "name": "stdout",
     "output_type": "stream",
     "text": [
      "MongoDB shell version v4.4.0\n",
      "connecting to: mongodb://nxbench-2826-archives-shard-01-00.vzeqm.mongodb.net:27016,nxbench-2826-archives-shard-01-01.vzeqm.mongodb.net:27016,nxbench-2826-archives-shard-01-02.vzeqm.mongodb.net:27016,nxbench-2826-archives-shard-02-00.vzeqm.mongodb.net:27016,nxbench-2826-archives-shard-02-01.vzeqm.mongodb.net:27016,nxbench-2826-archives-shard-02-02.vzeqm.mongodb.net:27016,nxbench-2826-archives-shard-03-00.vzeqm.mongodb.net:27016,nxbench-2826-archives-shard-03-01.vzeqm.mongodb.net:27016,nxbench-2826-archives-shard-03-02.vzeqm.mongodb.net:27016,nxbench-2826-archives-shard-04-00.vzeqm.mongodb.net:27016,nxbench-2826-archives-shard-04-01.vzeqm.mongodb.net:27016,nxbench-2826-archives-shard-04-02.vzeqm.mongodb.net:27016,nxbench-2826-archives-shard-00-00.vzeqm.mongodb.net:27016,nxbench-2826-archives-shard-00-01.vzeqm.mongodb.net:27016,nxbench-2826-archives-shard-00-02.vzeqm.mongodb.net:27016/nuxeo?authSource=admin&compressors=disabled&gssapiServiceName=mongodb&ssl=true\n",
      "Implicit session: session { \"id\" : UUID(\"2e7f56b9-2f93-4308-85dd-538eea805f4b\") }\n",
      "MongoDB server version: 4.2.9\n",
      "WARNING: shell and server versions do not match\n"
     ]
    }
   ],
   "source": [
    "!mongo \"mongodb+srv://nxbench-2826-archives.vzeqm.mongodb.net/nuxeo\" --username $MONGOUSER --password $MONGOPWD shard.js"
   ]
  },
  {
   "cell_type": "code",
   "execution_count": 107,
   "metadata": {},
   "outputs": [],
   "source": [
    "js=\"\"\"\n",
    "\n",
    "//printjson(db.adminCommand( { enableSharding: \"nuxeo\"}))\n",
    "\n",
    "//printjson(db.adminCommand( { shardCollection: \"nuxeo.archives\", key: { _id: \"hashed\" } } ))\n",
    "\n",
    "//printjson(db.adminCommand( { shardCollection: \"nuxeo.archives\", key: { _id: 1 } } ))\n",
    "\n",
    "//print(db[\"archives\"].stats().sharded)\n",
    "\n",
    "printjson(db.archives.getShardDistribution())\n",
    "\n",
    "\"\"\"\n",
    "script = open(\"enableSharding.js\", \"w\")\n",
    "n = script.write(js)\n",
    "script.close()"
   ]
  },
  {
   "cell_type": "code",
   "execution_count": 112,
   "metadata": {},
   "outputs": [
    {
     "name": "stdout",
     "output_type": "stream",
     "text": [
      "MongoDB shell version v4.4.0\n",
      "connecting to: mongodb://nxbench-2826-archives-shard-00-01.vzeqm.mongodb.net:27016,nxbench-2826-archives-shard-00-02.vzeqm.mongodb.net:27016,nxbench-2826-archives-shard-01-00.vzeqm.mongodb.net:27016,nxbench-2826-archives-shard-01-01.vzeqm.mongodb.net:27016,nxbench-2826-archives-shard-01-02.vzeqm.mongodb.net:27016,nxbench-2826-archives-shard-02-00.vzeqm.mongodb.net:27016,nxbench-2826-archives-shard-02-01.vzeqm.mongodb.net:27016,nxbench-2826-archives-shard-02-02.vzeqm.mongodb.net:27016,nxbench-2826-archives-shard-03-00.vzeqm.mongodb.net:27016,nxbench-2826-archives-shard-03-01.vzeqm.mongodb.net:27016,nxbench-2826-archives-shard-03-02.vzeqm.mongodb.net:27016,nxbench-2826-archives-shard-04-00.vzeqm.mongodb.net:27016,nxbench-2826-archives-shard-04-01.vzeqm.mongodb.net:27016,nxbench-2826-archives-shard-04-02.vzeqm.mongodb.net:27016,nxbench-2826-archives-shard-00-00.vzeqm.mongodb.net:27016/nuxeo?authSource=admin&compressors=disabled&gssapiServiceName=mongodb&ssl=true\n",
      "Implicit session: session { \"id\" : UUID(\"aa7bf860-6c31-439f-8b05-6ba0f8c87a5a\") }\n",
      "MongoDB server version: 4.2.9\n",
      "WARNING: shell and server versions do not match\n",
      "\n",
      "Shard atlas-2c7kck-shard-0 at atlas-2c7kck-shard-0/atlas-2c7kck-shard-00-00.vzeqm.mongodb.net:27017,atlas-2c7kck-shard-00-01.vzeqm.mongodb.net:27017,atlas-2c7kck-shard-00-02.vzeqm.mongodb.net:27017\n",
      " data : 6.59GiB docs : 7046473 chunks : 160\n",
      " estimated data per chunk : 42.19MiB\n",
      " estimated docs per chunk : 44040\n",
      "\n",
      "Shard atlas-2c7kck-shard-1 at atlas-2c7kck-shard-1/atlas-2c7kck-shard-01-00.vzeqm.mongodb.net:27017,atlas-2c7kck-shard-01-01.vzeqm.mongodb.net:27017,atlas-2c7kck-shard-01-02.vzeqm.mongodb.net:27017\n",
      " data : 7.22GiB docs : 7719815 chunks : 160\n",
      " estimated data per chunk : 46.22MiB\n",
      " estimated docs per chunk : 48248\n",
      "\n",
      "Shard atlas-2c7kck-shard-4 at atlas-2c7kck-shard-4/atlas-2c7kck-shard-04-00.vzeqm.mongodb.net:27017,atlas-2c7kck-shard-04-01.vzeqm.mongodb.net:27017,atlas-2c7kck-shard-04-02.vzeqm.mongodb.net:27017\n",
      " data : 7.42GiB docs : 7934036 chunks : 160\n",
      " estimated data per chunk : 47.5MiB\n",
      " estimated docs per chunk : 49587\n",
      "\n",
      "Shard atlas-2c7kck-shard-3 at atlas-2c7kck-shard-3/atlas-2c7kck-shard-03-00.vzeqm.mongodb.net:27017,atlas-2c7kck-shard-03-01.vzeqm.mongodb.net:27017,atlas-2c7kck-shard-03-02.vzeqm.mongodb.net:27017\n",
      " data : 7GiB docs : 7486859 chunks : 160\n",
      " estimated data per chunk : 44.83MiB\n",
      " estimated docs per chunk : 46792\n",
      "\n",
      "Shard atlas-2c7kck-shard-2 at atlas-2c7kck-shard-2/atlas-2c7kck-shard-02-00.vzeqm.mongodb.net:27017,atlas-2c7kck-shard-02-01.vzeqm.mongodb.net:27017,atlas-2c7kck-shard-02-02.vzeqm.mongodb.net:27017\n",
      " data : 7.4GiB docs : 7909706 chunks : 162\n",
      " estimated data per chunk : 46.77MiB\n",
      " estimated docs per chunk : 48825\n",
      "\n",
      "Totals\n",
      " data : 35.64GiB docs : 38096889 chunks : 802\n",
      " Shard atlas-2c7kck-shard-0 contains 18.49% data, 18.49% docs in cluster, avg obj size on shard : 1004B\n",
      " Shard atlas-2c7kck-shard-1 contains 20.26% data, 20.26% docs in cluster, avg obj size on shard : 1004B\n",
      " Shard atlas-2c7kck-shard-4 contains 20.82% data, 20.82% docs in cluster, avg obj size on shard : 1004B\n",
      " Shard atlas-2c7kck-shard-3 contains 19.65% data, 19.65% docs in cluster, avg obj size on shard : 1004B\n",
      " Shard atlas-2c7kck-shard-2 contains 20.76% data, 20.76% docs in cluster, avg obj size on shard : 1004B\n",
      "\n",
      "undefined\n"
     ]
    }
   ],
   "source": [
    "!mongo \"mongodb+srv://nxbench-2826-archives.vzeqm.mongodb.net/nuxeo\" --username $MONGOUSER --password $MONGOPWD enableSharding.js"
   ]
  },
  {
   "cell_type": "code",
   "execution_count": null,
   "metadata": {},
   "outputs": [],
   "source": []
  }
 ],
 "metadata": {
  "kernelspec": {
   "display_name": "Python 3",
   "language": "python",
   "name": "python3"
  },
  "language_info": {
   "codemirror_mode": {
    "name": "ipython",
    "version": 3
   },
   "file_extension": ".py",
   "mimetype": "text/x-python",
   "name": "python",
   "nbconvert_exporter": "python",
   "pygments_lexer": "ipython3",
   "version": "3.7.3"
  }
 },
 "nbformat": 4,
 "nbformat_minor": 4
}
