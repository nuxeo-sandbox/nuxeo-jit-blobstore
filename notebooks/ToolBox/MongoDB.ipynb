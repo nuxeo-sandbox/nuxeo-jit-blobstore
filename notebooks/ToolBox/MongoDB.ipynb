{
 "cells": [
  {
   "cell_type": "code",
   "execution_count": 31,
   "metadata": {},
   "outputs": [],
   "source": [
    "col=\"us-west\";\n",
    "js=\"\"\"\n",
    "print(\"{ 'dbinfo':\")\n",
    "printjson(db.runCommand( { serverStatus: 1,  repl: 1 } ))\n",
    "print(\", 'collectionInfo':\")\n",
    "printjson(db['$COL'].stats({\"scale\": 1024, \"indexDetails\": true}))\n",
    "print(\"}\")\n",
    "\"\"\".replace(\"$COL\", col)\n",
    "script = open(\"tmp.js\", \"w\")\n",
    "n = script.write(js)\n",
    "script.close()"
   ]
  },
  {
   "cell_type": "code",
   "execution_count": 39,
   "metadata": {},
   "outputs": [],
   "source": [
    "!mongo \"mongodb+srv://nxbench-2826-bench-11-r.vzeqm.mongodb.net/nuxeo\" --quiet --username $MONGOUSER --password $MONGOPWD tmp.js > ../11B-Steps/snapshots/\"mongodb-us-west-\"`date +%Y%m%d-%H%M%S`.bson"
   ]
  },
  {
   "cell_type": "code",
   "execution_count": 36,
   "metadata": {},
   "outputs": [
    {
     "name": "stdout",
     "output_type": "stream",
     "text": [
      "mongodb-us-west-20200915-195317.csv\n"
     ]
    }
   ],
   "source": [
    "! echo \"mongodb-$col-\"`date +%Y%m%d-%H%M%S`.json"
   ]
  },
  {
   "cell_type": "code",
   "execution_count": 30,
   "metadata": {},
   "outputs": [
    {
     "name": "stdout",
     "output_type": "stream",
     "text": [
      "\n",
      "\n",
      "printjson(db.runCommand( { serverStatus: 1,  repl: 1 } ))\n",
      "\n",
      "print(\"display statistic for collection us-west\")\n",
      "//show collections\n",
      "db['us-west'].stats()\n",
      "printjson(db['us-west'].stats({\"scale\": 1024, \"indexDetails\": true}))\n"
     ]
    }
   ],
   "source": [
    "!cat tmp.js"
   ]
  },
  {
   "cell_type": "code",
   "execution_count": null,
   "metadata": {},
   "outputs": [],
   "source": [
    "use sample  //db name\n",
    "show collections"
   ]
  }
 ],
 "metadata": {
  "kernelspec": {
   "display_name": "Python 3",
   "language": "python",
   "name": "python3"
  },
  "language_info": {
   "codemirror_mode": {
    "name": "ipython",
    "version": 3
   },
   "file_extension": ".py",
   "mimetype": "text/x-python",
   "name": "python",
   "nbconvert_exporter": "python",
   "pygments_lexer": "ipython3",
   "version": "3.7.3"
  }
 },
 "nbformat": 4,
 "nbformat_minor": 4
}
