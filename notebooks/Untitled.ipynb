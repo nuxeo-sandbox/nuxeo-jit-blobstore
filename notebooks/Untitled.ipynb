{
 "cells": [
  {
   "cell_type": "code",
   "execution_count": 1,
   "metadata": {},
   "outputs": [
    {
     "name": "stdout",
     "output_type": "stream",
     "text": [
      "Untitled.ipynb\r\n"
     ]
    }
   ],
   "source": [
    "!ls"
   ]
  },
  {
   "cell_type": "code",
   "execution_count": 1,
   "metadata": {},
   "outputs": [
    {
     "name": "stdout",
     "output_type": "stream",
     "text": [
      "No Operation defined\r\n",
      "usage: RestCLI\r\n",
      " -a,--async             Call Automation using the @async adapter\r\n",
      " -b,--root <arg>        define the root/basepath where to import documents\r\n",
      " -bulk                  Enable bulkmode for import\r\n",
      " -c,--config <arg>      Configuration file - default is nuxeo.properties\r\n",
      " -d,--months <arg>      Number of months of statements to generate\r\n",
      " -h,--help              Help\r\n",
      " -l,--logName <arg>     name (or prefix) of the stream to use\r\n",
      " -m,--multiRepo         Define if multi-repositories is used\r\n",
      " -monthOffset <arg>     Months offset\r\n",
      " -n,--nbDoc <arg>       Number of Documents to generate\r\n",
      " -o,--operation <arg>   Operation: tree statements,customers,import\r\n",
      " -p,--logSize <arg>     Number og partitions using in the stream\r\n",
      " -r,--repo <arg>        define the target repository\r\n",
      " -s,--seed <arg>        Seed\r\n",
      " -skip <arg>            Number of entries to skip in the random sequence\r\n",
      " -t,--threads <arg>     Number of threads\r\n",
      " -w,--wait <arg>        Pools server until async execution is completed\r\n",
      " -z,--batchSize <arg>   Batch Size for Document Consumers\r\n"
     ]
    }
   ],
   "source": [
    "!../scripts/import.sh"
   ]
  },
  {
   "cell_type": "code",
   "execution_count": null,
   "metadata": {},
   "outputs": [],
   "source": []
  }
 ],
 "metadata": {
  "kernelspec": {
   "display_name": "Python 3",
   "language": "python",
   "name": "python3"
  },
  "language_info": {
   "codemirror_mode": {
    "name": "ipython",
    "version": 3
   },
   "file_extension": ".py",
   "mimetype": "text/x-python",
   "name": "python",
   "nbconvert_exporter": "python",
   "pygments_lexer": "ipython3",
   "version": "3.7.3"
  }
 },
 "nbformat": 4,
 "nbformat_minor": 4
}
