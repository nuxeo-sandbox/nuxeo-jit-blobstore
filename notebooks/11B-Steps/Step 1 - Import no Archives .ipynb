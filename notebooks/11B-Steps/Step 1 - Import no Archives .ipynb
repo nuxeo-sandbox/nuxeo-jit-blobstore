{
 "cells": [
  {
   "cell_type": "markdown",
   "metadata": {},
   "source": [
    "### Initial Setup\n",
    "\n",
    " - initialize the repositories and MongoDB indexes [see commands here](../ToolBox/Repository-Cleanup.ipynb)\n",
    "    - for `us-east` and `us-west`"
   ]
  },
  {
   "cell_type": "markdown",
   "metadata": {},
   "source": [
    "### Import in US-EAST\n",
    "\n",
    "We first import all the data into the US-EAST Repository\n",
    "\n",
    " - hierarchy\n",
    " - customers\n",
    " - accounts\n",
    " - live statements\n",
    " \n",
    "#### Import Hierarchy"
   ]
  },
  {
   "cell_type": "code",
   "execution_count": 9,
   "metadata": {},
   "outputs": [
    {
     "name": "stdout",
     "output_type": "stream",
     "text": [
      "Using config /nxbench/notebooks/11B-Steps/nuxeo.properties\n",
      "url=http://127.0.0.1:8080/nuxeo\n",
      "login=nco-admin\n",
      "Nuxeo Client configured\n",
      "Connected to Nuxeo Server 11.3.26\n",
      "Running Operation:StreamImporter.runDocumentConsumersEx\n",
      "   nbThreads: 10 \n",
      "   logName: import/states-hierarchy-us-east \n",
      "   blockDefaultSyncListeners: true \n",
      "   rootFolder: / \n",
      "   logSize: 8 \n",
      "   batchSize: 500 \n",
      "#####################\n",
      "Execution completed\n",
      "elapsed:60.039\n",
      "committed:26\n",
      "failures:0\n",
      "consumers:8\n",
      "throughput:0.4330518496310731\n",
      "\n"
     ]
    }
   ],
   "source": [
    "# import in synchronous mode\n",
    "!import.sh -o import -l import/states-hierarchy-us-east -r us-east -b /"
   ]
  },
  {
   "cell_type": "markdown",
   "metadata": {},
   "source": [
    "Import complected without issues.\n",
    "#### Import Customers from CSV"
   ]
  },
  {
   "cell_type": "code",
   "execution_count": 10,
   "metadata": {},
   "outputs": [
    {
     "name": "stdout",
     "output_type": "stream",
     "text": [
      "expected duration (s) = 6428\n",
      "expected duration (h) = 2\n"
     ]
    }
   ],
   "source": [
    "# import customers\n",
    "nbDocs = 89997827\n",
    "expectedThroughput = 14000\n",
    "print(\"expected duration (s) =\", round(nbDocs/expectedThroughput))\n",
    "print(\"expected duration (h) =\", round((nbDocs/expectedThroughput)/3600))"
   ]
  },
  {
   "cell_type": "code",
   "execution_count": 11,
   "metadata": {},
   "outputs": [],
   "source": [
    "!import.sh -o import -t 16 -l import/customers-us-east -r us-east -b / -a -w 8000 -bulk > import-useast-customers.log"
   ]
  },
  {
   "cell_type": "code",
   "execution_count": 12,
   "metadata": {},
   "outputs": [
    {
     "name": "stdout",
     "output_type": "stream",
     "text": [
      "Nuxeo Client configured\r\n",
      "...........................................................................................................................\r\n",
      "Running completed\r\n",
      "elapsed:7427.235\r\n",
      "committed:90918788\r\n",
      "failures:0\r\n",
      "consumers:16\r\n",
      "throughput:12241.269866915482\r\n",
      "\r\n",
      "Exit after 7443 s\r\n"
     ]
    }
   ],
   "source": [
    "!tail import-useast-customers.log"
   ]
  },
  {
   "cell_type": "markdown",
   "metadata": {},
   "source": [
    "Import completed without any issues, throughput is high since the MongoDB collection is still small.\n",
    "\n",
    "#### Import Accounts "
   ]
  },
  {
   "cell_type": "code",
   "execution_count": 13,
   "metadata": {},
   "outputs": [
    {
     "name": "stdout",
     "output_type": "stream",
     "text": [
      "expected duration (s) = 18000\n",
      "expected duration (h) = 5\n"
     ]
    }
   ],
   "source": [
    "# import accounts\n",
    "nbDocs = 89997827*2\n",
    "expectedThroughput = 10000\n",
    "print(\"expected duration (s) =\", round(nbDocs/expectedThroughput))\n",
    "print(\"expected duration (h) =\", round((nbDocs/expectedThroughput)/3600))"
   ]
  },
  {
   "cell_type": "code",
   "execution_count": null,
   "metadata": {},
   "outputs": [],
   "source": [
    "!import.sh -o import -t 16 -l import/accounts-us-east -r us-east -b / -a -w 25000 -bulk > import-useast-accounts.log"
   ]
  },
  {
   "cell_type": "markdown",
   "metadata": {},
   "source": [
    "The command exited in timeout since the throughput was not at all what was expected.\n",
    "\n",
    "    Consumers status: threads: 16, failure 0, \n",
    "    messages committed: 181842842, elapsed: 59763.90s, \n",
    "    throughput: 3042.69 msg/s\n"
   ]
  },
  {
   "cell_type": "markdown",
   "metadata": {},
   "source": [
    "Completed without errors, but the throughput is lower than expected.\n",
    "The import started fast but finished slow.\n",
    "\n",
    "#### Import statements"
   ]
  },
  {
   "cell_type": "code",
   "execution_count": null,
   "metadata": {},
   "outputs": [],
   "source": [
    "# import statements\n",
    "nbDocs = 89997827*6\n",
    "expectedThroughput = 9000\n",
    "print(\"expected duration (s) =\", round(nbDocs/expectedThroughput))\n",
    "print(\"expected duration (h) =\", round((nbDocs/expectedThroughput)/3600))"
   ]
  },
  {
   "cell_type": "code",
   "execution_count": null,
   "metadata": {},
   "outputs": [],
   "source": [
    "!import.sh -o import -t 16 -l import/statements_live-us-east -r us-east -b / -a -w 200000 -bulk > import-useast-live-statements.log"
   ]
  },
  {
   "cell_type": "markdown",
   "metadata": {},
   "source": [
    "Looks like the importer was stuck at some point because it was started with 16 threads whereas there are 24 partitions.\n",
    "\n",
    "Looking at the offsets:\n",
    "\n",
    "    > stream.sh lag -k --verbose -l import/statements_live-us-east\n",
    "    ## Log: Name{id='import-statements_live-us-east', urn='import/statements_live-us-east'} partitions: 24\n",
    "    ### Group: Name{id='StreamImporter-runDocumentConsumersEx', urn='StreamImporter/runDocumentConsumersEx'}\n",
    "| partition | lag | pos | end | posOffset |?endOffset?|\n",
    "| --- | ---: | ---: | ---: | ---: | ---: |\n",
    "|All|134614904|410913682|545528586|13325484|22937322|\n",
    "|0|9497160|13440162|22937322|13440162|22937322|\n",
    "|1|9478898|13401838|22880736|13401838|22880736|\n",
    "|2|9460836|13447068|22907904|13447068|22907904|\n",
    "|3|9480060|13419108|22899168|13419108|22899168|\n",
    "|4|9494178|13436388|22930566|13436388|22930566|\n",
    "|5|9545021|13383589|22928610|13383589|22928610|\n",
    "|6|9418620|13426782|22845402|13426782|22845402|\n",
    "|7|9522299|13385569|22907868|13385569|22907868|\n",
    "|8|9239384|13390192|22629576|13390192|22629576|\n",
    "|9|9324698|13333324|22658022|13333324|22658022|\n",
    "|10|9275058|13387290|22662348|13387290|22662348|\n",
    "|11|9314988|13325484|22640472|13325484|22640472|\n",
    "|12|5352228|17275308|22627536|17275308|22627536|\n",
    "|13|5406157|17226965|22633122|17226965|22633122|\n",
    "|14|5364081|17273745|22637826|17273745|22637826|\n",
    "|15|5441238|17230662|22671900|17230662|22671900|\n",
    "|16|0|22613778|22613778|22613778|22613778|\n",
    "|17|0|22633500|22633500|22633500|22633500|\n",
    "|18|0|22629768|22629768|22629768|22629768|\n",
    "|19|0|22640196|22640196|22640196|22640196|\n",
    "|20|0|22680138|22680138|22680138|22680138|\n",
    "|21|0|22658220|22658220|22658220|22658220|\n",
    "|22|0|22667322|22667322|22667322|22667322|\n",
    "|23|0|22607286|22607286|22607286|22607286|\n",
    "\n",
    "So clearly:\n",
    "\n",
    " - 8 threads went to the end\n",
    " - then the problems started\n",
    "\n",
    "Tried to stop/restart, but the same phenomena did happen:\n",
    "\n",
    "<img src=\"monitoring/us-east-import-glitch.png\"/>"
   ]
  },
  {
   "cell_type": "code",
   "execution_count": 26,
   "metadata": {},
   "outputs": [
    {
     "ename": "SyntaxError",
     "evalue": "Missing parentheses in call to 'print'. Did you mean print(\"interupted\")? (<ipython-input-26-6701c5b5215b>, line 2)",
     "output_type": "error",
     "traceback": [
      "\u001b[0;36m  File \u001b[0;32m\"<ipython-input-26-6701c5b5215b>\"\u001b[0;36m, line \u001b[0;32m2\u001b[0m\n\u001b[0;31m    print \"interupted\"\u001b[0m\n\u001b[0m                     ^\u001b[0m\n\u001b[0;31mSyntaxError\u001b[0m\u001b[0;31m:\u001b[0m Missing parentheses in call to 'print'. Did you mean print(\"interupted\")?\n"
     ]
    }
   ],
   "source": [
    "#!import.sh -o import -t 24 -l import/statements_live-us-east -r us-east -b / -a -w 200000 -bulk > import-useast-live-statements-part2.log\n"
   ]
  },
  {
   "cell_type": "markdown",
   "metadata": {},
   "source": [
    "\n",
    "\n",
    "The assignmnet of a source streams to a worker thread is done via:\n",
    "\n",
    "     protected List<List<LogPartition>> getDefaultAssignments() {\n",
    "        Map<String, Integer> streams = Collections.singletonMap(logName,\n",
    "                manager.getAppender(Name.ofUrn(logName)).size());\n",
    "        return KafkaUtils.roundRobinAssignments(getNbThreads(), streams);\n",
    "     }\n",
    "\n",
    "If we have 16 consumer threads but 24 partitions in kafka, some of the threads will be associated with more than 1 partition.\n",
    "\n",
    "We we know that we have 8 partitions that are completed:so, any thread reading from this log is likely to be stuck until a timeout.\n",
    "As a result, because each of the 8 \"finished\" streams will be read by more than 1 threads, we end up blocking most of the threads.\n",
    "\n",
    "The second run, done with the proper threads parameter (-t 24), should the allow to finish the import just fine,\n",
    "But it does not seem to be the case.\n",
    "\n",
    "<img src=\"monitoring/import-thread-dispatch.png\"/>\n",
    "\n",
    "It seems that only 16 threads are created and it quickly drops to 2.\n",
    "\n",
    "May be the kafka consumer group is not properly re-initialized when changing the number of threads from 16 to 24.\n",
    "\n",
    "#### About import throughput\n",
    "\n",
    "We can see 2 aspects:\n",
    "\n",
    "**Import descreases when IO usage increases at the MongoDB level**\n",
    "\n",
    "A first round of import was started then stopped because of a memory leak in the DocumentConsumer code.\n",
    "On the bright side, it shows us that the import profile is perfectly reproducible:\n",
    "\n",
    "On the following graphic we see the 2 imports:\n",
    "\n",
    "<img src=\"monitoring/import-mongodb-throughput.png\"/>\n",
    "\n",
    "We can see that in parallel of the Nuxeo CPU usage dropping, the MongoDB operation time is increasing a lot:\n",
    "\n",
    "<img src=\"monitoring/import-mongodb-operation-time.png\"/>\n",
    "\n",
    "Looking in more details, we can see that the throughput descrease when the IOPS and the IOWait increases at the MongoDB level.\n",
    "\n",
    "<img src=\"monitoring/import-mongodb-IOPS.png\"/>\n",
    "<img src=\"monitoring/import-mongodb-iowait.png\"/>\n",
    "\n",
    "**Caching / Partitioning ordering does impact**\n",
    "\n",
    "However, we can also see that the Account import is slower than the Statement import.\n",
    "\n",
    "There are 2 possible causes:\n",
    "\n",
    " - Accounts point to a file in S3 whereas Statements use the JITBlobStore\n",
    " - Accounts are patitioned \"randomly\" whereas Statements are generated using smart paritioning to group children of the same parent inside the same partition to maximize cache usage\n",
    "\n",
    "<img src=\"monitoring/import-vs-partitionning.png\" />"
   ]
  },
  {
   "cell_type": "markdown",
   "metadata": {},
   "source": [
    "### Indexing US-EAST"
   ]
  },
  {
   "cell_type": "markdown",
   "metadata": {},
   "source": [
    " - scale out the number of Nuxeo Worker nodes\n",
    " - configure ES for bulk indexing (see [ES toolbox](../ToolBox/Elasticsearch.ipynb))\n",
    "     - no replicas\n",
    "     - refresh rate\n",
    "     \n",
    " Start Indexing on US-EAST using BAF    "
   ]
  },
  {
   "cell_type": "code",
   "execution_count": 27,
   "metadata": {},
   "outputs": [
    {
     "name": "stdout",
     "output_type": "stream",
     "text": [
      "curl: (7) Failed to connect to 127.0.0.1 port 8080: Connection refused\r\n"
     ]
    }
   ],
   "source": [
    "!(INJECTOR=\"http://127.0.0.1:8080\";\\\n",
    "curl -H 'Content-Type:application/json+nxrequest' \\\n",
    "  -H 'X-NXRepository:us-east' \\\n",
    "  -X POST -d '{\"params\":{},\"context\":{}}' -u $NXUSER:$NXPWD \\\n",
    "  \"$INJECTOR/nuxeo/api/v1/automation/Elasticsearch.BulkIndex\")"
   ]
  },
  {
   "cell_type": "code",
   "execution_count": 29,
   "metadata": {},
   "outputs": [
    {
     "name": "stdout",
     "output_type": "stream",
     "text": [
      "curl: (7) Failed to connect to 127.0.0.1 port 8080: Connection refused\r\n"
     ]
    }
   ],
   "source": [
    "# check status\n",
    "! cid=\"6057b8cb-c073-466c-96c5-9252aee168cc\"; \\\n",
    "  INJECTOR=\"http://127.0.0.1:8080\"; \\\n",
    "  curl -H 'Content-Type:application/json+nxrequest' -H 'X-NXRepository:us-east' \\\n",
    "  -u $NXUSER:$NXPWD $INJECTOR/nuxeo/api/v1/bulk/$cid"
   ]
  },
  {
   "cell_type": "markdown",
   "metadata": {},
   "source": [
    "### Import in US-WEST"
   ]
  },
  {
   "cell_type": "code",
   "execution_count": 20,
   "metadata": {},
   "outputs": [
    {
     "name": "stdout",
     "output_type": "stream",
     "text": [
      "Using config /nxbench/notebooks/11B-Steps/nuxeo.properties\n",
      "url=http://127.0.0.1:8080/nuxeo\n",
      "login=nco-admin\n",
      "Nuxeo Client configured\n",
      "Connected to Nuxeo Server 11.3.26\n",
      "Running Operation:StreamImporter.runDocumentConsumersEx\n",
      "   nbThreads: 10 \n",
      "   logName: import/states-hierarchy-us-west \n",
      "   blockDefaultSyncListeners: true \n",
      "   rootFolder: / \n",
      "   logSize: 8 \n",
      "   batchSize: 500 \n",
      "#####################\n",
      "Execution completed\n",
      "elapsed:60.041\n",
      "committed:26\n",
      "failures:0\n",
      "consumers:8\n",
      "throughput:0.43303742442664184\n",
      "\n"
     ]
    }
   ],
   "source": [
    "# import in synchronous mode\n",
    "!import.sh -o import -l import/states-hierarchy-us-west -r us-west -b /"
   ]
  },
  {
   "cell_type": "code",
   "execution_count": 21,
   "metadata": {},
   "outputs": [],
   "source": [
    "!import.sh -o import -t 16 -l import/customers-us-west -r us-west -b / -a -w 8000 -bulk > import-uswest-customers.log"
   ]
  },
  {
   "cell_type": "code",
   "execution_count": 22,
   "metadata": {},
   "outputs": [
    {
     "name": "stdout",
     "output_type": "stream",
     "text": [
      "Nuxeo Client configured\r\n",
      "................................................................................................................\r\n",
      "Running completed\r\n",
      "elapsed:6747.088\r\n",
      "committed:89076866\r\n",
      "failures:0\r\n",
      "consumers:16\r\n",
      "throughput:13202.268297078681\r\n",
      "\r\n",
      "Exit after 6781 s\r\n"
     ]
    }
   ],
   "source": [
    "!tail import-uswest-customers.log"
   ]
  },
  {
   "cell_type": "code",
   "execution_count": 23,
   "metadata": {},
   "outputs": [],
   "source": [
    "!import.sh -o import -t 16 -l import/accounts-us-west -r us-west -b / -a -w 40000 -bulk > import-uswest-accounts.log"
   ]
  },
  {
   "cell_type": "code",
   "execution_count": 24,
   "metadata": {},
   "outputs": [
    {
     "name": "stdout",
     "output_type": "stream",
     "text": [
      "Async Automation Execution Scheduled\r\n",
      "  => status url:[http://127.0.0.1:8080/nuxeo/site/api/v1/automation/StreamImporter.runDocumentConsumersEx/@async/27bba16f-b9bf-4565-85ce-f7a715ba6414/status]\r\n",
      "#####################\r\n",
      "Execution completed\r\n",
      "\r\n",
      "waiting for end of Async Exec\r\n",
      "url=http://127.0.0.1:8080/nuxeo\r\n",
      "login=nco-admin\r\n",
      "Nuxeo Client configured\r\n",
      "...........................................................................................................................................................................................................................................................................................................................................................................................................................................................................................................................................................................................................................................................................................Exit with timeout\r\n"
     ]
    }
   ],
   "source": [
    "!tail import-uswest-accounts.log"
   ]
  },
  {
   "cell_type": "markdown",
   "metadata": {},
   "source": [
    "    Consumers status: threads: 16, failure 0, messages committed: 178154882, elapsed: 55277.80s, throughput: 3222.90 msg/s\n"
   ]
  },
  {
   "cell_type": "code",
   "execution_count": 25,
   "metadata": {},
   "outputs": [],
   "source": [
    "!import.sh -o import -t 24 -l import/statements_live-us-west -r us-west -b / -a -w 80000 -bulk > import-uswest-live-statements.log"
   ]
  },
  {
   "cell_type": "markdown",
   "metadata": {},
   "source": [
    "### Indexing US-WEST\n",
    " \n",
    " - configure ES for bulk indexing (see [ES toolbox](../ToolBox/Elasticsearch.ipynb))\n",
    "     - no replicas\n",
    "     - refresh rate\n",
    "     \n",
    "Start Indexing on US-WEST using BAF    "
   ]
  },
  {
   "cell_type": "code",
   "execution_count": null,
   "metadata": {},
   "outputs": [],
   "source": [
    "!(INJECTOR=\"http://127.0.0.1:8080\";\\\n",
    "curl -H 'Content-Type:application/json+nxrequest' \\\n",
    "  -H 'X-NXRepository:us-west' \\\n",
    "  -X POST -d '{\"params\":{},\"context\":{}}' -u $NXUSER:$NXPWD \\\n",
    "  \"$INJECTOR/nuxeo/api/v1/automation/Elasticsearch.BulkIndex\")"
   ]
  },
  {
   "cell_type": "code",
   "execution_count": null,
   "metadata": {},
   "outputs": [],
   "source": [
    "# check status\n",
    "! cid=\"6057b8cb-c073-466c-96c5-9252aee168cc\"; \\\n",
    "  INJECTOR=\"http://127.0.0.1:8080\"; \\\n",
    "  curl -H 'Content-Type:application/json+nxrequest' -H 'X-NXRepository:us-west' \\\n",
    "  -u $NXUSER:$NXPWD $INJECTOR/nuxeo/api/v1/bulk/$cid"
   ]
  }
 ],
 "metadata": {
  "kernelspec": {
   "display_name": "Python 3",
   "language": "python",
   "name": "python3"
  },
  "language_info": {
   "codemirror_mode": {
    "name": "ipython",
    "version": 3
   },
   "file_extension": ".py",
   "mimetype": "text/x-python",
   "name": "python",
   "nbconvert_exporter": "python",
   "pygments_lexer": "ipython3",
   "version": "3.7.3"
  }
 },
 "nbformat": 4,
 "nbformat_minor": 4
}
