{
 "cells": [
  {
   "cell_type": "markdown",
   "metadata": {},
   "source": [
    "### Initial Setup\n",
    "\n",
    " - initialize the repositories and MongoDB indexes [see commands here](../ToolBox/Repository-Cleanup.ipynb)\n",
    "    - for `us-east` and `us-west`"
   ]
  },
  {
   "cell_type": "markdown",
   "metadata": {},
   "source": [
    "### Import in US-EAST"
   ]
  },
  {
   "cell_type": "code",
   "execution_count": 9,
   "metadata": {},
   "outputs": [
    {
     "name": "stdout",
     "output_type": "stream",
     "text": [
      "Using config /nxbench/notebooks/11B-Steps/nuxeo.properties\n",
      "url=http://127.0.0.1:8080/nuxeo\n",
      "login=nco-admin\n",
      "Nuxeo Client configured\n",
      "Connected to Nuxeo Server 11.3.26\n",
      "Running Operation:StreamImporter.runDocumentConsumersEx\n",
      "   nbThreads: 10 \n",
      "   logName: import/states-hierarchy-us-east \n",
      "   blockDefaultSyncListeners: true \n",
      "   rootFolder: / \n",
      "   logSize: 8 \n",
      "   batchSize: 500 \n",
      "#####################\n",
      "Execution completed\n",
      "elapsed:60.039\n",
      "committed:26\n",
      "failures:0\n",
      "consumers:8\n",
      "throughput:0.4330518496310731\n",
      "\n"
     ]
    }
   ],
   "source": [
    "# import in synchronous mode\n",
    "!import.sh -o import -l import/states-hierarchy-us-east -r us-east -b /"
   ]
  },
  {
   "cell_type": "code",
   "execution_count": 10,
   "metadata": {},
   "outputs": [
    {
     "name": "stdout",
     "output_type": "stream",
     "text": [
      "expected duration (s) = 6428\n",
      "expected duration (h) = 2\n"
     ]
    }
   ],
   "source": [
    "# import customers\n",
    "nbDocs = 89997827\n",
    "expectedThroughput = 14000\n",
    "print(\"expected duration (s) =\", round(nbDocs/expectedThroughput))\n",
    "print(\"expected duration (h) =\", round((nbDocs/expectedThroughput)/3600))"
   ]
  },
  {
   "cell_type": "code",
   "execution_count": 11,
   "metadata": {},
   "outputs": [],
   "source": [
    "!import.sh -o import -t 16 -l import/customers-us-east -r us-east -b / -a -w 8000 -bulk > import-useast-customers.log"
   ]
  },
  {
   "cell_type": "code",
   "execution_count": 12,
   "metadata": {},
   "outputs": [
    {
     "name": "stdout",
     "output_type": "stream",
     "text": [
      "Nuxeo Client configured\r\n",
      "...........................................................................................................................\r\n",
      "Running completed\r\n",
      "elapsed:7427.235\r\n",
      "committed:90918788\r\n",
      "failures:0\r\n",
      "consumers:16\r\n",
      "throughput:12241.269866915482\r\n",
      "\r\n",
      "Exit after 7443 s\r\n"
     ]
    }
   ],
   "source": [
    "!tail import-useast-customers.log"
   ]
  },
  {
   "cell_type": "code",
   "execution_count": 13,
   "metadata": {},
   "outputs": [
    {
     "name": "stdout",
     "output_type": "stream",
     "text": [
      "expected duration (s) = 18000\n",
      "expected duration (h) = 5\n"
     ]
    }
   ],
   "source": [
    "# import accounts\n",
    "nbDocs = 89997827*2\n",
    "expectedThroughput = 10000\n",
    "print(\"expected duration (s) =\", round(nbDocs/expectedThroughput))\n",
    "print(\"expected duration (h) =\", round((nbDocs/expectedThroughput)/3600))"
   ]
  },
  {
   "cell_type": "code",
   "execution_count": null,
   "metadata": {},
   "outputs": [],
   "source": [
    "!import.sh -o import -t 16 -l import/accounts-us-east -r us-east -b / -a -w 25000 -bulk > import-useast-accounts.log"
   ]
  },
  {
   "cell_type": "markdown",
   "metadata": {},
   "source": [
    "The command exited in timeout since the throughput was not at all what was expected.\n",
    "\n",
    "    Consumers status: threads: 16, failure 0, \n",
    "    messages committed: 181842842, elapsed: 59763.90s, \n",
    "    throughput: 3042.69 msg/s\n"
   ]
  },
  {
   "cell_type": "code",
   "execution_count": null,
   "metadata": {},
   "outputs": [],
   "source": [
    "# import statements\n",
    "nbDocs = 89997827*6\n",
    "expectedThroughput = 9000\n",
    "print(\"expected duration (s) =\", round(nbDocs/expectedThroughput))\n",
    "print(\"expected duration (h) =\", round((nbDocs/expectedThroughput)/3600))"
   ]
  },
  {
   "cell_type": "code",
   "execution_count": null,
   "metadata": {},
   "outputs": [],
   "source": [
    "!import.sh -o import -t 16 -l import/statements_live-us-east -r us-east -b / -a -w 200000 -bulk > import-useast-live-statements.log"
   ]
  },
  {
   "cell_type": "markdown",
   "metadata": {},
   "source": [
    "Looks like the importer was stuck at some point because it was started with 16 threads whereas there are 24 partitions.\n",
    "\n",
    "Looking at the offsets:\n",
    "\n",
    "    > stream.sh lag -k --verbose -l import/statements_live-us-east\n",
    "    ## Log: Name{id='import-statements_live-us-east', urn='import/statements_live-us-east'} partitions: 24\n",
    "    ### Group: Name{id='StreamImporter-runDocumentConsumersEx', urn='StreamImporter/runDocumentConsumersEx'}\n",
    "| partition | lag | pos | end | posOffset |?endOffset?|\n",
    "| --- | ---: | ---: | ---: | ---: | ---: |\n",
    "|All|134614904|410913682|545528586|13325484|22937322|\n",
    "|0|9497160|13440162|22937322|13440162|22937322|\n",
    "|1|9478898|13401838|22880736|13401838|22880736|\n",
    "|2|9460836|13447068|22907904|13447068|22907904|\n",
    "|3|9480060|13419108|22899168|13419108|22899168|\n",
    "|4|9494178|13436388|22930566|13436388|22930566|\n",
    "|5|9545021|13383589|22928610|13383589|22928610|\n",
    "|6|9418620|13426782|22845402|13426782|22845402|\n",
    "|7|9522299|13385569|22907868|13385569|22907868|\n",
    "|8|9239384|13390192|22629576|13390192|22629576|\n",
    "|9|9324698|13333324|22658022|13333324|22658022|\n",
    "|10|9275058|13387290|22662348|13387290|22662348|\n",
    "|11|9314988|13325484|22640472|13325484|22640472|\n",
    "|12|5352228|17275308|22627536|17275308|22627536|\n",
    "|13|5406157|17226965|22633122|17226965|22633122|\n",
    "|14|5364081|17273745|22637826|17273745|22637826|\n",
    "|15|5441238|17230662|22671900|17230662|22671900|\n",
    "|16|0|22613778|22613778|22613778|22613778|\n",
    "|17|0|22633500|22633500|22633500|22633500|\n",
    "|18|0|22629768|22629768|22629768|22629768|\n",
    "|19|0|22640196|22640196|22640196|22640196|\n",
    "|20|0|22680138|22680138|22680138|22680138|\n",
    "|21|0|22658220|22658220|22658220|22658220|\n",
    "|22|0|22667322|22667322|22667322|22667322|\n",
    "|23|0|22607286|22607286|22607286|22607286|\n",
    "\n",
    "So clearly:\n",
    "\n",
    " - 8 threads went to the end\n",
    " - then the problems started\n",
    "\n",
    "Tried to stop/restart, but the same phenomena did happen:\n",
    "\n",
    "<img src=\"monitoring/us-east-import-glitch.png\"/>"
   ]
  },
  {
   "cell_type": "code",
   "execution_count": 19,
   "metadata": {},
   "outputs": [
    {
     "name": "stdout",
     "output_type": "stream",
     "text": [
      "Exception in thread \"main\" org.nuxeo.client.spi.NuxeoClientException: Error during call on url=http://127.0.0.1:8080/nuxeo/site/api/v1/automation/StreamImporter.runDocumentConsumersEx/@async/a191921f-297f-451f-8298-be4e0d352922/status\n",
      "\tat org.nuxeo.client.NuxeoClient.request(NuxeoClient.java:261)\n",
      "\tat org.nuxeo.client.NuxeoClient.get(NuxeoClient.java:233)\n",
      "\tat org.nuxeo.data.gen.cli.NuxeoClientHelper.waitForResult(NuxeoClientHelper.java:105)\n",
      "\tat org.nuxeo.data.gen.cli.RestCli.main(RestCli.java:226)\n",
      "Caused by: java.net.ConnectException: Failed to connect to /127.0.0.1:8080\n",
      "\tat okhttp3.internal.connection.RealConnection.connectSocket(RealConnection.java:248)\n",
      "\tat okhttp3.internal.connection.RealConnection.connect(RealConnection.java:166)\n",
      "\tat okhttp3.internal.connection.StreamAllocation.findConnection(StreamAllocation.java:257)\n",
      "\tat okhttp3.internal.connection.StreamAllocation.findHealthyConnection(StreamAllocation.java:135)\n",
      "\tat okhttp3.internal.connection.StreamAllocation.newStream(StreamAllocation.java:114)\n",
      "\tat okhttp3.internal.connection.ConnectInterceptor.intercept(ConnectInterceptor.java:42)\n",
      "\tat okhttp3.internal.http.RealInterceptorChain.proceed(RealInterceptorChain.java:147)\n",
      "\tat okhttp3.internal.http.RealInterceptorChain.proceed(RealInterceptorChain.java:121)\n",
      "\tat okhttp3.internal.cache.CacheInterceptor.intercept(CacheInterceptor.java:93)\n",
      "\tat okhttp3.internal.http.RealInterceptorChain.proceed(RealInterceptorChain.java:147)\n",
      "\tat okhttp3.internal.http.RealInterceptorChain.proceed(RealInterceptorChain.java:121)\n",
      "\tat okhttp3.internal.http.BridgeInterceptor.intercept(BridgeInterceptor.java:93)\n",
      "\tat okhttp3.internal.http.RealInterceptorChain.proceed(RealInterceptorChain.java:147)\n",
      "\tat okhttp3.internal.http.RetryAndFollowUpInterceptor.intercept(RetryAndFollowUpInterceptor.java:126)\n",
      "\tat okhttp3.internal.http.RealInterceptorChain.proceed(RealInterceptorChain.java:147)\n",
      "\tat okhttp3.internal.http.RealInterceptorChain.proceed(RealInterceptorChain.java:121)\n",
      "\tat org.nuxeo.client.objects.AbstractBase.lambda$header$3(AbstractBase.java:206)\n",
      "\tat okhttp3.internal.http.RealInterceptorChain.proceed(RealInterceptorChain.java:147)\n",
      "\tat okhttp3.internal.http.RealInterceptorChain.proceed(RealInterceptorChain.java:121)\n",
      "\tat org.nuxeo.client.objects.AbstractBase.lambda$header$3(AbstractBase.java:206)\n",
      "\tat okhttp3.internal.http.RealInterceptorChain.proceed(RealInterceptorChain.java:147)\n",
      "\tat okhttp3.internal.http.RealInterceptorChain.proceed(RealInterceptorChain.java:121)\n",
      "\tat org.nuxeo.client.objects.AbstractBase.lambda$header$3(AbstractBase.java:206)\n",
      "\tat okhttp3.internal.http.RealInterceptorChain.proceed(RealInterceptorChain.java:147)\n",
      "\tat okhttp3.internal.http.RealInterceptorChain.proceed(RealInterceptorChain.java:121)\n",
      "\tat org.nuxeo.client.spi.auth.BasicAuthInterceptor.intercept(BasicAuthInterceptor.java:59)\n",
      "\tat okhttp3.internal.http.RealInterceptorChain.proceed(RealInterceptorChain.java:147)\n",
      "\tat okhttp3.internal.http.RealInterceptorChain.proceed(RealInterceptorChain.java:121)\n",
      "\tat okhttp3.RealCall.getResponseWithInterceptorChain(RealCall.java:254)\n",
      "\tat okhttp3.RealCall.execute(RealCall.java:92)\n",
      "\tat org.nuxeo.client.NuxeoClient.request(NuxeoClient.java:259)\n",
      "\t... 3 more\n",
      "Caused by: java.net.ConnectException: Connection refused (Connection refused)\n",
      "\tat java.base/java.net.PlainSocketImpl.socketConnect(Native Method)\n",
      "\tat java.base/java.net.AbstractPlainSocketImpl.doConnect(AbstractPlainSocketImpl.java:399)\n",
      "\tat java.base/java.net.AbstractPlainSocketImpl.connectToAddress(AbstractPlainSocketImpl.java:242)\n",
      "\tat java.base/java.net.AbstractPlainSocketImpl.connect(AbstractPlainSocketImpl.java:224)\n",
      "\tat java.base/java.net.SocksSocketImpl.connect(SocksSocketImpl.java:403)\n",
      "\tat java.base/java.net.Socket.connect(Socket.java:609)\n",
      "\tat okhttp3.internal.platform.Platform.connectSocket(Platform.java:129)\n",
      "\tat okhttp3.internal.connection.RealConnection.connectSocket(RealConnection.java:246)\n",
      "\t... 33 more\n"
     ]
    }
   ],
   "source": [
    "!import.sh -o import -t 24 -l import/statements_live-us-east -r us-east -b / -a -w 200000 -bulk > import-useast-live-statements-part2.log"
   ]
  },
  {
   "cell_type": "markdown",
   "metadata": {},
   "source": [
    "### Indexing US-EAST"
   ]
  },
  {
   "cell_type": "markdown",
   "metadata": {},
   "source": [
    " - scale out the number of Nuxeo Worker nodes\n",
    " - configure ES for bulk indexing (see [ES toolbox](../ToolBox/Elasticsearch.ipynb))\n",
    "     - no replicas\n",
    "     - refresh rate\n",
    "     \n",
    " Start Indexing on US-EAST using BAF    "
   ]
  },
  {
   "cell_type": "code",
   "execution_count": 27,
   "metadata": {},
   "outputs": [
    {
     "name": "stdout",
     "output_type": "stream",
     "text": [
      "curl: (7) Failed to connect to 127.0.0.1 port 8080: Connection refused\r\n"
     ]
    }
   ],
   "source": [
    "!(INJECTOR=\"http://127.0.0.1:8080\";\\\n",
    "curl -H 'Content-Type:application/json+nxrequest' \\\n",
    "  -H 'X-NXRepository:us-east' \\\n",
    "  -X POST -d '{\"params\":{},\"context\":{}}' -u $NXUSER:$NXPWD \\\n",
    "  \"$INJECTOR/nuxeo/api/v1/automation/Elasticsearch.BulkIndex\")"
   ]
  },
  {
   "cell_type": "code",
   "execution_count": 29,
   "metadata": {},
   "outputs": [
    {
     "name": "stdout",
     "output_type": "stream",
     "text": [
      "curl: (7) Failed to connect to 127.0.0.1 port 8080: Connection refused\r\n"
     ]
    }
   ],
   "source": [
    "# check status\n",
    "! cid=\"6057b8cb-c073-466c-96c5-9252aee168cc\"; \\\n",
    "  INJECTOR=\"http://127.0.0.1:8080\"; \\\n",
    "  curl -H 'Content-Type:application/json+nxrequest' -H 'X-NXRepository:us-east' \\\n",
    "  -u $NXUSER:$NXPWD $INJECTOR/nuxeo/api/v1/bulk/$cid"
   ]
  },
  {
   "cell_type": "markdown",
   "metadata": {},
   "source": [
    "### Import in US-WEST"
   ]
  },
  {
   "cell_type": "code",
   "execution_count": 20,
   "metadata": {},
   "outputs": [
    {
     "name": "stdout",
     "output_type": "stream",
     "text": [
      "Using config /nxbench/notebooks/11B-Steps/nuxeo.properties\n",
      "url=http://127.0.0.1:8080/nuxeo\n",
      "login=nco-admin\n",
      "Nuxeo Client configured\n",
      "Connected to Nuxeo Server 11.3.26\n",
      "Running Operation:StreamImporter.runDocumentConsumersEx\n",
      "   nbThreads: 10 \n",
      "   logName: import/states-hierarchy-us-west \n",
      "   blockDefaultSyncListeners: true \n",
      "   rootFolder: / \n",
      "   logSize: 8 \n",
      "   batchSize: 500 \n",
      "#####################\n",
      "Execution completed\n",
      "elapsed:60.041\n",
      "committed:26\n",
      "failures:0\n",
      "consumers:8\n",
      "throughput:0.43303742442664184\n",
      "\n"
     ]
    }
   ],
   "source": [
    "# import in synchronous mode\n",
    "!import.sh -o import -l import/states-hierarchy-us-west -r us-west -b /"
   ]
  },
  {
   "cell_type": "code",
   "execution_count": null,
   "metadata": {},
   "outputs": [],
   "source": [
    "!import.sh -o import -t 16 -l import/customers-us-west -r us-west -b / -a -w 8000 -bulk > import-uswest-customers.log"
   ]
  },
  {
   "cell_type": "code",
   "execution_count": null,
   "metadata": {},
   "outputs": [],
   "source": [
    "!import.sh -o import -t 16 -l import/accounts-us-west -r us-west -b / -a -w 40000 -bulk > import-uswest-accounts.log"
   ]
  },
  {
   "cell_type": "code",
   "execution_count": null,
   "metadata": {},
   "outputs": [],
   "source": [
    "!import.sh -o import -t 24 -l import/statements_live-us-west -r us-west -b / -a -w 80000 -bulk > import-uswest-live-statements.log"
   ]
  },
  {
   "cell_type": "markdown",
   "metadata": {},
   "source": [
    "### Indexing US-WEST\n",
    " \n",
    " - configure ES for bulk indexing (see [ES toolbox](../ToolBox/Elasticsearch.ipynb))\n",
    "     - no replicas\n",
    "     - refresh rate\n",
    "     \n",
    "Start Indexing on US-WEST using BAF    "
   ]
  },
  {
   "cell_type": "code",
   "execution_count": null,
   "metadata": {},
   "outputs": [],
   "source": [
    "!(INJECTOR=\"http://127.0.0.1:8080\";\\\n",
    "curl -H 'Content-Type:application/json+nxrequest' \\\n",
    "  -H 'X-NXRepository:us-west' \\\n",
    "  -X POST -d '{\"params\":{},\"context\":{}}' -u $NXUSER:$NXPWD \\\n",
    "  \"$INJECTOR/nuxeo/api/v1/automation/Elasticsearch.BulkIndex\")"
   ]
  },
  {
   "cell_type": "code",
   "execution_count": null,
   "metadata": {},
   "outputs": [],
   "source": [
    "# check status\n",
    "! cid=\"6057b8cb-c073-466c-96c5-9252aee168cc\"; \\\n",
    "  INJECTOR=\"http://127.0.0.1:8080\"; \\\n",
    "  curl -H 'Content-Type:application/json+nxrequest' -H 'X-NXRepository:us-west' \\\n",
    "  -u $NXUSER:$NXPWD $INJECTOR/nuxeo/api/v1/bulk/$cid"
   ]
  }
 ],
 "metadata": {
  "kernelspec": {
   "display_name": "Python 3",
   "language": "python",
   "name": "python3"
  },
  "language_info": {
   "codemirror_mode": {
    "name": "ipython",
    "version": 3
   },
   "file_extension": ".py",
   "mimetype": "text/x-python",
   "name": "python",
   "nbconvert_exporter": "python",
   "pygments_lexer": "ipython3",
   "version": "3.7.3"
  }
 },
 "nbformat": 4,
 "nbformat_minor": 4
}
