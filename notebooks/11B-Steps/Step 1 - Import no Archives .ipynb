{
 "cells": [
  {
   "cell_type": "markdown",
   "metadata": {},
   "source": [
    "### Initial Setup\n",
    "\n",
    " - initialize the repositories and MongoDB indexes [see commands here](../ToolBox/Repository-Cleanup.ipynb)\n",
    "    - for `us-east` and `us-west`"
   ]
  },
  {
   "cell_type": "markdown",
   "metadata": {},
   "source": [
    "### Import in US-EAST\n",
    "\n",
    "We first import all the data into the US-EAST Repository\n",
    "\n",
    " - hierarchy\n",
    " - customers\n",
    " - accounts\n",
    " - live statements\n",
    " \n",
    "#### Import Hierarchy"
   ]
  },
  {
   "cell_type": "code",
   "execution_count": 9,
   "metadata": {},
   "outputs": [
    {
     "name": "stdout",
     "output_type": "stream",
     "text": [
      "Using config /nxbench/notebooks/11B-Steps/nuxeo.properties\n",
      "url=http://127.0.0.1:8080/nuxeo\n",
      "login=nco-admin\n",
      "Nuxeo Client configured\n",
      "Connected to Nuxeo Server 11.3.26\n",
      "Running Operation:StreamImporter.runDocumentConsumersEx\n",
      "   nbThreads: 10 \n",
      "   logName: import/states-hierarchy-us-east \n",
      "   blockDefaultSyncListeners: true \n",
      "   rootFolder: / \n",
      "   logSize: 8 \n",
      "   batchSize: 500 \n",
      "#####################\n",
      "Execution completed\n",
      "elapsed:60.039\n",
      "committed:26\n",
      "failures:0\n",
      "consumers:8\n",
      "throughput:0.4330518496310731\n",
      "\n"
     ]
    }
   ],
   "source": [
    "# import in synchronous mode\n",
    "!import.sh -o import -l import/states-hierarchy-us-east -r us-east -b /"
   ]
  },
  {
   "cell_type": "markdown",
   "metadata": {},
   "source": [
    "Import complected without issues.\n",
    "#### Import Customers from CSV"
   ]
  },
  {
   "cell_type": "code",
   "execution_count": 10,
   "metadata": {},
   "outputs": [
    {
     "name": "stdout",
     "output_type": "stream",
     "text": [
      "expected duration (s) = 6428\n",
      "expected duration (h) = 2\n"
     ]
    }
   ],
   "source": [
    "# import customers\n",
    "nbDocs = 89997827\n",
    "expectedThroughput = 14000\n",
    "print(\"expected duration (s) =\", round(nbDocs/expectedThroughput))\n",
    "print(\"expected duration (h) =\", round((nbDocs/expectedThroughput)/3600))"
   ]
  },
  {
   "cell_type": "raw",
   "metadata": {},
   "source": [
    "!import.sh -o import -t 16 -l import/customers-us-east -r us-east -b / -a -w 8000 -bulk > import-useast-customers.log"
   ]
  },
  {
   "cell_type": "code",
   "execution_count": 12,
   "metadata": {},
   "outputs": [
    {
     "name": "stdout",
     "output_type": "stream",
     "text": [
      "Nuxeo Client configured\n",
      "...........................................................................................................................\n",
      "Running completed\n",
      "elapsed:7427.235\n",
      "committed:90918788\n",
      "failures:0\n",
      "consumers:16\n",
      "throughput:12241.269866915482\n",
      "\n",
      "Exit after 7443 s\n"
     ]
    }
   ],
   "source": [
    "!tail import-useast-customers.log"
   ]
  },
  {
   "cell_type": "markdown",
   "metadata": {},
   "source": [
    "Import completed without any issues, throughput is high since the MongoDB collection is still small.\n",
    "\n",
    "#### Import Accounts "
   ]
  },
  {
   "cell_type": "code",
   "execution_count": 13,
   "metadata": {},
   "outputs": [
    {
     "name": "stdout",
     "output_type": "stream",
     "text": [
      "expected duration (s) = 18000\n",
      "expected duration (h) = 5\n"
     ]
    }
   ],
   "source": [
    "# import accounts\n",
    "nbDocs = 89997827*2\n",
    "expectedThroughput = 10000\n",
    "print(\"expected duration (s) =\", round(nbDocs/expectedThroughput))\n",
    "print(\"expected duration (h) =\", round((nbDocs/expectedThroughput)/3600))"
   ]
  },
  {
   "cell_type": "code",
   "execution_count": null,
   "metadata": {},
   "outputs": [],
   "source": [
    "!import.sh -o import -t 16 -l import/accounts-us-east -r us-east -b / -a -w 25000 -bulk > import-useast-accounts.log"
   ]
  },
  {
   "cell_type": "markdown",
   "metadata": {},
   "source": [
    "The command exited in timeout since the throughput was not at all what was expected.\n",
    "\n",
    "    Consumers status: threads: 16, failure 0, \n",
    "    messages committed: 181842842, elapsed: 59763.90s, \n",
    "    throughput: 3042.69 msg/s\n"
   ]
  },
  {
   "cell_type": "markdown",
   "metadata": {},
   "source": [
    "Completed without errors, but the throughput is lower than expected.\n",
    "The import started fast but finished slow.\n",
    "\n",
    "#### Import statements"
   ]
  },
  {
   "cell_type": "code",
   "execution_count": null,
   "metadata": {},
   "outputs": [],
   "source": [
    "# import statements\n",
    "nbDocs = 89997827*6\n",
    "expectedThroughput = 9000\n",
    "print(\"expected duration (s) =\", round(nbDocs/expectedThroughput))\n",
    "print(\"expected duration (h) =\", round((nbDocs/expectedThroughput)/3600))"
   ]
  },
  {
   "cell_type": "code",
   "execution_count": null,
   "metadata": {},
   "outputs": [],
   "source": [
    "!import.sh -o import -t 16 -l import/statements_live-us-east -r us-east -b / -a -w 200000 -bulk > import-useast-live-statements.log"
   ]
  },
  {
   "cell_type": "markdown",
   "metadata": {},
   "source": [
    "Looks like the importer was stuck at some point because it was started with 16 threads whereas there are 24 partitions.\n",
    "\n",
    "\n",
    "See [this notebook](explore/unbalanced-import.ipynb) for more explanations on the probem created by this."
   ]
  },
  {
   "cell_type": "markdown",
   "metadata": {},
   "source": [
    "\n",
    "See [this notebook](explore/import-m60-througput.ipynb) for more details on the throughput limitations.\n"
   ]
  },
  {
   "cell_type": "markdown",
   "metadata": {},
   "source": [
    "### Indexing US-EAST"
   ]
  },
  {
   "cell_type": "markdown",
   "metadata": {},
   "source": [
    "Because at this point Kafka is almost full, we need to cleanup some of the streams, typically the streams that have been used to reindex US-WEST.\n",
    "\n",
    "<img src=\"monitoring/kafka-storage-clean.png\"/>\n",
    "\n",
    " - scale out the number of Nuxeo Worker nodes \n",
    "     - 1 => 5\n",
    " - configure ES for bulk indexing (see [ES toolbox](../ToolBox/Elasticsearch.ipynb))\n",
    "     - no replicas\n",
    "     - refresh rate  \n",
    " - configure the US-EAST MongoDB cluster use allow read from secondaries\n",
    "     - add `?readPreference=nearest` to the connection url\n",
    "     \n",
    "\n",
    "Associated Datadog notebook: https://app.datadoghq.com/notebook/275428/index-us-east"
   ]
  },
  {
   "cell_type": "markdown",
   "metadata": {},
   "source": [
    "Start Indexing on US-EAST using BAF  "
   ]
  },
  {
   "cell_type": "code",
   "execution_count": 12,
   "metadata": {},
   "outputs": [
    {
     "name": "stdout",
     "output_type": "stream",
     "text": [
      "{\"commandId\":\"d1fc4c28-dafb-4c69-bf65-a7d8efdb2dc6\"}"
     ]
    }
   ],
   "source": [
    "!(INJECTOR=\"http://127.0.0.1:8080\";\\\n",
    "curl -H 'Content-Type:application/json+nxrequest' \\\n",
    "  -H 'X-NXRepository:us-east' \\\n",
    "  -X POST -d '{\"params\":{},\"context\":{}}' -u $NXUSER:$NXPWD \\\n",
    "  \"$INJECTOR/nuxeo/api/v1/automation/Elasticsearch.BulkIndex\")"
   ]
  },
  {
   "cell_type": "code",
   "execution_count": 13,
   "metadata": {},
   "outputs": [
    {
     "name": "stdout",
     "output_type": "stream",
     "text": [
      "{\"entity-type\":\"bulkStatus\",\"commandId\":\"d1fc4c28-dafb-4c69-bf65-a7d8efdb2dc6\",\"state\":\"SCROLLING_RUNNING\",\"processed\":132270,\"error\":false,\"errorCount\":0,\"total\":0,\"action\":\"index\",\"username\":\"nco-admin\",\"submitted\":\"2020-09-16T01:23:49.637Z\",\"scrollStart\":\"2020-09-16T01:23:49.716Z\",\"scrollEnd\":null,\"processingStart\":null,\"processingEnd\":null,\"completed\":null,\"processingMillis\":0}"
     ]
    }
   ],
   "source": [
    "# check status\n",
    "! cid=\"d1fc4c28-dafb-4c69-bf65-a7d8efdb2dc6\"; \\\n",
    "  INJECTOR=\"http://127.0.0.1:8080\"; \\\n",
    "  curl -H 'Content-Type:application/json+nxrequest' -H 'X-NXRepository:us-east' \\\n",
    "  -u $NXUSER:$NXPWD $INJECTOR/nuxeo/api/v1/bulk/$cid"
   ]
  },
  {
   "cell_type": "markdown",
   "metadata": {},
   "source": [
    "Once indexing is actually started, the index has been deleted and recreated by Nuxeo with the default configuration.\n",
    "\n",
    "We can now temporarily tweak the configuration to speed up indexing."
   ]
  },
  {
   "cell_type": "code",
   "execution_count": 15,
   "metadata": {
    "scrolled": true
   },
   "outputs": [
    {
     "name": "stdout",
     "output_type": "stream",
     "text": [
      "{\"acknowledged\":true}"
     ]
    }
   ],
   "source": [
    "!curl -X PUT $ES_SERVER/us-east/_settings -H \"Content-Type: application/json\"    -d '{\"index\" : { \"number_of_replicas\" : 0  , \"refresh_interval\" : -1 } }'"
   ]
  },
  {
   "cell_type": "code",
   "execution_count": 31,
   "metadata": {},
   "outputs": [
    {
     "name": "stdout",
     "output_type": "stream",
     "text": [
      "{\"entity-type\":\"bulkStatus\",\"commandId\":\"d1fc4c28-dafb-4c69-bf65-a7d8efdb2dc6\",\"state\":\"COMPLETED\",\"processed\":818298652,\"error\":false,\"errorCount\":0,\"total\":818298652,\"action\":\"index\",\"username\":\"nco-admin\",\"submitted\":\"2020-09-16T01:23:49.637Z\",\"scrollStart\":\"2020-09-16T01:23:49.716Z\",\"scrollEnd\":\"2020-09-16T04:36:03.312Z\",\"processingStart\":null,\"processingEnd\":null,\"completed\":\"2020-09-16T18:03:02.420Z\",\"processingMillis\":0}"
     ]
    }
   ],
   "source": [
    "# check status\n",
    "! cid=\"d1fc4c28-dafb-4c69-bf65-a7d8efdb2dc6\"; \\\n",
    "  INJECTOR=\"http://127.0.0.1:8080\"; \\\n",
    "  curl -H 'Content-Type:application/json+nxrequest' -H 'X-NXRepository:us-east' \\\n",
    "  -u $NXUSER:$NXPWD $INJECTOR/nuxeo/api/v1/bulk/$cid"
   ]
  },
  {
   "cell_type": "code",
   "execution_count": 32,
   "metadata": {},
   "outputs": [
    {
     "name": "stdout",
     "output_type": "stream",
     "text": [
      "13,649.05 docs/s\n"
     ]
    }
   ],
   "source": [
    "from dateutil import parser\n",
    "start = \"2020-09-16T01:23:49.637Z\"\n",
    "end = \"2020-09-16T18:03:02.420Z\"\n",
    "nbdocs = 818298652\n",
    "s = parser.parse(start)\n",
    "e = parser.parse(end) \n",
    "throughput = nbdocs / (e-s).total_seconds()\n",
    "\n",
    "print('%s docs/s' % format(throughput, ',.2f'))"
   ]
  },
  {
   "cell_type": "code",
   "execution_count": 33,
   "metadata": {},
   "outputs": [
    {
     "name": "stdout",
     "output_type": "stream",
     "text": [
      "{\"acknowledged\":true}"
     ]
    }
   ],
   "source": [
    "!curl -X PUT $ES_SERVER/us-east/_settings -H \"Content-Type: application/json\"    -d '{\"index\" : { \"number_of_replicas\" : 1  , \"refresh_interval\" : null } }'"
   ]
  },
  {
   "cell_type": "markdown",
   "metadata": {},
   "source": [
    "### Import in US-WEST"
   ]
  },
  {
   "cell_type": "code",
   "execution_count": 20,
   "metadata": {},
   "outputs": [
    {
     "name": "stdout",
     "output_type": "stream",
     "text": [
      "Using config /nxbench/notebooks/11B-Steps/nuxeo.properties\n",
      "url=http://127.0.0.1:8080/nuxeo\n",
      "login=nco-admin\n",
      "Nuxeo Client configured\n",
      "Connected to Nuxeo Server 11.3.26\n",
      "Running Operation:StreamImporter.runDocumentConsumersEx\n",
      "   nbThreads: 10 \n",
      "   logName: import/states-hierarchy-us-west \n",
      "   blockDefaultSyncListeners: true \n",
      "   rootFolder: / \n",
      "   logSize: 8 \n",
      "   batchSize: 500 \n",
      "#####################\n",
      "Execution completed\n",
      "elapsed:60.041\n",
      "committed:26\n",
      "failures:0\n",
      "consumers:8\n",
      "throughput:0.43303742442664184\n",
      "\n"
     ]
    }
   ],
   "source": [
    "# import in synchronous mode\n",
    "!import.sh -o import -l import/states-hierarchy-us-west -r us-west -b /"
   ]
  },
  {
   "cell_type": "code",
   "execution_count": 21,
   "metadata": {},
   "outputs": [],
   "source": [
    "!import.sh -o import -t 16 -l import/customers-us-west -r us-west -b / -a -w 8000 -bulk > import-uswest-customers.log"
   ]
  },
  {
   "cell_type": "code",
   "execution_count": 22,
   "metadata": {},
   "outputs": [
    {
     "name": "stdout",
     "output_type": "stream",
     "text": [
      "Nuxeo Client configured\n",
      "................................................................................................................\n",
      "Running completed\n",
      "elapsed:6747.088\n",
      "committed:89076866\n",
      "failures:0\n",
      "consumers:16\n",
      "throughput:13202.268297078681\n",
      "\n",
      "Exit after 6781 s\n"
     ]
    }
   ],
   "source": [
    "!tail import-uswest-customers.log"
   ]
  },
  {
   "cell_type": "code",
   "execution_count": 23,
   "metadata": {},
   "outputs": [],
   "source": [
    "!import.sh -o import -t 16 -l import/accounts-us-west -r us-west -b / -a -w 40000 -bulk > import-uswest-accounts.log"
   ]
  },
  {
   "cell_type": "code",
   "execution_count": 24,
   "metadata": {},
   "outputs": [
    {
     "name": "stdout",
     "output_type": "stream",
     "text": [
      "Async Automation Execution Scheduled\n",
      "  => status url:[http://127.0.0.1:8080/nuxeo/site/api/v1/automation/StreamImporter.runDocumentConsumersEx/@async/27bba16f-b9bf-4565-85ce-f7a715ba6414/status]\n",
      "#####################\n",
      "Execution completed\n",
      "\n",
      "waiting for end of Async Exec\n",
      "url=http://127.0.0.1:8080/nuxeo\n",
      "login=nco-admin\n",
      "Nuxeo Client configured\n",
      "...........................................................................................................................................................................................................................................................................................................................................................................................................................................................................................................................................................................................................................................................................................Exit with timeout\n"
     ]
    }
   ],
   "source": [
    "!tail import-uswest-accounts.log"
   ]
  },
  {
   "cell_type": "markdown",
   "metadata": {},
   "source": [
    "    Consumers status: threads: 16, failure 0, messages committed: 178154882, elapsed: 55277.80s, throughput: 3222.90 msg/s\n"
   ]
  },
  {
   "cell_type": "code",
   "execution_count": 25,
   "metadata": {},
   "outputs": [],
   "source": [
    "!import.sh -o import -t 24 -l import/statements_live-us-west -r us-west -b / -a -w 80000 -bulk > import-uswest-live-statements.log"
   ]
  },
  {
   "cell_type": "markdown",
   "metadata": {},
   "source": [
    "\n",
    "Import completed.\n",
    "Import ends with some errors because there are is a small overflow of statements, so the last statements correspond to accounts that were not imported: this is a side effect of rounding the number of documents created.\n",
    "\n",
    "More detailed monitoring is available [here](Monitoring-US-WEST.ipynb)\n"
   ]
  },
  {
   "cell_type": "markdown",
   "metadata": {},
   "source": [
    "### Indexing US-WEST\n",
    " \n",
    " - configure ES for bulk indexing (see [ES toolbox](../ToolBox/Elasticsearch.ipynb))\n",
    "     - no replicas\n",
    "     - refresh rate"
   ]
  },
  {
   "cell_type": "code",
   "execution_count": 12,
   "metadata": {},
   "outputs": [
    {
     "name": "stdout",
     "output_type": "stream",
     "text": [
      "{\"acknowledged\":true}"
     ]
    }
   ],
   "source": [
    "!curl -X PUT $ES_SERVER/us-west/_settings -H \"Content-Type: application/json\"    -d '{\"index\" : { \"number_of_replicas\" : 0  , \"refresh_interval\" : -1 } }'"
   ]
  },
  {
   "cell_type": "markdown",
   "metadata": {},
   "source": [
    "Start Indexing on US-WEST using BAF    "
   ]
  },
  {
   "cell_type": "code",
   "execution_count": 3,
   "metadata": {},
   "outputs": [
    {
     "name": "stdout",
     "output_type": "stream",
     "text": [
      "{\"commandId\":\"a5920313-7abc-445c-9a64-a7dcf126b50a\"}"
     ]
    }
   ],
   "source": [
    "!(INJECTOR=\"http://127.0.0.1:8080\";\\\n",
    "curl -H 'Content-Type:application/json+nxrequest' \\\n",
    "  -H 'X-NXRepository:us-west' \\\n",
    "  -X POST -d '{\"params\":{},\"context\":{}}' -u $NXUSER:$NXPWD \\\n",
    "  \"$INJECTOR/nuxeo/api/v1/automation/Elasticsearch.BulkIndex\")"
   ]
  },
  {
   "cell_type": "code",
   "execution_count": 6,
   "metadata": {},
   "outputs": [
    {
     "name": "stdout",
     "output_type": "stream",
     "text": [
      "{\"entity-type\":\"bulkStatus\",\"commandId\":\"a5920313-7abc-445c-9a64-a7dcf126b50a\",\"state\":\"COMPLETED\",\"processed\":33838270,\"error\":true,\"errorCount\":1,\"errorMessage\":\"Invalid command\",\"total\":0,\"action\":\"index\",\"username\":\"nco-admin\",\"submitted\":\"2020-09-14T22:41:21.304Z\",\"scrollStart\":\"2020-09-14T22:41:21.371Z\",\"scrollEnd\":\"2020-09-14T23:49:23.660Z\",\"processingStart\":null,\"processingEnd\":null,\"completed\":\"2020-09-14T23:49:23.660Z\",\"processingMillis\":0}"
     ]
    }
   ],
   "source": [
    "# check status\n",
    "! cid=\"a5920313-7abc-445c-9a64-a7dcf126b50a\"; \\\n",
    "  INJECTOR=\"http://127.0.0.1:8080\"; \\\n",
    "  curl -H 'Content-Type:application/json+nxrequest' -H 'X-NXRepository:us-west' \\\n",
    "  -u $NXUSER:$NXPWD $INJECTOR/nuxeo/api/v1/bulk/$cid"
   ]
  },
  {
   "cell_type": "markdown",
   "metadata": {},
   "source": [
    "Failed because of Timeout in MongoDB\n",
    "\n",
    "    com.mongodb.MongoExecutionTimeoutException: operation exceeded time limit\n",
    "\tat com.mongodb.internal.connection.ProtocolHelper.createSpecialException(ProtocolHelper.java:239) ~[mongo-java-driver-3.12.1.jar:?]\n",
    "\tat com.mongodb.internal.connection.ProtocolHelper.getCommandFailureException(ProtocolHelper.java:171) ~[mongo-java-driver-3.12.1.jar:?]\n",
    "\tat com.mongodb.internal.connection.InternalStreamConnection.receiveCommandMessageResponse(InternalStreamConnection.java:303) ~[mongo-java-driver-3.12.1.jar:?]\n",
    "\tat com.mongodb.internal.connection.InternalStreamConnection.sendAndReceive(InternalStreamConnection.java:259) ~[mongo-java-driver-3.12.1.jar:?]\n",
    "\tat com.mongodb.internal.connection.UsageTrackingInternalConnection.sendAndReceive(UsageTrackingInternalConnection.java:99) ~[mongo-java-driver-3.12.1.jar:?]\n",
    "\tat com.mongodb.internal.connection.DefaultConnectionPool$PooledConnection.sendAndReceive(DefaultConnectionPool.java:450) ~[mongo-java-driver-3.12.1.jar:?]\n",
    "\tat com.mongodb.internal.connection.CommandProtocolImpl.execute(CommandProtocolImpl.java:72) ~[mongo-java-driver-3.12.1.jar:?]\n",
    "\tat com.mongodb.internal.connection.DefaultServer$DefaultServerProtocolExecutor.execute(DefaultServer.java:226) ~[mongo-java-driver-3.12.1.jar:?]\n",
    "\tat com.mongodb.internal.connection.DefaultServerConnection.executeProtocol(DefaultServerConnection.java:269) ~[mongo-java-driver-3.12.1.jar:?]\n",
    "\tat com.mongodb.internal.connection.DefaultServerConnection.command(DefaultServerConnection.java:131) ~[mongo-java-driver-3.12.1.jar:?]\n",
    "\tat com.mongodb.internal.connection.DefaultServerConnection.command(DefaultServerConnection.java:123) ~[mongo-java-driver-3.12.1.jar:?]\n",
    "\tat com.mongodb.operation.QueryBatchCursor.getMore(QueryBatchCursor.java:260) ~[mongo-java-driver-3.12.1.jar:?]\n",
    "\tat com.mongodb.operation.QueryBatchCursor.hasNext(QueryBatchCursor.java:138) ~[mongo-java-driver-3.12.1.jar:?]\n",
    "\tat com.mongodb.client.internal.MongoBatchCursorAdapter.hasNext(MongoBatchCursorAdapter.java:54) ~[mongo-java-driver-3.12.1.jar:?]\n",
    "\tat org.nuxeo.ecm.core.api.CursorResult.hasNext(CursorResult.java:71) ~[nuxeo-core-api-11.3.26.jar:?]\n",
    "\tat org.nuxeo.ecm.core.api.CursorService.scroll(CursorService.java:137) ~[nuxeo-core-api-11.3.26.jar:?]\n",
    "\tat org.nuxeo.ecm.core.storage.mongodb.MongoDBConnection.scroll(MongoDBConnection.java:843) ~[nuxeo-core-storage-mongodb-11.3.26.jar:?]"
   ]
  },
  {
   "cell_type": "markdown",
   "metadata": {},
   "source": [
    "ReRun indexixng after having:\n",
    " \n",
    " - changed the MongoDB Timeout to 12h\n",
    " - changed the concurrent for bulk indexing (several times)\n",
    " - cleaned part of the stream \n",
    " \n",
    " \n",
    "    > kafka-topics.sh -bootstrap-server b-1.nxbench-2826-bench-11.yx3zdh.c4.kafka.us-east-1.amazonaws.com:9094  --command-config kafka-ssl.properties --delete --topic nuxeo-work-default\n",
    "    > kafka-topics.sh -bootstrap-server b-1.nxbench-2826-bench-11.yx3zdh.c4.kafka.us-east-1.amazonaws.com:9094  --command-config kafka-ssl.properties --delete --topic nuxeo-work-updateACEStatus\n",
    "    > kafka-topics.sh -bootstrap-server b-1.nxbench-2826-bench-11.yx3zdh.c4.kafka.us-east-1.amazonaws.com:9094  --command-config kafka-ssl.properties --delete --topic nuxeo-work-elasticSearchIndexing\n",
    "    > kafka-topics.sh -bootstrap-server b-1.nxbench-2826-bench-11.yx3zdh.c4.kafka.us-east-1.amazonaws.com:9094  --command-config kafka-ssl.properties --delete --topic nuxeo-bulk-.*\n"
   ]
  },
  {
   "cell_type": "code",
   "execution_count": 16,
   "metadata": {},
   "outputs": [
    {
     "name": "stdout",
     "output_type": "stream",
     "text": [
      "{\"commandId\":\"d7089bee-0935-4709-9b12-499b04b96032\"}"
     ]
    }
   ],
   "source": [
    "!(INJECTOR=\"http://127.0.0.1:8080\";\\\n",
    "curl -H 'Content-Type:application/json+nxrequest' \\\n",
    "  -H 'X-NXRepository:us-west' \\\n",
    "  -X POST -d '{\"params\":{},\"context\":{}}' -u $NXUSER:$NXPWD \\\n",
    "  \"$INJECTOR/nuxeo/api/v1/automation/Elasticsearch.BulkIndex\")"
   ]
  },
  {
   "cell_type": "code",
   "execution_count": 17,
   "metadata": {},
   "outputs": [
    {
     "name": "stdout",
     "output_type": "stream",
     "text": [
      "{\"entity-type\":\"bulkStatus\",\"commandId\":\"d7089bee-0935-4709-9b12-499b04b96032\",\"state\":\"SCROLLING_RUNNING\",\"processed\":60133,\"error\":false,\"errorCount\":0,\"total\":0,\"action\":\"index\",\"username\":\"nco-admin\",\"submitted\":\"2020-09-15T03:29:26.385Z\",\"scrollStart\":\"2020-09-15T03:29:26.471Z\",\"scrollEnd\":null,\"processingStart\":null,\"processingEnd\":null,\"completed\":null,\"processingMillis\":0}"
     ]
    }
   ],
   "source": [
    "# check status\n",
    "! cid=\"d7089bee-0935-4709-9b12-499b04b96032\"; \\\n",
    "  INJECTOR=\"http://127.0.0.1:8080\"; \\\n",
    "  curl -H 'Content-Type:application/json+nxrequest' -H 'X-NXRepository:us-west' \\\n",
    "  -u $NXUSER:$NXPWD $INJECTOR/nuxeo/api/v1/bulk/$cid"
   ]
  },
  {
   "cell_type": "code",
   "execution_count": 1,
   "metadata": {},
   "outputs": [
    {
     "name": "stdout",
     "output_type": "stream",
     "text": [
      "{\"entity-type\":\"bulkStatus\",\"commandId\":\"d7089bee-0935-4709-9b12-499b04b96032\",\"state\":\"COMPLETED\",\"processed\":801708762,\"error\":false,\"errorCount\":0,\"total\":801695569,\"action\":\"index\",\"username\":\"nco-admin\",\"submitted\":\"2020-09-15T03:29:26.385Z\",\"scrollStart\":\"2020-09-15T03:29:26.471Z\",\"scrollEnd\":\"2020-09-15T08:39:23.314Z\",\"processingStart\":null,\"processingEnd\":null,\"completed\":\"2020-09-15T20:09:45.964Z\",\"processingMillis\":0}"
     ]
    }
   ],
   "source": [
    "# check status\n",
    "! cid=\"d7089bee-0935-4709-9b12-499b04b96032\"; \\\n",
    "  INJECTOR=\"http://127.0.0.1:8080\"; \\\n",
    "  curl -H 'Content-Type:application/json+nxrequest' -H 'X-NXRepository:us-west' \\\n",
    "  -u $NXUSER:$NXPWD $INJECTOR/nuxeo/api/v1/bulk/$cid"
   ]
  },
  {
   "cell_type": "code",
   "execution_count": 11,
   "metadata": {},
   "outputs": [
    {
     "name": "stdout",
     "output_type": "stream",
     "text": [
      "13,357.23 docs/s\n"
     ]
    }
   ],
   "source": [
    "from dateutil import parser\n",
    "start = \"2020-09-15T03:29:26.385Z\"\n",
    "end = \"2020-09-15T20:09:45.964Z\"\n",
    "nbdocs = 801695569\n",
    "s = parser.parse(start)\n",
    "e = parser.parse(end) \n",
    "throughput = nbdocs / (e-s).total_seconds()\n",
    "\n",
    "print('%s docs/s' % format(throughput, ',.2f'))"
   ]
  },
  {
   "cell_type": "code",
   "execution_count": null,
   "metadata": {},
   "outputs": [],
   "source": []
  }
 ],
 "metadata": {
  "kernelspec": {
   "display_name": "Python 3",
   "language": "python",
   "name": "python3"
  },
  "language_info": {
   "codemirror_mode": {
    "name": "ipython",
    "version": 3
   },
   "file_extension": ".py",
   "mimetype": "text/x-python",
   "name": "python",
   "nbconvert_exporter": "python",
   "pygments_lexer": "ipython3",
   "version": "3.7.3"
  }
 },
 "nbformat": 4,
 "nbformat_minor": 4
}
