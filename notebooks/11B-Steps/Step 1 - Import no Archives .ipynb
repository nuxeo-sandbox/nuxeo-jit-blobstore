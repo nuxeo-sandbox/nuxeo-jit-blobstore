{
 "cells": [
  {
   "cell_type": "markdown",
   "metadata": {},
   "source": [
    "### Initial Setup\n",
    "\n",
    " - initialize the repositories and MongoDB indexes [see commands here](../ToolBox/Repository-Cleanup.ipynb)\n",
    "    - for `us-east` and `us-west`"
   ]
  },
  {
   "cell_type": "markdown",
   "metadata": {},
   "source": [
    "### Import in US-EAST"
   ]
  },
  {
   "cell_type": "code",
   "execution_count": null,
   "metadata": {},
   "outputs": [],
   "source": [
    "# import in synchronous mode\n",
    "!import.sh -o import -l import/states-hierarchy-us-east -r us-east -b /"
   ]
  },
  {
   "cell_type": "code",
   "execution_count": 7,
   "metadata": {},
   "outputs": [
    {
     "name": "stdout",
     "output_type": "stream",
     "text": [
      "expected duration (s) = 6428\n",
      "expected duration (h) = 2\n"
     ]
    }
   ],
   "source": [
    "# import customers\n",
    "nbDocs = 89997827\n",
    "expectedThroughput = 14000\n",
    "print(\"expected duration (s) =\", round(nbDocs/expectedThroughput))\n",
    "print(\"expected duration (h) =\", round((nbDocs/expectedThroughput)/3600))"
   ]
  },
  {
   "cell_type": "code",
   "execution_count": null,
   "metadata": {},
   "outputs": [],
   "source": [
    "!import.sh -o import -t 16 -l import/customers-us-east -r us-east -b / -a -w 8000 -bulk"
   ]
  },
  {
   "cell_type": "code",
   "execution_count": 8,
   "metadata": {},
   "outputs": [
    {
     "name": "stdout",
     "output_type": "stream",
     "text": [
      "expected duration (s) = 18000\n",
      "expected duration (h) = 5\n"
     ]
    }
   ],
   "source": [
    "# import accounts\n",
    "nbDocs = 89997827*2\n",
    "expectedThroughput = 10000\n",
    "print(\"expected duration (s) =\", round(nbDocs/expectedThroughput))\n",
    "print(\"expected duration (h) =\", round((nbDocs/expectedThroughput)/3600))"
   ]
  },
  {
   "cell_type": "code",
   "execution_count": null,
   "metadata": {},
   "outputs": [],
   "source": [
    "!import.sh -o import -t 16 -l import/account-us-east -r us-east -b / -a -w 20000 -bulk"
   ]
  },
  {
   "cell_type": "code",
   "execution_count": 10,
   "metadata": {},
   "outputs": [
    {
     "name": "stdout",
     "output_type": "stream",
     "text": [
      "expected duration (s) = 53999\n",
      "expected duration (h) = 15\n"
     ]
    }
   ],
   "source": [
    "# import statements\n",
    "nbDocs = 89997827*6\n",
    "expectedThroughput = 10000\n",
    "print(\"expected duration (s) =\", round(nbDocs/expectedThroughput))\n",
    "print(\"expected duration (h) =\", round((nbDocs/expectedThroughput)/3600))"
   ]
  },
  {
   "cell_type": "code",
   "execution_count": null,
   "metadata": {},
   "outputs": [],
   "source": [
    "!import.sh -o import -t 16 -l import/statements_archive0-us-east -r us-east -b / -a -w 60000 -bulk"
   ]
  },
  {
   "cell_type": "markdown",
   "metadata": {},
   "source": [
    "### Indexing US-EAST"
   ]
  },
  {
   "cell_type": "markdown",
   "metadata": {},
   "source": [
    " - scale out the number of Nuxeo Worker nodes\n",
    " - configure ES for bulk indexing (see [ES toolbox](../ToolBox/Elasticsearch.ipynb))\n",
    "     - no replicas\n",
    "     - refresh rate\n",
    "     \n",
    " Start Indexing on US-EAST using BAF    "
   ]
  },
  {
   "cell_type": "code",
   "execution_count": 27,
   "metadata": {},
   "outputs": [
    {
     "name": "stdout",
     "output_type": "stream",
     "text": [
      "curl: (7) Failed to connect to 127.0.0.1 port 8080: Connection refused\r\n"
     ]
    }
   ],
   "source": [
    "!(INJECTOR=\"http://127.0.0.1:8080\";\\\n",
    "curl -H 'Content-Type:application/json+nxrequest' \\\n",
    "  -H 'X-NXRepository:us-east' \\\n",
    "  -X POST -d '{\"params\":{},\"context\":{}}' -u $NXUSER:$NXPWD \\\n",
    "  \"$INJECTOR/nuxeo/api/v1/automation/Elasticsearch.BulkIndex\")"
   ]
  },
  {
   "cell_type": "code",
   "execution_count": 29,
   "metadata": {},
   "outputs": [
    {
     "name": "stdout",
     "output_type": "stream",
     "text": [
      "curl: (7) Failed to connect to 127.0.0.1 port 8080: Connection refused\r\n"
     ]
    }
   ],
   "source": [
    "# check status\n",
    "! cid=\"6057b8cb-c073-466c-96c5-9252aee168cc\"; \\\n",
    "  INJECTOR=\"http://127.0.0.1:8080\"; \\\n",
    "  curl -H 'Content-Type:application/json+nxrequest' -H 'X-NXRepository:us-east' \\\n",
    "  -u $NXUSER:$NXPWD $INJECTOR/nuxeo/api/v1/bulk/$cid"
   ]
  },
  {
   "cell_type": "markdown",
   "metadata": {},
   "source": [
    "### Import in US-WEST"
   ]
  },
  {
   "cell_type": "code",
   "execution_count": null,
   "metadata": {},
   "outputs": [],
   "source": [
    "# import in synchronous mode\n",
    "!import.sh -o import -l import/states-hierarchy-us-west -r us-west -b /"
   ]
  },
  {
   "cell_type": "code",
   "execution_count": null,
   "metadata": {},
   "outputs": [],
   "source": [
    "!import.sh -o import -t 16 -l import/customers-us-west -r us-west -b / -a -w 8000 -bulk"
   ]
  },
  {
   "cell_type": "code",
   "execution_count": null,
   "metadata": {},
   "outputs": [],
   "source": [
    "!import.sh -o import -t 16 -l import/account-us-west -r us-west -b / -a -w 20000 -bulk"
   ]
  },
  {
   "cell_type": "code",
   "execution_count": null,
   "metadata": {},
   "outputs": [],
   "source": [
    "!import.sh -o import -t 16 -l import/statements_archive0-us-west -r us-west -b / -a -w 60000 -bulk"
   ]
  },
  {
   "cell_type": "markdown",
   "metadata": {},
   "source": [
    "### Indexing US-WEST\n",
    " \n",
    " - configure ES for bulk indexing (see [ES toolbox](../ToolBox/Elasticsearch.ipynb))\n",
    "     - no replicas\n",
    "     - refresh rate\n",
    "     \n",
    "Start Indexing on US-WEST using BAF    "
   ]
  },
  {
   "cell_type": "code",
   "execution_count": null,
   "metadata": {},
   "outputs": [],
   "source": [
    "!(INJECTOR=\"http://127.0.0.1:8080\";\\\n",
    "curl -H 'Content-Type:application/json+nxrequest' \\\n",
    "  -H 'X-NXRepository:us-west' \\\n",
    "  -X POST -d '{\"params\":{},\"context\":{}}' -u $NXUSER:$NXPWD \\\n",
    "  \"$INJECTOR/nuxeo/api/v1/automation/Elasticsearch.BulkIndex\")"
   ]
  },
  {
   "cell_type": "code",
   "execution_count": null,
   "metadata": {},
   "outputs": [],
   "source": [
    "# check status\n",
    "! cid=\"6057b8cb-c073-466c-96c5-9252aee168cc\"; \\\n",
    "  INJECTOR=\"http://127.0.0.1:8080\"; \\\n",
    "  curl -H 'Content-Type:application/json+nxrequest' -H 'X-NXRepository:us-west' \\\n",
    "  -u $NXUSER:$NXPWD $INJECTOR/nuxeo/api/v1/bulk/$cid"
   ]
  }
 ],
 "metadata": {
  "kernelspec": {
   "display_name": "Python 3",
   "language": "python",
   "name": "python3"
  },
  "language_info": {
   "codemirror_mode": {
    "name": "ipython",
    "version": 3
   },
   "file_extension": ".py",
   "mimetype": "text/x-python",
   "name": "python",
   "nbconvert_exporter": "python",
   "pygments_lexer": "ipython3",
   "version": "3.7.3"
  }
 },
 "nbformat": 4,
 "nbformat_minor": 4
}
