{
 "cells": [
  {
   "cell_type": "markdown",
   "metadata": {},
   "source": [
    "### States hierarchy\n",
    "\n",
    "Import the 52 states in 2 differents streams"
   ]
  },
  {
   "cell_type": "code",
   "execution_count": null,
   "metadata": {},
   "outputs": [],
   "source": [
    "!import.sh -o consumertree -l import/states-hierarchy -m "
   ]
  },
  {
   "cell_type": "markdown",
   "metadata": {},
   "source": [
    "### Customers\n",
    "\n",
    "Import the 89,997,827 Customers/IDCards in 2 differents streams"
   ]
  },
  {
   "cell_type": "code",
   "execution_count": null,
   "metadata": {},
   "outputs": [],
   "source": [
    "!csvImport.sh -t 10 -p 16 -o ConsumerProducers -serverThreads 32 -b 50000 \\\n",
    "  -f ../../data/sources/all-id-cards.csv -m -l import/customers"
   ]
  },
  {
   "cell_type": "markdown",
   "metadata": {},
   "source": [
    "### Accounts\n",
    "\n",
    "Import the 179,998,862 Accouts/Correspondence in 2 differents streams"
   ]
  },
  {
   "cell_type": "code",
   "execution_count": null,
   "metadata": {},
   "outputs": [],
   "source": [
    "!csvImport.sh -t 10 -p 16 -o AccountProducers -serverThreads 32 -b 50000 \\\n",
    "  -f ../../data/sources/all-accounts.csv -m -l import/accounts"
   ]
  },
  {
   "cell_type": "markdown",
   "metadata": {},
   "source": [
    "### Non Archived Statememnts\n",
    "\n",
    "Generate 179,998,862*6 statements in 2 different streams.\n",
    "\n",
    "Because of a bug in the data generation lib, we need to generate with a month offset of 6 to actually get the last 6 months."
   ]
  },
  {
   "cell_type": "code",
   "execution_count": 23,
   "metadata": {},
   "outputs": [
    {
     "name": "stdout",
     "output_type": "stream",
     "text": [
      "nb statements = 1079993172\n",
      "expected duration (s) = 26999.8293\n"
     ]
    }
   ],
   "source": [
    "ns = 179998862* 6\n",
    "print(\"nb statements =\", ns)\n",
    "print(\"expected duration (s) =\", ns/40000)"
   ]
  },
  {
   "cell_type": "code",
   "execution_count": null,
   "metadata": {},
   "outputs": [],
   "source": [
    "!import.sh -o statements -l import/statements_live -m  -d 6 -monthOffset 6  \\\n",
    "  -smartPartitioning -n 1079993172 -t 240 -p 24 -a -w 30000"
   ]
  },
  {
   "cell_type": "markdown",
   "metadata": {},
   "source": [
    "### Achived Statements - part 0\n",
    "\n",
    "This time, we generate in single repository and without offset to get the first 6 months of the year."
   ]
  },
  {
   "cell_type": "code",
   "execution_count": 22,
   "metadata": {},
   "outputs": [
    {
     "name": "stdout",
     "output_type": "stream",
     "text": [
      "nb statements = 1079993172\n",
      "expected duration (s) = 26999.8293\n"
     ]
    }
   ],
   "source": [
    "ns = 179998862* 6\n",
    "print(\"nb statements =\", ns)\n",
    "print(\"expected duration (s) =\", ns/40000)"
   ]
  },
  {
   "cell_type": "code",
   "execution_count": null,
   "metadata": {},
   "outputs": [],
   "source": [
    "!import.sh -o statements -l import/statements_archive0 -d 6 -monthOffset 0  \\\n",
    "  -smartPartitioning -n 1079993172 -t 240 -p 24 -a -w 30000"
   ]
  },
  {
   "cell_type": "markdown",
   "metadata": {},
   "source": [
    "### Achived Statements - part 1\n",
    "\n",
    "Generate Statements 1\n",
    "year at a time in single repository mode."
   ]
  },
  {
   "cell_type": "code",
   "execution_count": 24,
   "metadata": {},
   "outputs": [
    {
     "name": "stdout",
     "output_type": "stream",
     "text": [
      "nb statements = 2159986344\n",
      "expected duration (s) = 53999.6586\n"
     ]
    }
   ],
   "source": [
    "ns = 179998862* 12\n",
    "print(\"nb statements =\", ns)\n",
    "print(\"expected duration (s) =\", ns/40000)"
   ]
  },
  {
   "cell_type": "code",
   "execution_count": null,
   "metadata": {},
   "outputs": [],
   "source": [
    "!import.sh -o statements -l import/statements_archive1 -d 12 -monthOffset 12  \\\n",
    "  -smartPartitioning -n 2159986344 -t 240 -p 24 -a -w 65000"
   ]
  },
  {
   "cell_type": "markdown",
   "metadata": {},
   "source": [
    "### Achived Statements - part 2\n",
    "\n",
    "1 year"
   ]
  },
  {
   "cell_type": "code",
   "execution_count": null,
   "metadata": {},
   "outputs": [],
   "source": [
    "!import.sh -o statements -l import/statements_archive2 -d 12 -monthOffset 24  \\\n",
    "  -smartPartitioning -n 2159986344 -t 240 -p 24 -a -w 65000"
   ]
  },
  {
   "cell_type": "markdown",
   "metadata": {},
   "source": [
    "### Achived Statements - part 3"
   ]
  },
  {
   "cell_type": "code",
   "execution_count": null,
   "metadata": {},
   "outputs": [],
   "source": [
    "!import.sh -o statements -l import/statements_archive3 -d 12 -monthOffset 36  \\\n",
    "  -smartPartitioning -n 2159986344 -t 240 -p 24 -a -w 65000"
   ]
  },
  {
   "cell_type": "markdown",
   "metadata": {},
   "source": [
    "### Achived Statements - part 4"
   ]
  },
  {
   "cell_type": "code",
   "execution_count": null,
   "metadata": {},
   "outputs": [],
   "source": [
    "!import.sh -o statements -l import/statements_archive4 -d 12 -monthOffset 48  \\\n",
    "  -smartPartitioning -n 2159986344 -t 240 -p 24 -a -w 65000"
   ]
  }
 ],
 "metadata": {
  "kernelspec": {
   "display_name": "Python 3",
   "language": "python",
   "name": "python3"
  },
  "language_info": {
   "codemirror_mode": {
    "name": "ipython",
    "version": 3
   },
   "file_extension": ".py",
   "mimetype": "text/x-python",
   "name": "python",
   "nbconvert_exporter": "python",
   "pygments_lexer": "ipython3",
   "version": "3.7.3"
  }
 },
 "nbformat": 4,
 "nbformat_minor": 4
}
