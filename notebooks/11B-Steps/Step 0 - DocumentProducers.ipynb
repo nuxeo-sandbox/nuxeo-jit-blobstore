{
 "cells": [
  {
   "cell_type": "code",
   "execution_count": 3,
   "metadata": {},
   "outputs": [],
   "source": [
    "%%bash\n",
    "cat <<EOT > nuxeo.properties\n",
    "url=http://127.0.0.1:8080/nuxeo\n",
    "login=$NXUSER\n",
    "password=$NXPWD\n",
    "EOT\n",
    "#cat nuxeo.properties"
   ]
  },
  {
   "cell_type": "markdown",
   "metadata": {},
   "source": [
    "### States hierarchy\n",
    "\n",
    "Import the 52 states in 2 differents streams"
   ]
  },
  {
   "cell_type": "code",
   "execution_count": 4,
   "metadata": {},
   "outputs": [
    {
     "name": "stdout",
     "output_type": "stream",
     "text": [
      "Using config /nxbench/notebooks/11B-Steps/nuxeo.properties\n",
      "url=http://127.0.0.1:8080/nuxeo\n",
      "login=nco-admin\n",
      "Nuxeo Client configured\n",
      "Connected to Nuxeo Server 11.3.26\n",
      "Running Operation:StreamImporter.runConsumerFolderProducers\n",
      "   nbThreads: 10 \n",
      "   split: true \n",
      "   logName: import/states-hierarchy \n",
      "   logSize: 8 \n",
      "#####################\n",
      "Execution completed\n",
      "elapsed:0.08\n",
      "failures:0\n",
      "messages:52\n",
      "throughput:650.0\n",
      "producers:1\n",
      "\n"
     ]
    }
   ],
   "source": [
    "!import.sh -o consumertree -l import/states-hierarchy -m "
   ]
  },
  {
   "cell_type": "markdown",
   "metadata": {},
   "source": [
    "### Customers\n",
    "\n",
    "Import the 89,997,827 Customers/IDCards in 2 differents streams"
   ]
  },
  {
   "cell_type": "code",
   "execution_count": 8,
   "metadata": {},
   "outputs": [],
   "source": [
    "!csvImport.sh -t 10 -p 16 -o ConsumerProducers -serverThreads 32 -b 50000 \\\n",
    "  -f ../../data/sources/all-id-cards.csv -m -l import/customers > import-customers-csv.log"
   ]
  },
  {
   "cell_type": "code",
   "execution_count": 10,
   "metadata": {},
   "outputs": [
    {
     "name": "stdout",
     "output_type": "stream",
     "text": [
      " Tasks count: 1800\r\n",
      " ############################## \r\n",
      " CSV stats:\r\n",
      "    Throughput:42408 lines/s\r\n",
      "    Total lines:89997827\r\n",
      " Producers stats:\r\n",
      "    total producers:57600\r\n",
      "    total messages:179995654\r\n",
      "    total failures:0\r\n",
      "    Throughput:84796\r\n"
     ]
    }
   ],
   "source": [
    "!tail  import-customers-csv.log"
   ]
  },
  {
   "cell_type": "markdown",
   "metadata": {},
   "source": [
    "### Accounts\n",
    "\n",
    "Import the 179,998,862 Accouts/Correspondence in 2 differents streams"
   ]
  },
  {
   "cell_type": "code",
   "execution_count": 11,
   "metadata": {},
   "outputs": [],
   "source": [
    "!csvImport.sh -t 10 -p 16 -o AccountProducers -serverThreads 32 -b 50000 \\\n",
    "  -f ../../data/sources/all-accounts.csv -m -l import/accounts > import-accounts-csv.log"
   ]
  },
  {
   "cell_type": "code",
   "execution_count": 12,
   "metadata": {},
   "outputs": [
    {
     "name": "stdout",
     "output_type": "stream",
     "text": [
      " Tasks count: 3600\r\n",
      " ############################## \r\n",
      " CSV stats:\r\n",
      "    Throughput:41178 lines/s\r\n",
      "    Total lines:179998862\r\n",
      " Producers stats:\r\n",
      "    total producers:115200\r\n",
      "    total messages:359997724\r\n",
      "    total failures:0\r\n",
      "    Throughput:82339\r\n"
     ]
    }
   ],
   "source": [
    "!tail import-accounts-csv.log"
   ]
  },
  {
   "cell_type": "markdown",
   "metadata": {},
   "source": [
    "### Non Archived Statememnts\n",
    "\n",
    "Generate 179,998,862*6 statements in 2 different streams.\n",
    "\n",
    "Because of a bug in the data generation lib, we need to generate with a month offset of 6 to actually get the last 6 months."
   ]
  },
  {
   "cell_type": "code",
   "execution_count": 23,
   "metadata": {},
   "outputs": [
    {
     "name": "stdout",
     "output_type": "stream",
     "text": [
      "nb statements = 1079993172\n",
      "expected duration (s) = 26999.8293\n"
     ]
    }
   ],
   "source": [
    "ns = 179998862* 6\n",
    "print(\"nb statements =\", ns)\n",
    "print(\"expected duration (s) =\", ns/40000)"
   ]
  },
  {
   "cell_type": "code",
   "execution_count": null,
   "metadata": {},
   "outputs": [],
   "source": [
    "!import.sh -o statements -l import/statements_live -m  -d 6 -monthOffset 6  \\\n",
    "  -smartPartitioning -n 1079993172 -t 240 -p 24 -a -w 30000 > import-statements-live.log "
   ]
  },
  {
   "cell_type": "code",
   "execution_count": 14,
   "metadata": {},
   "outputs": [
    {
     "name": "stdout",
     "output_type": "stream",
     "text": [
      "Async Automation Execution Scheduled\r\n",
      "  => status url:[http://127.0.0.1:8080/nuxeo/site/api/v1/automation/StreamImporter.runStatementProducers/@async/20720a6a-502e-40d8-b8f0-a7db8b5e98a0/status]\r\n",
      "#####################\r\n",
      "Execution completed\r\n",
      "\r\n",
      "waiting for end of Async Exec\r\n",
      "url=http://127.0.0.1:8080/nuxeo\r\n",
      "login=nco-admin\r\n",
      "Nuxeo Client configured\r\n",
      "..............................................................................................................................................................................................................................................................................................................................................................................................................."
     ]
    }
   ],
   "source": [
    "!tail  import-statements-live.log "
   ]
  },
  {
   "cell_type": "markdown",
   "metadata": {},
   "source": [
    "Producers status: threads: 240, failures: 0, messages: 1079993280, elapsed: 27104.99s, throughput: 39844.81 msg/s"
   ]
  },
  {
   "cell_type": "markdown",
   "metadata": {},
   "source": [
    "### Achived Statements - part 0\n",
    "\n",
    "This time, we generate in single repository and without offset to get the first 6 months of the year."
   ]
  },
  {
   "cell_type": "code",
   "execution_count": 22,
   "metadata": {},
   "outputs": [
    {
     "name": "stdout",
     "output_type": "stream",
     "text": [
      "nb statements = 1079993172\n",
      "expected duration (s) = 26999.8293\n"
     ]
    }
   ],
   "source": [
    "ns = 179998862* 6\n",
    "print(\"nb statements =\", ns)\n",
    "print(\"expected duration (s) =\", ns/40000)"
   ]
  },
  {
   "cell_type": "code",
   "execution_count": 15,
   "metadata": {},
   "outputs": [],
   "source": [
    "!import.sh -o statements -l import/statements_archive0 -d 6 -monthOffset 0  \\\n",
    "  -smartPartitioning -storeInRoot -n 1079993172 -t 240 -p 24 -a -w 30000 > import-statements-archive0.log"
   ]
  },
  {
   "cell_type": "code",
   "execution_count": 16,
   "metadata": {},
   "outputs": [
    {
     "name": "stdout",
     "output_type": "stream",
     "text": [
      "Nuxeo Client configured\r\n",
      "..........................................................................................................................................................................................................................................................................................................................................................................................................................................................\r\n",
      "Running completed\r\n",
      "elapsed:26570.171\r\n",
      "failures:0\r\n",
      "messages:1079993280\r\n",
      "throughput:40646.83211861904\r\n",
      "producers:240\r\n",
      "\r\n",
      "Exit after 26585 s\r\n"
     ]
    }
   ],
   "source": [
    "!tail  import-statements-archive0.log"
   ]
  },
  {
   "cell_type": "markdown",
   "metadata": {},
   "source": [
    "### Achived Statements - part 1\n",
    "\n",
    "Generate Statements 6 months in single repository mode."
   ]
  },
  {
   "cell_type": "code",
   "execution_count": 18,
   "metadata": {},
   "outputs": [
    {
     "name": "stdout",
     "output_type": "stream",
     "text": [
      "nb statements = 1079993172\n",
      "expected duration (s) = 26999.8293\n"
     ]
    }
   ],
   "source": [
    "ns = 179998862* 6\n",
    "print(\"nb statements =\", ns)\n",
    "print(\"expected duration (s) =\", ns/40000)"
   ]
  },
  {
   "cell_type": "code",
   "execution_count": null,
   "metadata": {},
   "outputs": [],
   "source": [
    "!import.sh -o statements -l import/statements_archive1 -d 6 -monthOffset 12  \\\n",
    "  -smartPartitioning -storeInRoot -n 1079993172 -t 240 -p 24 -a -w 65000 > import-statements-archives1a.log"
   ]
  },
  {
   "cell_type": "markdown",
   "metadata": {},
   "source": [
    "### Archives Statements - part 2\n",
    "Generate Statements 6 months in single repository mode."
   ]
  },
  {
   "cell_type": "code",
   "execution_count": null,
   "metadata": {},
   "outputs": [],
   "source": [
    "#!import.sh -o statements -l import/statements_archive2 -d 6 -monthOffset 18  \\\n",
    "  -smartPartitioning -storeInRoot -n 1079993172 -t 240 -p 24 -a -w 65000 > import-statements-archives2.log"
   ]
  },
  {
   "cell_type": "markdown",
   "metadata": {},
   "source": [
    "### Achived Statements - part 3\n",
    "\n",
    "1 year"
   ]
  },
  {
   "cell_type": "code",
   "execution_count": null,
   "metadata": {},
   "outputs": [],
   "source": [
    "!import.sh -o statements -l import/statements_archive3 -d 12 -monthOffset 24  \\\n",
    "  -smartPartitioning -storeInRoot -n 2159986344 -t 240 -p 24 -a -w 65000 > import-statements-archives3.log"
   ]
  },
  {
   "cell_type": "markdown",
   "metadata": {},
   "source": [
    "### Achived Statements - part 4"
   ]
  },
  {
   "cell_type": "code",
   "execution_count": null,
   "metadata": {},
   "outputs": [],
   "source": [
    "!import.sh -o statements -l import/statements_archive4 -d 12 -monthOffset 36  \\\n",
    "  -smartPartitioning -storeInRoot -n 2159986344 -t 240 -p 24 -a -w 65000 > import-statements-archives4.log"
   ]
  },
  {
   "cell_type": "markdown",
   "metadata": {},
   "source": [
    "### Achived Statements - part 5"
   ]
  },
  {
   "cell_type": "code",
   "execution_count": null,
   "metadata": {},
   "outputs": [],
   "source": [
    "!import.sh -o statements -l import/statements_archive5 -d 12 -monthOffset 48  \\\n",
    "  -smartPartitioning -storeInRoot -n 2159986344 -t 240 -p 24 -a -w 65000 > import-statements-archives5.log"
   ]
  }
 ],
 "metadata": {
  "kernelspec": {
   "display_name": "Python 3",
   "language": "python",
   "name": "python3"
  },
  "language_info": {
   "codemirror_mode": {
    "name": "ipython",
    "version": 3
   },
   "file_extension": ".py",
   "mimetype": "text/x-python",
   "name": "python",
   "nbconvert_exporter": "python",
   "pygments_lexer": "ipython3",
   "version": "3.7.3"
  }
 },
 "nbformat": 4,
 "nbformat_minor": 4
}
