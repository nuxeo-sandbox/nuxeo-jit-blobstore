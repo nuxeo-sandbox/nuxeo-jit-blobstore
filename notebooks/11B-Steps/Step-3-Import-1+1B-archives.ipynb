{
 "cells": [
  {
   "cell_type": "markdown",
   "metadata": {},
   "source": [
    "### Archived Statements - part 1+2\n",
    "\n",
    "Target:\n",
    "\n",
    " - us-east = 809,993,275a\n",
    " - us-west = 809,993,275\n",
    " - archives = 3,239,979,516\n",
    "\n",
    " \n",
    "Process:\n",
    "\n",
    " - bulk import via stream consumer of import/statements_archive1\n",
    " - bulk import via stream consumer of import/statements_archive2\n",
    " - bulk index in a later step\n",
    " \n",
    "The goal is to maximise MongoDB Ingest throughput by using 2 parallel ingestion\n",
    "\n",
    "#### Run the imports\n"
   ]
  },
  {
   "cell_type": "code",
   "execution_count": null,
   "metadata": {},
   "outputs": [],
   "source": [
    "!import.sh -o import -t 24 -l import/statements_archive1 -r archives -z 500 -b / -a -w 100000 -bulk > logs/import-archives-step1.log"
   ]
  },
  {
   "cell_type": "markdown",
   "metadata": {},
   "source": [
    "Consumers status: threads: 24, failure 0, messages committed: 1079993280, elapsed: 101779.03s, throughput: 10611.16 msg/s\n"
   ]
  },
  {
   "cell_type": "code",
   "execution_count": null,
   "metadata": {},
   "outputs": [],
   "source": [
    "!import.sh -o import -t 24 -l import/statements_archive2 -r archives -z 500 -b / -a -w 100000 -bulk > logs/import-archives-step2.log"
   ]
  },
  {
   "cell_type": "markdown",
   "metadata": {},
   "source": [
    "Consumers status: threads: 24, failure 0, messages committed: 1076627400, elapsed: 101687.63s, throughput: 10587.59 msg/s\n"
   ]
  },
  {
   "cell_type": "code",
   "execution_count": 7,
   "metadata": {},
   "outputs": [
    {
     "name": "stdout",
     "output_type": "stream",
     "text": [
      "21198\n"
     ]
    }
   ],
   "source": [
    "t1=10611\n",
    "t2=10587\n",
    "throughput=t1+t2\n",
    "print(throughput)"
   ]
  },
  {
   "cell_type": "code",
   "execution_count": 4,
   "metadata": {},
   "outputs": [],
   "source": [
    "!mongo \"mongodb+srv://nxbench-2826-archives.vzeqm.mongodb.net/nuxeo\" \\\n",
    "  --username $MONGOUSER --password $MONGOPWD \\\n",
    "  ../ToolBox/archives-mongodb-stats.js > snapshots/\"mongodb-archives-\"`date +%Y%m%d-%H%M%S`.bson"
   ]
  }
 ],
 "metadata": {
  "kernelspec": {
   "display_name": "Python 3",
   "language": "python",
   "name": "python3"
  },
  "language_info": {
   "codemirror_mode": {
    "name": "ipython",
    "version": 3
   },
   "file_extension": ".py",
   "mimetype": "text/x-python",
   "name": "python",
   "nbconvert_exporter": "python",
   "pygments_lexer": "ipython3",
   "version": "3.7.3"
  }
 },
 "nbformat": 4,
 "nbformat_minor": 4
}
