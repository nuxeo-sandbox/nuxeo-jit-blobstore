{
 "cells": [
  {
   "cell_type": "markdown",
   "metadata": {},
   "source": [
    "### Archived Statements - part 4\n",
    "\n",
    "Target:\n",
    "\n",
    " - us-east = 809,993,275\n",
    " - us-west = 809,993,275\n",
    " - archives = 3,239,979,516 + 2,159,986,344 + 2,159,986,344= 8,639,945,376\n",
    "\n",
    " \n",
    "Process:\n",
    "\n",
    " - bulk import via stream consumer of import/statements_archive4\n",
    " - use externalScroller to bulk index at the same time\n",
    "\n",
    "#### Run the imports"
   ]
  },
  {
   "cell_type": "code",
   "execution_count": null,
   "metadata": {},
   "outputs": [],
   "source": [
    "!import.sh -o import -t 24 -l import/statements_archive4 -r archives -z 500 -b / -a -w 200000 -bulk -useScroller > logs/import-archives-step4.log"
   ]
  },
  {
   "cell_type": "markdown",
   "metadata": {},
   "source": [
    "Started BulkIndex using ExternalScroller: aa27c114-50a1-452f-bb67-2f02df3381d9"
   ]
  },
  {
   "cell_type": "code",
   "execution_count": 2,
   "metadata": {},
   "outputs": [
    {
     "name": "stdout",
     "output_type": "stream",
     "text": [
      "{\"entity-type\":\"bulkStatus\",\"commandId\":\"aa27c114-50a1-452f-bb67-2f02df3381d9\",\"state\":\"COMPLETED\",\"processed\":2160011807,\"error\":false,\"errorCount\":0,\"total\":2159986560,\"action\":\"index\",\"username\":\"nco-admin\",\"submitted\":\"2020-09-22T15:22:05.068Z\",\"scrollStart\":\"2020-09-22T15:22:05.086Z\",\"scrollEnd\":\"2020-09-24T14:54:42.148Z\",\"processingStart\":null,\"processingEnd\":null,\"completed\":\"2020-09-24T14:54:42.244Z\",\"processingMillis\":0}"
     ]
    }
   ],
   "source": [
    "# check status\n",
    "! cid=\"aa27c114-50a1-452f-bb67-2f02df3381d9\"; \\\n",
    "  INJECTOR=\"http://127.0.0.1:8080\"; \\\n",
    "  curl -H 'Content-Type:application/json+nxrequest' -H 'X-NXRepository:archives' \\\n",
    "  -u $NXUSER:$NXPWD $INJECTOR/nuxeo/api/v1/bulk/$cid"
   ]
  },
  {
   "cell_type": "code",
   "execution_count": 3,
   "metadata": {},
   "outputs": [
    {
     "name": "stdout",
     "output_type": "stream",
     "text": [
      "12,619.91 docs/s\n"
     ]
    }
   ],
   "source": [
    "from dateutil import parser\n",
    "start = \"2020-09-22T15:22:05.068Z\"\n",
    "end = \"2020-09-24T14:54:42.148Z\"\n",
    "nbdocs = 2159986560\n",
    "s = parser.parse(start)\n",
    "e = parser.parse(end) \n",
    "throughput = nbdocs / (e-s).total_seconds()\n",
    "\n",
    "print('%s docs/s' % format(throughput, ',.2f'))"
   ]
  },
  {
   "cell_type": "code",
   "execution_count": 4,
   "metadata": {},
   "outputs": [],
   "source": [
    "!mongo \"mongodb+srv://nxbench-2826-archives.vzeqm.mongodb.net/nuxeo\" \\\n",
    "  --username $MONGOUSER --password $MONGOPWD \\\n",
    "  ../ToolBox/archives-mongodb-stats.js > snapshots/\"mongodb-archives-\"`date +%Y%m%d-%H%M%S`.bson"
   ]
  },
  {
   "cell_type": "code",
   "execution_count": 5,
   "metadata": {},
   "outputs": [
    {
     "name": "stdout",
     "output_type": "stream",
     "text": [
      "  % Total    % Received % Xferd  Average Speed   Time    Time     Time  Current\n",
      "                                 Dload  Upload   Total   Spent    Left  Speed\n",
      "100   509  100   509    0     0  20360      0 --:--:-- --:--:-- --:--:-- 20360\n",
      "  % Total    % Received % Xferd  Average Speed   Time    Time     Time  Current\n",
      "                                 Dload  Upload   Total   Spent    Left  Speed\n",
      "100   336  100   336    0     0   7304      0 --:--:-- --:--:-- --:--:--  7304\n",
      "  % Total    % Received % Xferd  Average Speed   Time    Time     Time  Current\n",
      "                                 Dload  Upload   Total   Spent    Left  Speed\n",
      "100  1403  100  1403    0     0  19219      0 --:--:-- --:--:-- --:--:-- 19219\n",
      "  % Total    % Received % Xferd  Average Speed   Time    Time     Time  Current\n",
      "                                 Dload  Upload   Total   Spent    Left  Speed\n",
      "100   864  100   864    0     0  13090      0 --:--:-- --:--:-- --:--:-- 13090\n",
      "{\n",
      "  \"name\" : \"G4PH9nZ\",\n",
      "  \"cluster_name\" : \"188670881089:es-nxbench-2826-benr\",\n",
      "  \"cluster_uuid\" : \"VkxqYf4lSLu0fU1msd7Qgw\",\n",
      "  \"version\" : {\n",
      "    \"number\" : \"6.5.4\",\n",
      "    \"build_flavor\" : \"oss\",\n",
      "    \"build_type\" : \"zip\",\n",
      "    \"build_hash\" : \"ad42e08\",\n",
      "    \"build_date\" : \"2020-06-18T23:56:05.513175Z\",\n",
      "    \"build_snapshot\" : false,\n",
      "    \"lucene_version\" : \"7.5.0\",\n",
      "    \"minimum_wire_compatibility_version\" : \"5.6.0\",\n",
      "    \"minimum_index_compatibility_version\" : \"5.0.0\"\n",
      "  },\n",
      "  \"tagline\" : \"You Know, for Search\"\n",
      "}\n",
      "epoch      timestamp cluster                           status node.total node.data shards pri relo init unassign pending_tasks max_task_wait_time active_shards_percent\n",
      "1600960198 15:09:58  188670881089:es-nxbench-2826-benr green          15        12    394 242    0    0        0             0                  -                100.0%\n",
      "ip            heap.percent ram.percent cpu load_1m load_5m load_15m node.role master name\n",
      "x.x.x.x           63          98   0    0.00    0.02     0.09 di        -      UW3yTqZ\n",
      "x.x.x.x            34          98   0    0.00    0.08     0.17 di        -      6XUyTLV\n",
      "x.x.x.x             5          95   0    0.15    0.24     0.17 m         *      2uH41aE\n",
      "x.x.x.x            71          95   0    0.00    0.05     0.16 di        -      DP9w1-n\n",
      "x.x.x.x           39          95   0    0.00    0.08     0.20 di        -      G4PH9nZ\n",
      "x.x.x.x           41          96   0    0.17    0.17     0.17 di        -      8jUy_Kr\n",
      "x.x.x.x             50          98   0    0.00    0.03     0.14 di        -      cwWMIjI\n",
      "x.x.x.x           71          95   0    0.05    0.14     0.17 di        -      SvB-TY4\n",
      "x.x.x.x            5          96   0    0.00    0.04     0.07 m         -      jmDBhD9\n",
      "x.x.x.x           48          98   0    0.00    0.02     0.07 di        -      OzcDv6P\n",
      "x.x.x.x           74          96   0    0.00    0.00     0.08 di        -      ltvpFbI\n",
      "x.x.x.x            56          97   0    0.00    0.00     0.07 di        -      mrUAsod\n",
      "x.x.x.x            45          96   0    0.01    0.06     0.13 di        -      M_mhgBy\n",
      "x.x.x.x             6          95   0    0.00    0.08     0.10 m         -      jaOP5gp\n",
      "x.x.x.x           60          98   0    0.00    0.00     0.06 di        -      y4l0u2B\n",
      "health status index        uuid                   pri rep docs.count docs.deleted store.size pri.store.size\n",
      "green  open   nuxeo-audit  gGm4wLiaQ1mDwroe_MhSWw  35   1    3601505            0        2gb            1gb\n",
      "green  open   us-west      cnMyWwwARz6pKNcr7-om9Q  35   1  801706663         6854      1.8tb        968.1gb\n",
      "green  open   .kibana_1    _2CznO6LRHCBOA_QcmUbuA   1   1          1            0      7.4kb          3.7kb\n",
      "green  open   archives     8CoDP5NPQ-qHfMRv5d_Buw 100   0 7560096887           29        3tb            3tb\n",
      "green  open   nuxeo        2NVvhrROSSOpu2EEN9qxxw  35   1        301           44      8.3mb          4.2mb\n",
      "green  open   nuxeo-uidgen 0bxocGu1SNeCJ8HqBwgE7A   1  11          1            0     31.3kb          2.6kb\n",
      "green  open   us-east      Jz3kBNZQTJyjVr9CPqUfTg  35   1  818318598         7187      1.9tb        989.4gb\n"
     ]
    }
   ],
   "source": [
    "!statfile=\"snapshots/es-7B-archive-indexing-\"`date +%Y%m%d-%H%M%S`.txt; \\\n",
    " curl \"$ES_SERVER\" > $statfile; \\\n",
    " curl \"$ES_SERVER/_cat/health?v\" >> $statfile ; \\\n",
    " curl \"$ES_SERVER/_cat/nodes?v\" >> $statfile; \\\n",
    " curl \"$ES_SERVER/_cat/indices?v\" >> $statfile; \\\n",
    " cat $statfile"
   ]
  },
  {
   "cell_type": "code",
   "execution_count": null,
   "metadata": {},
   "outputs": [],
   "source": []
  }
 ],
 "metadata": {
  "kernelspec": {
   "display_name": "Python 3",
   "language": "python",
   "name": "python3"
  },
  "language_info": {
   "codemirror_mode": {
    "name": "ipython",
    "version": 3
   },
   "file_extension": ".py",
   "mimetype": "text/x-python",
   "name": "python",
   "nbconvert_exporter": "python",
   "pygments_lexer": "ipython3",
   "version": "3.7.3"
  }
 },
 "nbformat": 4,
 "nbformat_minor": 4
}
