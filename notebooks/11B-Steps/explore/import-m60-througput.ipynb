{
 "cells": [
  {
   "cell_type": "markdown",
   "metadata": {},
   "source": [
    "\n",
    "#### About import throughput\n",
    "\n",
    "When running the import against a M60 MongoDB cluster we can see 2 aspects:\n",
    "\n",
    "**Import descreases when IO usage increases at the MongoDB level**\n",
    "\n",
    "A first round of import was started then stopped because of a memory leak in the DocumentConsumer code.\n",
    "On the bright side, it shows us that the import profile is perfectly reproducible:\n",
    "\n",
    "On the following graphic we see the 2 imports:\n",
    "\n",
    "<img src=\"../monitoring/import-mongodb-throughput.png\"/>\n",
    "\n",
    "We can see that in parallel of the Nuxeo CPU usage dropping, the MongoDB operation time is increasing a lot:\n",
    "\n",
    "<img src=\"../monitoring/import-mongodb-operation-time.png\"/>\n",
    "\n",
    "Looking in more details, we can see that the throughput descrease when the IOPS and the IOWait increases at the MongoDB level.\n",
    "\n",
    "<img src=\"../monitoring/import-mongodb-IOPS.png\"/>\n",
    "<img src=\"../monitoring/import-mongodb-iowait.png\"/>\n",
    "\n",
    "**Caching / Partitioning ordering does impact**\n",
    "\n",
    "However, we can also see that the Account import is slower than the Statement import.\n",
    "\n",
    "There are 2 possible causes:\n",
    "\n",
    " - Accounts point to a file in S3 whereas Statements use the JITBlobStore\n",
    " - Accounts are patitioned \"randomly\" whereas Statements are generated using smart paritioning to group children of the same parent inside the same partition to maximize cache usage\n",
    "\n",
    "<img src=\"../monitoring/import-vs-partitionning.png\" />"
   ]
  },
  {
   "cell_type": "code",
   "execution_count": null,
   "metadata": {},
   "outputs": [],
   "source": []
  }
 ],
 "metadata": {
  "kernelspec": {
   "display_name": "Python 3",
   "language": "python",
   "name": "python3"
  },
  "language_info": {
   "codemirror_mode": {
    "name": "ipython",
    "version": 3
   },
   "file_extension": ".py",
   "mimetype": "text/x-python",
   "name": "python",
   "nbconvert_exporter": "python",
   "pygments_lexer": "ipython3",
   "version": "3.7.3"
  }
 },
 "nbformat": 4,
 "nbformat_minor": 4
}
