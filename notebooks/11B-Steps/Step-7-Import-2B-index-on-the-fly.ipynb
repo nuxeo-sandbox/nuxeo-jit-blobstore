{
 "cells": [
  {
   "cell_type": "markdown",
   "metadata": {},
   "source": [
    "### Archived Statements - part5\n",
    "\n",
    "Target:\n",
    "\n",
    " - us-east = 809,993,275\n",
    " - us-west = 809,993,275\n",
    " - archives = 3,239,979,516 + 2,159,986,344 + 2,159,986,344 + 2,159,986,344 = 9,719,938,548\n",
    "\n",
    " \n",
    "Process:\n",
    "\n",
    " - bulk import via stream consumer of import/statements_archive5\n",
    " - use externalScroller to bulk index at the same time\n",
    "\n",
    "#### Run the imports"
   ]
  },
  {
   "cell_type": "code",
   "execution_count": null,
   "metadata": {},
   "outputs": [],
   "source": [
    "!import.sh -o import -t 24 -l import/statements_archive5 -r archives -z 500 -b / -a -w 200000 -bulk -useScroller > logs/import-archives-step5.log"
   ]
  },
  {
   "cell_type": "markdown",
   "metadata": {},
   "source": [
    "Started BulkIndex using ExternalScroller: c29c7970-c487-4841-babd-f9d2461902ff"
   ]
  },
  {
   "cell_type": "markdown",
   "metadata": {},
   "source": [
    "Consumers status: threads: 24, failure 0, messages committed: 2159986560, elapsed: 171771.16s, throughput: 12574.79 msg/s\n"
   ]
  },
  {
   "cell_type": "code",
   "execution_count": 3,
   "metadata": {},
   "outputs": [
    {
     "name": "stdout",
     "output_type": "stream",
     "text": [
      "..............................................................................................................................................................................................................................................................................................................................................................................................................................................................................................................................................................................................................................................................................................................................................................................................................................................................................................................................................................................................................................................................................................................................................................................................................................................................................................................................................................................................................................................................................................................................................................................................................................................................................................................................................................................................................................................................................................................................................................................................................................................................................................................................................................................................................................................................................................................................................................................................................................................................................................................................................................................................................................................................................................................................................................................................................................................................................................................................................................................\r\n",
      "Running completed\r\n",
      "elapsed:171771.156\r\n",
      "committed:2159986560\r\n",
      "failures:0\r\n",
      "consumers:24\r\n",
      "throughput:12574.792009899498\r\n",
      "bulkIndexingCommandId:c29c7970-c487-4841-babd-f9d2461902ff\r\n",
      "\r\n",
      "Exit after 171807 s\r\n"
     ]
    }
   ],
   "source": [
    "!tail logs/import-archives-step5.log"
   ]
  },
  {
   "cell_type": "code",
   "execution_count": 4,
   "metadata": {},
   "outputs": [
    {
     "name": "stdout",
     "output_type": "stream",
     "text": [
      "{\"entity-type\":\"bulkStatus\",\"commandId\":\"c29c7970-c487-4841-babd-f9d2461902ff\",\"state\":\"COMPLETED\",\"processed\":2160018083,\"error\":false,\"errorCount\":0,\"total\":2159986560,\"action\":\"index\",\"username\":\"nco-admin\",\"submitted\":\"2020-09-24T17:35:23.747Z\",\"scrollStart\":\"2020-09-24T17:35:23.819Z\",\"scrollEnd\":\"2020-09-26T17:18:14.970Z\",\"processingStart\":null,\"processingEnd\":null,\"completed\":\"2020-09-26T17:18:14.974Z\",\"processingMillis\":0}"
     ]
    }
   ],
   "source": [
    "# check status\n",
    "! cid=\"c29c7970-c487-4841-babd-f9d2461902ff\"; \\\n",
    "  INJECTOR=\"http://127.0.0.1:8080\"; \\\n",
    "  curl -H 'Content-Type:application/json+nxrequest' -H 'X-NXRepository:archives' \\\n",
    "  -u $NXUSER:$NXPWD $INJECTOR/nuxeo/api/v1/bulk/$cid"
   ]
  },
  {
   "cell_type": "code",
   "execution_count": 5,
   "metadata": {},
   "outputs": [
    {
     "name": "stdout",
     "output_type": "stream",
     "text": [
      "12,574.79 docs/s\n"
     ]
    }
   ],
   "source": [
    "from dateutil import parser\n",
    "start = \"2020-09-24T17:35:23.747Z\"\n",
    "end = \"2020-09-26T17:18:14.974Z\"\n",
    "nbdocs = 2159986560\n",
    "s = parser.parse(start)\n",
    "e = parser.parse(end) \n",
    "throughput = nbdocs / (e-s).total_seconds()\n",
    "\n",
    "print('%s docs/s' % format(throughput, ',.2f'))"
   ]
  },
  {
   "cell_type": "code",
   "execution_count": 6,
   "metadata": {},
   "outputs": [],
   "source": [
    "!mongo \"mongodb+srv://nxbench-2826-archives.vzeqm.mongodb.net/nuxeo\" \\\n",
    "  --username $MONGOUSER --password $MONGOPWD \\\n",
    "  ../ToolBox/archives-mongodb-stats.js > snapshots/\"mongodb-archives-\"`date +%Y%m%d-%H%M%S`.bson"
   ]
  },
  {
   "cell_type": "code",
   "execution_count": 7,
   "metadata": {},
   "outputs": [
    {
     "name": "stdout",
     "output_type": "stream",
     "text": [
      "  % Total    % Received % Xferd  Average Speed   Time    Time     Time  Current\n",
      "                                 Dload  Upload   Total   Spent    Left  Speed\n",
      "100   509  100   509    0     0  11065      0 --:--:-- --:--:-- --:--:-- 11065\n",
      "  % Total    % Received % Xferd  Average Speed   Time    Time     Time  Current\n",
      "                                 Dload  Upload   Total   Spent    Left  Speed\n",
      "100   336  100   336    0     0  24000      0 --:--:-- --:--:-- --:--:-- 24000\n",
      "  % Total    % Received % Xferd  Average Speed   Time    Time     Time  Current\n",
      "                                 Dload  Upload   Total   Spent    Left  Speed\n",
      "100  1403  100  1403    0     0  26980      0 --:--:-- --:--:-- --:--:-- 26980\n",
      "  % Total    % Received % Xferd  Average Speed   Time    Time     Time  Current\n",
      "                                 Dload  Upload   Total   Spent    Left  Speed\n",
      "100   864  100   864    0     0  28800      0 --:--:-- --:--:-- --:--:-- 28800\n",
      "{\n",
      "  \"name\" : \"G4PH9nZ\",\n",
      "  \"cluster_name\" : \"188670881089:es-nxbench-2826-benr\",\n",
      "  \"cluster_uuid\" : \"VkxqYf4lSLu0fU1msd7Qgw\",\n",
      "  \"version\" : {\n",
      "    \"number\" : \"6.5.4\",\n",
      "    \"build_flavor\" : \"oss\",\n",
      "    \"build_type\" : \"zip\",\n",
      "    \"build_hash\" : \"ad42e08\",\n",
      "    \"build_date\" : \"2020-06-18T23:56:05.513175Z\",\n",
      "    \"build_snapshot\" : false,\n",
      "    \"lucene_version\" : \"7.5.0\",\n",
      "    \"minimum_wire_compatibility_version\" : \"5.6.0\",\n",
      "    \"minimum_index_compatibility_version\" : \"5.0.0\"\n",
      "  },\n",
      "  \"tagline\" : \"You Know, for Search\"\n",
      "}\n",
      "epoch      timestamp cluster                           status node.total node.data shards pri relo init unassign pending_tasks max_task_wait_time active_shards_percent\n",
      "1601141016 17:23:36  188670881089:es-nxbench-2826-benr green          15        12    394 242    0    0        0             0                  -                100.0%\n",
      "ip            heap.percent ram.percent cpu load_1m load_5m load_15m node.role master name\n",
      "x.x.x.x           43          99   6    1.14    0.39     0.22 di        -      UW3yTqZ\n",
      "x.x.x.x             6          96   0    0.09    0.23     0.25 m         -      jaOP5gp\n",
      "x.x.x.x           62          96   0    0.25    0.17     0.19 di        -      y4l0u2B\n",
      "x.x.x.x           36          99   1    0.26    0.19     0.16 di        -      SvB-TY4\n",
      "x.x.x.x           44          98   0    0.12    0.17     0.21 di        -      OzcDv6P\n",
      "x.x.x.x           71          99   3    0.09    0.07     0.15 di        -      ltvpFbI\n",
      "x.x.x.x             43          98   3    0.04    0.05     0.12 di        -      cwWMIjI\n",
      "x.x.x.x            5          97   0    0.06    0.15     0.09 m         -      jmDBhD9\n",
      "x.x.x.x            61          99   3    0.23    0.11     0.10 di        -      mrUAsod\n",
      "x.x.x.x            30          97   0    0.09    0.08     0.12 di        -      M_mhgBy\n",
      "x.x.x.x            38          96   0    0.12    0.08     0.12 di        -      DP9w1-n\n",
      "x.x.x.x           43          99   2    0.08    0.14     0.25 di        -      G4PH9nZ\n",
      "x.x.x.x            49          98   1    0.07    0.13     0.17 di        -      6XUyTLV\n",
      "x.x.x.x           48          99   0    0.14    0.12     0.13 di        -      8jUy_Kr\n",
      "x.x.x.x             6          96   1    0.20    0.26     0.11 m         *      2uH41aE\n",
      "health status index        uuid                   pri rep docs.count docs.deleted store.size pri.store.size\n",
      "green  open   nuxeo-audit  gGm4wLiaQ1mDwroe_MhSWw  35   1    3602052            0        2gb            1gb\n",
      "green  open   us-west      cnMyWwwARz6pKNcr7-om9Q  35   1  801706663         6854      1.8tb        968.1gb\n",
      "green  open   .kibana_1    _2CznO6LRHCBOA_QcmUbuA   1   1          1            0      7.4kb          3.7kb\n",
      "green  open   archives     8CoDP5NPQ-qHfMRv5d_Buw 100   0 9720083447           42      3.9tb          3.9tb\n",
      "green  open   nuxeo        2NVvhrROSSOpu2EEN9qxxw  35   1        319           49      8.5mb          4.3mb\n",
      "green  open   nuxeo-uidgen 0bxocGu1SNeCJ8HqBwgE7A   1  11          1            0     31.3kb          2.6kb\n",
      "green  open   us-east      Jz3kBNZQTJyjVr9CPqUfTg  35   1  818318598         7187      1.9tb        989.4gb\n"
     ]
    }
   ],
   "source": [
    "!statfile=\"snapshots/es-9B-archive-indexing-\"`date +%Y%m%d-%H%M%S`.txt; \\\n",
    " curl \"$ES_SERVER\" > $statfile; \\\n",
    " curl \"$ES_SERVER/_cat/health?v\" >> $statfile ; \\\n",
    " curl \"$ES_SERVER/_cat/nodes?v\" >> $statfile; \\\n",
    " curl \"$ES_SERVER/_cat/indices?v\" >> $statfile; \\\n",
    " cat $statfile"
   ]
  },
  {
   "cell_type": "code",
   "execution_count": null,
   "metadata": {},
   "outputs": [],
   "source": []
  }
 ],
 "metadata": {
  "kernelspec": {
   "display_name": "Python 3",
   "language": "python",
   "name": "python3"
  },
  "language_info": {
   "codemirror_mode": {
    "name": "ipython",
    "version": 3
   },
   "file_extension": ".py",
   "mimetype": "text/x-python",
   "name": "python",
   "nbconvert_exporter": "python",
   "pygments_lexer": "ipython3",
   "version": "3.7.3"
  }
 },
 "nbformat": 4,
 "nbformat_minor": 4
}
