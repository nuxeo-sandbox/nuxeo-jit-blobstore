{
 "cells": [
  {
   "cell_type": "markdown",
   "metadata": {},
   "source": [
    "### Archived Statements - part5\n",
    "\n",
    "Target:\n",
    "\n",
    " - us-east = 809,993,275\n",
    " - us-west = 809,993,275\n",
    " - archives = 3,239,979,516 + 2,159,986,344 + 2,159,986,344 + 2,159,986,344 = 9,719,938,548\n",
    "\n",
    " \n",
    "Process:\n",
    "\n",
    " - bulk import via stream consumer of import/statements_archive5\n",
    " - use externalScroller to bulk index at the same time\n",
    "\n",
    "#### Run the imports"
   ]
  },
  {
   "cell_type": "code",
   "execution_count": null,
   "metadata": {},
   "outputs": [],
   "source": [
    "!import.sh -o import -t 24 -l import/statements_archive5 -r archives -z 500 -b / -a -w 200000 -bulk -useScroller > logs/import-archives-step5.log"
   ]
  },
  {
   "cell_type": "markdown",
   "metadata": {},
   "source": [
    "Started BulkIndex using ExternalScroller: aa27c114-50a1-452f-bb67-2f02df3381d9"
   ]
  },
  {
   "cell_type": "code",
   "execution_count": null,
   "metadata": {},
   "outputs": [],
   "source": [
    "# check status\n",
    "! cid=\"aa27c114-50a1-452f-bb67-2f02df3381d9\"; \\\n",
    "  INJECTOR=\"http://127.0.0.1:8080\"; \\\n",
    "  curl -H 'Content-Type:application/json+nxrequest' -H 'X-NXRepository:archives' \\\n",
    "  -u $NXUSER:$NXPWD $INJECTOR/nuxeo/api/v1/bulk/$cid"
   ]
  },
  {
   "cell_type": "code",
   "execution_count": null,
   "metadata": {},
   "outputs": [],
   "source": [
    "from dateutil import parser\n",
    "start = \"2020-09-22T15:22:05.068Z\"\n",
    "end = \"2020-09-24T14:54:42.148Z\"\n",
    "nbdocs = 2159986560\n",
    "s = parser.parse(start)\n",
    "e = parser.parse(end) \n",
    "throughput = nbdocs / (e-s).total_seconds()\n",
    "\n",
    "print('%s docs/s' % format(throughput, ',.2f'))"
   ]
  },
  {
   "cell_type": "code",
   "execution_count": null,
   "metadata": {},
   "outputs": [],
   "source": [
    "!mongo \"mongodb+srv://nxbench-2826-archives.vzeqm.mongodb.net/nuxeo\" \\\n",
    "  --username $MONGOUSER --password $MONGOPWD \\\n",
    "  ../ToolBox/archives-mongodb-stats.js > snapshots/\"mongodb-archives-\"`date +%Y%m%d-%H%M%S`.bson"
   ]
  },
  {
   "cell_type": "code",
   "execution_count": null,
   "metadata": {},
   "outputs": [],
   "source": [
    "!statfile=\"snapshots/es-7B-archive-indexing-\"`date +%Y%m%d-%H%M%S`.txt; \\\n",
    " curl \"$ES_SERVER\" > $statfile; \\\n",
    " curl \"$ES_SERVER/_cat/health?v\" >> $statfile ; \\\n",
    " curl \"$ES_SERVER/_cat/nodes?v\" >> $statfile; \\\n",
    " curl \"$ES_SERVER/_cat/indices?v\" >> $statfile; \\\n",
    " cat $statfile"
   ]
  },
  {
   "cell_type": "code",
   "execution_count": null,
   "metadata": {},
   "outputs": [],
   "source": []
  }
 ],
 "metadata": {
  "kernelspec": {
   "display_name": "Python 3",
   "language": "python",
   "name": "python3"
  },
  "language_info": {
   "codemirror_mode": {
    "name": "ipython",
    "version": 3
   },
   "file_extension": ".py",
   "mimetype": "text/x-python",
   "name": "python",
   "nbconvert_exporter": "python",
   "pygments_lexer": "ipython3",
   "version": "3.7.3"
  }
 },
 "nbformat": 4,
 "nbformat_minor": 4
}
