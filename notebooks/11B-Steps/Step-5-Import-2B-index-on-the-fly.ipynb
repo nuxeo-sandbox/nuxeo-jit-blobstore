{
 "cells": [
  {
   "cell_type": "markdown",
   "metadata": {},
   "source": [
    "### Archived Statements - part 3\n",
    "\n",
    "Target:\n",
    "\n",
    " - us-east = 809,993,275\n",
    " - us-west = 809,993,275\n",
    " - archives = 3,239,979,516+ 2,159,986,344 = 5,399,965,860\n",
    "\n",
    " \n",
    "Process:\n",
    "\n",
    " - bulk import via stream consumer of import/statements_archive3\n",
    " - use externalScroller to bulk index at the same time\n",
    "\n",
    "During the last // import we saw that the throughput ended up dropping to 20Kdocs/s, so the gain of having 2 injectors running concurrently does not seem that useful.\n",
    "Let's use the remaining MongoDB throughput to do the indexing and avoid having to redo a full scroll+reindex.\n",
    "\n",
    "#### Run the imports"
   ]
  },
  {
   "cell_type": "code",
   "execution_count": null,
   "metadata": {},
   "outputs": [],
   "source": [
    "##!import.sh -o import -t 24 -l import/statements_archive3 -r archives -z 500 -b / -a -w 100000 -bulk -useScroller > logs/import-archives-step3.log"
   ]
  }
 ],
 "metadata": {
  "kernelspec": {
   "display_name": "Python 3",
   "language": "python",
   "name": "python3"
  },
  "language_info": {
   "codemirror_mode": {
    "name": "ipython",
    "version": 3
   },
   "file_extension": ".py",
   "mimetype": "text/x-python",
   "name": "python",
   "nbconvert_exporter": "python",
   "pygments_lexer": "ipython3",
   "version": "3.7.3"
  }
 },
 "nbformat": 4,
 "nbformat_minor": 4
}
