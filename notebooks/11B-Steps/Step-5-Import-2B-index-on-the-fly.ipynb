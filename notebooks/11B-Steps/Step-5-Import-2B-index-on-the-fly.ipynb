{
 "cells": [
  {
   "cell_type": "markdown",
   "metadata": {},
   "source": [
    "### Archived Statements - part 3\n",
    "\n",
    "**Target:**\n",
    "\n",
    " - us-east = 809,993,275\n",
    " - us-west = 809,993,275\n",
    " - archives = 3,239,979,516+ 2,159,986,344 = 5,399,965,860\n",
    "\n",
    " total: 7,019,952,410\n",
    "\n",
    "<img src=\"monitoring/7B-index.png\"/>\n",
    "\n",
    "**Process:**\n",
    "\n",
    " - bulk import via stream consumer of import/statements_archive3\n",
    " - use externalScroller to bulk index at the same time\n",
    "\n",
    "During the last // import we saw that the throughput ended up dropping to 20Kdocs/s, so the gain of having 2 injectors running concurrently does not seem that useful.\n",
    "Let's use the remaining MongoDB throughput to do the indexing and avoid having to redo a full scroll+reindex.\n",
    "\n",
    "#### Run the imports"
   ]
  },
  {
   "cell_type": "code",
   "execution_count": null,
   "metadata": {},
   "outputs": [],
   "source": [
    "!import.sh -o import -t 24 -l import/statements_archive3 -r archives -z 500 -b / -a -w 200000 -bulk -useScroller > logs/import-archives-step3.log"
   ]
  },
  {
   "cell_type": "markdown",
   "metadata": {},
   "source": [
    "Started BulkIndex using ExternalScroller: ee492d2f-112a-4f84-90ef-e63ae146c886"
   ]
  },
  {
   "cell_type": "code",
   "execution_count": 5,
   "metadata": {},
   "outputs": [
    {
     "name": "stdout",
     "output_type": "stream",
     "text": [
      "{\"entity-type\":\"bulkStatus\",\"commandId\":\"ee492d2f-112a-4f84-90ef-e63ae146c886\",\"state\":\"SCROLLING_RUNNING\",\"processed\":434609856,\"error\":false,\"errorCount\":0,\"total\":0,\"action\":\"index\",\"username\":\"nco-admin\",\"submitted\":\"2020-09-20T13:13:27.362Z\",\"scrollStart\":\"2020-09-20T13:13:27.384Z\",\"scrollEnd\":null,\"processingStart\":null,\"processingEnd\":null,\"completed\":null,\"processingMillis\":0}"
     ]
    }
   ],
   "source": [
    "# check status\n",
    "! cid=\"ee492d2f-112a-4f84-90ef-e63ae146c886\"; \\\n",
    "  INJECTOR=\"http://127.0.0.1:8080\"; \\\n",
    "  curl -H 'Content-Type:application/json+nxrequest' -H 'X-NXRepository:archives' \\\n",
    "  -u $NXUSER:$NXPWD $INJECTOR/nuxeo/api/v1/bulk/$cid"
   ]
  },
  {
   "cell_type": "markdown",
   "metadata": {},
   "source": [
    "The first run failed because of OOM: see https://jira.nuxeo.com/browse/SUPINT-1789"
   ]
  },
  {
   "cell_type": "code",
   "execution_count": 6,
   "metadata": {},
   "outputs": [
    {
     "name": "stdout",
     "output_type": "stream",
     "text": [
      "{\"entity-type\":\"bulkStatus\",\"commandId\":\"ee492d2f-112a-4f84-90ef-e63ae146c886\",\"state\":\"ABORTED\",\"processed\":434609856,\"error\":false,\"errorCount\":0,\"total\":0,\"action\":\"index\",\"username\":\"nco-admin\",\"submitted\":\"2020-09-20T13:13:27.362Z\",\"scrollStart\":\"2020-09-20T13:13:27.384Z\",\"scrollEnd\":null,\"processingStart\":null,\"processingEnd\":null,\"completed\":null,\"processingMillis\":0}"
     ]
    }
   ],
   "source": [
    "# cancel previously running BAF\n",
    "! cid=\"ee492d2f-112a-4f84-90ef-e63ae146c886\"; \\\n",
    "  INJECTOR=\"http://127.0.0.1:8080\"; \\\n",
    "  curl -H 'Content-Type:application/json+nxrequest' -H 'X-NXRepository:archives' \\\n",
    "  -X PUT -u $NXUSER:$NXPWD $INJECTOR/nuxeo/api/v1/bulk/$cid/abort"
   ]
  },
  {
   "cell_type": "code",
   "execution_count": 7,
   "metadata": {},
   "outputs": [
    {
     "name": "stdout",
     "output_type": "stream",
     "text": [
      "^C\r\n"
     ]
    }
   ],
   "source": [
    "!import.sh -o import -t 24 -l import/statements_archive3 -r archives -z 500 -b / -a -w 200000 -bulk -useScroller > logs/import-archives-step3-2.log"
   ]
  },
  {
   "cell_type": "code",
   "execution_count": 9,
   "metadata": {},
   "outputs": [
    {
     "name": "stdout",
     "output_type": "stream",
     "text": [
      "{\"entity-type\":\"exception\",\"status\":404,\"message\":\"Execution with id=d7c79366-b4be-4c7e-9a22-d9ed2fc49bdc has completed\"}"
     ]
    }
   ],
   "source": [
    "! bid=\"d7c79366-b4be-4c7e-9a22-d9ed2fc49bdc\"; \\\n",
    "  INJECTOR=\"http://127.0.0.1:8080\"; \\\n",
    "  curl -H 'Content-Type:application/json+nxrequest' -H 'X-NXRepository:archives' \\\n",
    "  -X DELETE -u $NXUSER:$NXPWD $INJECTOR/nuxeo/site/api/v1/automation/StreamImporter.runDocumentConsumersEx/@async/$bid"
   ]
  },
  {
   "cell_type": "code",
   "execution_count": null,
   "metadata": {},
   "outputs": [],
   "source": [
    "!import.sh -o import -t 24 -l import/statements_archive3 -r archives -z 500 -b / -a -w 200000 -bulk -useScroller > logs/import-archives-step3-3.log"
   ]
  },
  {
   "cell_type": "markdown",
   "metadata": {},
   "source": [
    "Result for the importer:\n",
    "\n",
    "    Consumers status: threads: 24, failure 0, messages committed: 1215511646, elapsed: 89641.75s, throughput: 13559.66 msg/s\n"
   ]
  },
  {
   "cell_type": "code",
   "execution_count": 13,
   "metadata": {},
   "outputs": [
    {
     "name": "stdout",
     "output_type": "stream",
     "text": [
      ".....................................................................................................................................................................................................................................................................................................................................................................................................................................................................................................................................................................................................................................................................................................................................................................................................................................................................................................................................................................................................................................................................................................................................................................................................................................................................................................................................................................................................................................................................................................................................................\r\n",
      "Running completed\r\n",
      "elapsed:89641.752\r\n",
      "committed:1215511646\r\n",
      "failures:0\r\n",
      "consumers:24\r\n",
      "throughput:13559.659632712222\r\n",
      "bulkIndexingCommandId:e984584c-6763-4283-874c-506c85385a04\r\n",
      "\r\n",
      "Exit after 89655 s\r\n"
     ]
    }
   ],
   "source": [
    "!tail logs/import-archives-step3-3.log"
   ]
  },
  {
   "cell_type": "markdown",
   "metadata": {},
   "source": [
    "Started BulkIndex using ExternalScroller: e984584c-6763-4283-874c-506c85385a04\n"
   ]
  },
  {
   "cell_type": "code",
   "execution_count": 11,
   "metadata": {},
   "outputs": [
    {
     "name": "stdout",
     "output_type": "stream",
     "text": [
      "{\"entity-type\":\"bulkStatus\",\"commandId\":\"e984584c-6763-4283-874c-506c85385a04\",\"state\":\"COMPLETED\",\"processed\":1215544852,\"error\":false,\"errorCount\":0,\"total\":1215511646,\"action\":\"index\",\"username\":\"nco-admin\",\"submitted\":\"2020-09-21T13:29:30.364Z\",\"scrollStart\":\"2020-09-21T13:29:30.375Z\",\"scrollEnd\":\"2020-09-22T14:23:32.185Z\",\"processingStart\":null,\"processingEnd\":null,\"completed\":\"2020-09-22T14:23:32.216Z\",\"processingMillis\":0}"
     ]
    }
   ],
   "source": [
    "# check status\n",
    "! cid=\"e984584c-6763-4283-874c-506c85385a04\"; \\\n",
    "  INJECTOR=\"http://127.0.0.1:8080\"; \\\n",
    "  curl -H 'Content-Type:application/json+nxrequest' -H 'X-NXRepository:archives' \\\n",
    "  -u $NXUSER:$NXPWD $INJECTOR/nuxeo/api/v1/bulk/$cid"
   ]
  },
  {
   "cell_type": "code",
   "execution_count": 14,
   "metadata": {},
   "outputs": [
    {
     "name": "stdout",
     "output_type": "stream",
     "text": [
      "13,559.64 docs/s\n"
     ]
    }
   ],
   "source": [
    "from dateutil import parser\n",
    "start = \"2020-09-21T13:29:30.364Z\"\n",
    "end = \"2020-09-22T14:23:32.216Z\"\n",
    "nbdocs = 1215511646\n",
    "s = parser.parse(start)\n",
    "e = parser.parse(end) \n",
    "throughput = nbdocs / (e-s).total_seconds()\n",
    "\n",
    "print('%s docs/s' % format(throughput, ',.2f'))"
   ]
  },
  {
   "cell_type": "markdown",
   "metadata": {},
   "source": [
    "### Gather statistics"
   ]
  },
  {
   "cell_type": "code",
   "execution_count": 15,
   "metadata": {},
   "outputs": [],
   "source": [
    "!mongo \"mongodb+srv://nxbench-2826-archives.vzeqm.mongodb.net/nuxeo\" \\\n",
    "  --username $MONGOUSER --password $MONGOPWD \\\n",
    "  ../ToolBox/archives-mongodb-stats.js > snapshots/\"mongodb-archives-\"`date +%Y%m%d-%H%M%S`.bson"
   ]
  },
  {
   "cell_type": "code",
   "execution_count": 16,
   "metadata": {},
   "outputs": [
    {
     "name": "stdout",
     "output_type": "stream",
     "text": [
      "  % Total    % Received % Xferd  Average Speed   Time    Time     Time  Current\n",
      "                                 Dload  Upload   Total   Spent    Left  Speed\n",
      "100   509  100   509    0     0  11568      0 --:--:-- --:--:-- --:--:-- 11568\n",
      "  % Total    % Received % Xferd  Average Speed   Time    Time     Time  Current\n",
      "                                 Dload  Upload   Total   Spent    Left  Speed\n",
      "100   336  100   336    0     0  14000      0 --:--:-- --:--:-- --:--:-- 14000\n",
      "  % Total    % Received % Xferd  Average Speed   Time    Time     Time  Current\n",
      "                                 Dload  Upload   Total   Spent    Left  Speed\n",
      "100  1403  100  1403    0     0  28632      0 --:--:-- --:--:-- --:--:-- 29229\n",
      "  % Total    % Received % Xferd  Average Speed   Time    Time     Time  Current\n",
      "                                 Dload  Upload   Total   Spent    Left  Speed\n",
      "100   864  100   864    0     0  20093      0 --:--:-- --:--:-- --:--:-- 20093\n",
      "{\n",
      "  \"name\" : \"G4PH9nZ\",\n",
      "  \"cluster_name\" : \"188670881089:es-nxbench-2826-benr\",\n",
      "  \"cluster_uuid\" : \"VkxqYf4lSLu0fU1msd7Qgw\",\n",
      "  \"version\" : {\n",
      "    \"number\" : \"6.5.4\",\n",
      "    \"build_flavor\" : \"oss\",\n",
      "    \"build_type\" : \"zip\",\n",
      "    \"build_hash\" : \"ad42e08\",\n",
      "    \"build_date\" : \"2020-06-18T23:56:05.513175Z\",\n",
      "    \"build_snapshot\" : false,\n",
      "    \"lucene_version\" : \"7.5.0\",\n",
      "    \"minimum_wire_compatibility_version\" : \"5.6.0\",\n",
      "    \"minimum_index_compatibility_version\" : \"5.0.0\"\n",
      "  },\n",
      "  \"tagline\" : \"You Know, for Search\"\n",
      "}\n",
      "epoch      timestamp cluster                           status node.total node.data shards pri relo init unassign pending_tasks max_task_wait_time active_shards_percent\n",
      "1600788022 15:20:22  188670881089:es-nxbench-2826-benr green          15        12    394 242    0    0        0             0                  -                100.0%\n",
      "ip            heap.percent ram.percent cpu load_1m load_5m load_15m node.role master name\n",
      "x.x.x.x            26          99   0    0.11    0.03     0.01 di        -      6XUyTLV\n",
      "x.x.x.x            55          99   0    0.16    0.16     0.07 di        -      mrUAsod\n",
      "x.x.x.x            28          99   0    0.00    0.00     0.00 di        -      DP9w1-n\n",
      "x.x.x.x           28          99   0    0.00    0.02     0.02 di        -      SvB-TY4\n",
      "x.x.x.x             61          96   1    0.04    0.01     0.00 di        -      cwWMIjI\n",
      "x.x.x.x            42          96   0    0.06    0.03     0.01 di        -      M_mhgBy\n",
      "x.x.x.x           28          95   0    0.00    0.00     0.00 di        -      y4l0u2B\n",
      "x.x.x.x           74          97   0    0.00    0.00     0.00 di        -      8jUy_Kr\n",
      "x.x.x.x           69          99   0    0.01    0.02     0.01 di        -      UW3yTqZ\n",
      "x.x.x.x           25          99   1    0.01    0.00     0.00 di        -      OzcDv6P\n",
      "x.x.x.x           51          97   0    0.00    0.00     0.00 di        -      G4PH9nZ\n",
      "x.x.x.x           44          98   0    0.01    0.04     0.05 di        -      ltvpFbI\n",
      "x.x.x.x            5          97   2    0.00    0.00     0.00 m         -      jmDBhD9\n",
      "x.x.x.x             5          97   2    0.03    0.03     0.00 m         *      2uH41aE\n",
      "x.x.x.x             4          96   0    0.00    0.00     0.00 m         -      jaOP5gp\n",
      "health status index        uuid                   pri rep docs.count docs.deleted store.size pri.store.size\n",
      "green  open   nuxeo-audit  gGm4wLiaQ1mDwroe_MhSWw  35   1    3600805            0        2gb            1gb\n",
      "green  open   us-west      cnMyWwwARz6pKNcr7-om9Q  35   1  801706663         6854      1.8tb        968.1gb\n",
      "green  open   .kibana_1    _2CznO6LRHCBOA_QcmUbuA   1   1          1            0      7.4kb          3.7kb\n",
      "green  open   archives     8CoDP5NPQ-qHfMRv5d_Buw 100   0 5400110327           23      2.2tb          2.2tb\n",
      "green  open   nuxeo        2NVvhrROSSOpu2EEN9qxxw  35   1        295           40        8mb            4mb\n",
      "green  open   nuxeo-uidgen 0bxocGu1SNeCJ8HqBwgE7A   1  11          1            0     29.6kb          2.4kb\n",
      "green  open   us-east      Jz3kBNZQTJyjVr9CPqUfTg  35   1  818318598         7187      1.9tb        989.4gb\n"
     ]
    }
   ],
   "source": [
    "!statfile=\"snapshots/es-5B-archive-indexing-\"`date +%Y%m%d-%H%M%S`.txt; \\\n",
    " curl \"$ES_SERVER\" > $statfile; \\\n",
    " curl \"$ES_SERVER/_cat/health?v\" >> $statfile ; \\\n",
    " curl \"$ES_SERVER/_cat/nodes?v\" >> $statfile; \\\n",
    " curl \"$ES_SERVER/_cat/indices?v\" >> $statfile; \\\n",
    " cat $statfile"
   ]
  },
  {
   "cell_type": "code",
   "execution_count": null,
   "metadata": {},
   "outputs": [],
   "source": []
  }
 ],
 "metadata": {
  "kernelspec": {
   "display_name": "Python 3",
   "language": "python",
   "name": "python3"
  },
  "language_info": {
   "codemirror_mode": {
    "name": "ipython",
    "version": 3
   },
   "file_extension": ".py",
   "mimetype": "text/x-python",
   "name": "python",
   "nbconvert_exporter": "python",
   "pygments_lexer": "ipython3",
   "version": "3.7.3"
  }
 },
 "nbformat": 4,
 "nbformat_minor": 4
}
