{
 "cells": [
  {
   "cell_type": "markdown",
   "metadata": {},
   "source": [
    "### Archived Statements - part 3\n",
    "\n",
    "Target:\n",
    "\n",
    " - us-east = 809,993,275\n",
    " - us-west = 809,993,275\n",
    " - archives = 3,239,979,516+ 2,159,986,344 = 5,399,965,860\n",
    "\n",
    " \n",
    "Process:\n",
    "\n",
    " - bulk import via stream consumer of import/statements_archive3\n",
    " - use externalScroller to bulk index at the same time\n",
    "\n",
    "During the last // import we saw that the throughput ended up dropping to 20Kdocs/s, so the gain of having 2 injectors running concurrently does not seem that useful.\n",
    "Let's use the remaining MongoDB throughput to do the indexing and avoid having to redo a full scroll+reindex.\n",
    "\n",
    "#### Run the imports"
   ]
  },
  {
   "cell_type": "code",
   "execution_count": 3,
   "metadata": {},
   "outputs": [
    {
     "name": "stdout",
     "output_type": "stream",
     "text": [
      "Exception in thread \"main\" org.nuxeo.client.spi.NuxeoClientException: Error during call on url=http://127.0.0.1:8080/nuxeo/site/api/v1/automation/StreamImporter.runDocumentConsumersEx/@async/eadf8ebe-9200-4f44-b4eb-4ddb17c04568/status\r\n",
      "\tat org.nuxeo.client.NuxeoClient.request(NuxeoClient.java:261)\r\n",
      "\tat org.nuxeo.client.NuxeoClient.get(NuxeoClient.java:233)\r\n",
      "\tat org.nuxeo.data.gen.cli.NuxeoClientHelper.waitForResult(NuxeoClientHelper.java:105)\r\n",
      "\tat org.nuxeo.data.gen.cli.RestCli.main(RestCli.java:255)\r\n",
      "Caused by: java.net.SocketException: Connection reset\r\n",
      "\tat java.base/java.net.SocketInputStream.read(SocketInputStream.java:186)\r\n",
      "\tat java.base/java.net.SocketInputStream.read(SocketInputStream.java:140)\r\n",
      "\tat okio.InputStreamSource.read(Okio.kt:102)\r\n",
      "\tat okio.AsyncTimeout$source$1.read(AsyncTimeout.kt:159)\r\n",
      "\tat okio.RealBufferedSource.indexOf(RealBufferedSource.kt:349)\r\n",
      "\tat okio.RealBufferedSource.readUtf8LineStrict(RealBufferedSource.kt:222)\r\n",
      "\tat okhttp3.internal.http1.Http1Codec.readHeaderLine(Http1Codec.java:215)\r\n",
      "\tat okhttp3.internal.http1.Http1Codec.readResponseHeaders(Http1Codec.java:189)\r\n",
      "\tat okhttp3.internal.http.CallServerInterceptor.intercept(CallServerInterceptor.java:88)\r\n",
      "\tat okhttp3.internal.http.RealInterceptorChain.proceed(RealInterceptorChain.java:147)\r\n",
      "\tat okhttp3.internal.connection.ConnectInterceptor.intercept(ConnectInterceptor.java:45)\r\n",
      "\tat okhttp3.internal.http.RealInterceptorChain.proceed(RealInterceptorChain.java:147)\r\n",
      "\tat okhttp3.internal.http.RealInterceptorChain.proceed(RealInterceptorChain.java:121)\r\n",
      "\tat okhttp3.internal.cache.CacheInterceptor.intercept(CacheInterceptor.java:93)\r\n",
      "\tat okhttp3.internal.http.RealInterceptorChain.proceed(RealInterceptorChain.java:147)\r\n",
      "\tat okhttp3.internal.http.RealInterceptorChain.proceed(RealInterceptorChain.java:121)\r\n",
      "\tat okhttp3.internal.http.BridgeInterceptor.intercept(BridgeInterceptor.java:93)\r\n",
      "\tat okhttp3.internal.http.RealInterceptorChain.proceed(RealInterceptorChain.java:147)\r\n",
      "\tat okhttp3.internal.http.RetryAndFollowUpInterceptor.intercept(RetryAndFollowUpInterceptor.java:126)\r\n",
      "\tat okhttp3.internal.http.RealInterceptorChain.proceed(RealInterceptorChain.java:147)\r\n",
      "\tat okhttp3.internal.http.RealInterceptorChain.proceed(RealInterceptorChain.java:121)\r\n",
      "\tat org.nuxeo.client.objects.AbstractBase.lambda$header$3(AbstractBase.java:206)\r\n",
      "\tat okhttp3.internal.http.RealInterceptorChain.proceed(RealInterceptorChain.java:147)\r\n",
      "\tat okhttp3.internal.http.RealInterceptorChain.proceed(RealInterceptorChain.java:121)\r\n",
      "\tat org.nuxeo.client.objects.AbstractBase.lambda$header$3(AbstractBase.java:206)\r\n",
      "\tat okhttp3.internal.http.RealInterceptorChain.proceed(RealInterceptorChain.java:147)\r\n",
      "\tat okhttp3.internal.http.RealInterceptorChain.proceed(RealInterceptorChain.java:121)\r\n",
      "\tat org.nuxeo.client.objects.AbstractBase.lambda$header$3(AbstractBase.java:206)\r\n",
      "\tat okhttp3.internal.http.RealInterceptorChain.proceed(RealInterceptorChain.java:147)\r\n",
      "\tat okhttp3.internal.http.RealInterceptorChain.proceed(RealInterceptorChain.java:121)\r\n",
      "\tat org.nuxeo.client.spi.auth.BasicAuthInterceptor.intercept(BasicAuthInterceptor.java:59)\r\n",
      "\tat okhttp3.internal.http.RealInterceptorChain.proceed(RealInterceptorChain.java:147)\r\n",
      "\tat okhttp3.internal.http.RealInterceptorChain.proceed(RealInterceptorChain.java:121)\r\n",
      "\tat okhttp3.RealCall.getResponseWithInterceptorChain(RealCall.java:254)\r\n",
      "\tat okhttp3.RealCall.execute(RealCall.java:92)\r\n",
      "\tat org.nuxeo.client.NuxeoClient.request(NuxeoClient.java:259)\r\n",
      "\t... 3 more\r\n"
     ]
    }
   ],
   "source": [
    "!import.sh -o import -t 24 -l import/statements_archive3 -r archives -z 500 -b / -a -w 200000 -bulk -useScroller > logs/import-archives-step3.log"
   ]
  },
  {
   "cell_type": "markdown",
   "metadata": {},
   "source": [
    "Started BulkIndex using ExternalScroller: ee492d2f-112a-4f84-90ef-e63ae146c886"
   ]
  },
  {
   "cell_type": "code",
   "execution_count": 5,
   "metadata": {},
   "outputs": [
    {
     "name": "stdout",
     "output_type": "stream",
     "text": [
      "{\"entity-type\":\"bulkStatus\",\"commandId\":\"ee492d2f-112a-4f84-90ef-e63ae146c886\",\"state\":\"SCROLLING_RUNNING\",\"processed\":434609856,\"error\":false,\"errorCount\":0,\"total\":0,\"action\":\"index\",\"username\":\"nco-admin\",\"submitted\":\"2020-09-20T13:13:27.362Z\",\"scrollStart\":\"2020-09-20T13:13:27.384Z\",\"scrollEnd\":null,\"processingStart\":null,\"processingEnd\":null,\"completed\":null,\"processingMillis\":0}"
     ]
    }
   ],
   "source": [
    "# check status\n",
    "! cid=\"ee492d2f-112a-4f84-90ef-e63ae146c886\"; \\\n",
    "  INJECTOR=\"http://127.0.0.1:8080\"; \\\n",
    "  curl -H 'Content-Type:application/json+nxrequest' -H 'X-NXRepository:archives' \\\n",
    "  -u $NXUSER:$NXPWD $INJECTOR/nuxeo/api/v1/bulk/$cid"
   ]
  },
  {
   "cell_type": "markdown",
   "metadata": {},
   "source": [
    "The first run failed because of OOM: see https://jira.nuxeo.com/browse/SUPINT-1789"
   ]
  },
  {
   "cell_type": "code",
   "execution_count": 6,
   "metadata": {},
   "outputs": [
    {
     "name": "stdout",
     "output_type": "stream",
     "text": [
      "{\"entity-type\":\"bulkStatus\",\"commandId\":\"ee492d2f-112a-4f84-90ef-e63ae146c886\",\"state\":\"ABORTED\",\"processed\":434609856,\"error\":false,\"errorCount\":0,\"total\":0,\"action\":\"index\",\"username\":\"nco-admin\",\"submitted\":\"2020-09-20T13:13:27.362Z\",\"scrollStart\":\"2020-09-20T13:13:27.384Z\",\"scrollEnd\":null,\"processingStart\":null,\"processingEnd\":null,\"completed\":null,\"processingMillis\":0}"
     ]
    }
   ],
   "source": [
    "# cancel previously running BAF\n",
    "! cid=\"ee492d2f-112a-4f84-90ef-e63ae146c886\"; \\\n",
    "  INJECTOR=\"http://127.0.0.1:8080\"; \\\n",
    "  curl -H 'Content-Type:application/json+nxrequest' -H 'X-NXRepository:archives' \\\n",
    "  -X PUT -u $NXUSER:$NXPWD $INJECTOR/nuxeo/api/v1/bulk/$cid/abort"
   ]
  },
  {
   "cell_type": "code",
   "execution_count": null,
   "metadata": {},
   "outputs": [],
   "source": [
    "!import.sh -o import -t 24 -l import/statements_archive3 -r archives -z 500 -b / -a -w 200000 -bulk -useScroller > logs/import-archives-step3-2.log"
   ]
  },
  {
   "cell_type": "code",
   "execution_count": null,
   "metadata": {},
   "outputs": [],
   "source": []
  }
 ],
 "metadata": {
  "kernelspec": {
   "display_name": "Python 3",
   "language": "python",
   "name": "python3"
  },
  "language_info": {
   "codemirror_mode": {
    "name": "ipython",
    "version": 3
   },
   "file_extension": ".py",
   "mimetype": "text/x-python",
   "name": "python",
   "nbconvert_exporter": "python",
   "pygments_lexer": "ipython3",
   "version": "3.7.3"
  }
 },
 "nbformat": 4,
 "nbformat_minor": 4
}
