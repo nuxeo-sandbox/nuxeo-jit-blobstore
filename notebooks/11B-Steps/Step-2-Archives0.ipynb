{
 "cells": [
  {
   "cell_type": "markdown",
   "metadata": {},
   "source": [
    "### Achived Statements - part 0\n",
    "\n",
    "Target:\n",
    "\n",
    " - us-east = 809,993,275\n",
    " - us-west = 809,993,275\n",
    " - archives = 1,079,993,172\n",
    " \n",
    "Process:\n",
    "\n",
    " - bulk import via stream consumer of import/statements_archive0\n",
    " - bulk index in a later step\n",
    " \n",
    "#### Run the import\n",
    "\n"
   ]
  },
  {
   "cell_type": "code",
   "execution_count": null,
   "metadata": {},
   "outputs": [],
   "source": [
    "!import.sh -o import -t 24 -l import/statements_archive0 -r archives -z 500 -b / -a -w 100000 -bulk > logs/import-archives-step0-7.log"
   ]
  },
  {
   "cell_type": "code",
   "execution_count": 5,
   "metadata": {},
   "outputs": [
    {
     "name": "stdout",
     "output_type": "stream",
     "text": [
      "Using config /nxbench/notebooks/11B-Steps/nuxeo.properties\r\n",
      "url=http://127.0.0.1:8080/nuxeo\r\n",
      "login=nco-admin\r\n",
      "Nuxeo Client configured\r\n",
      " (async mode actiavted)\r\n",
      "Connected to Nuxeo Server 11.3.26\r\n",
      "Running Operation:StreamImporter.runDocumentConsumersEx\r\n",
      "   nbThreads: 24 \r\n",
      "   blockPostCommitListeners: true \r\n",
      "   logName: import/statements_archive0 \r\n",
      "   blockDefaultSyncListeners: true \r\n",
      "   blockAsyncListeners: true \r\n",
      "   rootFolder: / \r\n",
      "   logSize: 8 \r\n",
      "   blockIndexing: true \r\n",
      "   batchSize: 500 \r\n",
      "Async Automation Execution Scheduled\r\n",
      "  => status url:[http://127.0.0.1:8080/nuxeo/site/api/v1/automation/StreamImporter.runDocumentConsumersEx/@async/096db719-6e60-429d-8e76-3cb9bf0d3cef/status]\r\n",
      "#####################\r\n",
      "Execution completed\r\n",
      "\r\n",
      "waiting for end of Async Exec\r\n",
      "url=http://127.0.0.1:8080/nuxeo\r\n",
      "login=nco-admin\r\n",
      "Nuxeo Client configured\r\n",
      "......................................................................................................................................................................................................................................................................................................................................................................................................................................................................................................................................................................................................................................................................................................................................................................................................................................................................................................................................................................................................\r\n",
      "Running completed\r\n",
      "elapsed:57997.114\r\n",
      "committed:954442705\r\n",
      "failures:0\r\n",
      "consumers:24\r\n",
      "throughput:16456.727570961546\r\n",
      "\r\n",
      "Exit after 58030 s\r\n"
     ]
    }
   ],
   "source": [
    "!cat logs/import-archives-step0-7.log"
   ]
  },
  {
   "cell_type": "markdown",
   "metadata": {},
   "source": [
    "The import result only state 954442705 documents, because the import was stopped and restarted several times.\n",
    "So, this is the count and the throughput of the last part of the import.\n",
    "\n",
    "Here is below the corresponding MongoDB monitoring:\n",
    "\n",
    "<img src=\"monitoring/sharded-mongo-vs-import.png\"/>\n",
    "\n",
    "Datadog Notebook available in https://app.datadoghq.com/notebook/275949/import-archive0"
   ]
  },
  {
   "cell_type": "code",
   "execution_count": 8,
   "metadata": {},
   "outputs": [],
   "source": [
    "!mongo \"mongodb+srv://nxbench-2826-archives.vzeqm.mongodb.net/nuxeo\" \\\n",
    "  --username $MONGOUSER --password $MONGOPWD \\\n",
    "  ../ToolBox/archives-mongodb-stats.js > snapshots/\"mongodb-archives-\"`date +%Y%m%d-%H%M%S`.bson"
   ]
  }
 ],
 "metadata": {
  "kernelspec": {
   "display_name": "Python 3",
   "language": "python",
   "name": "python3"
  },
  "language_info": {
   "codemirror_mode": {
    "name": "ipython",
    "version": 3
   },
   "file_extension": ".py",
   "mimetype": "text/x-python",
   "name": "python",
   "nbconvert_exporter": "python",
   "pygments_lexer": "ipython3",
   "version": "3.7.3"
  }
 },
 "nbformat": 4,
 "nbformat_minor": 4
}
