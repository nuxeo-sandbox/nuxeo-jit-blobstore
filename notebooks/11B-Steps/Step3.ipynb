{
 "cells": [
  {
   "cell_type": "markdown",
   "metadata": {},
   "source": [
    "### Achived Statements - part 1+2\n",
    "\n",
    "Target:\n",
    "\n",
    " - us-east = 809,993,275\n",
    " - us-west = 809,993,275\n",
    " - archives = 3,239,979,516\n",
    "\n",
    " \n",
    "Process:\n",
    "\n",
    " - bulk import via stream consumer of import/statements_archive1\n",
    " - bulk import via stream consumer of import/statements_archive2\n",
    " - bulk index in a later step\n",
    " \n",
    "The goal is to maximise MongoDB Ingest throughput by using 2 parallel ingestion\n",
    "\n",
    "#### Run the imports\n"
   ]
  },
  {
   "cell_type": "code",
   "execution_count": null,
   "metadata": {},
   "outputs": [],
   "source": [
    "!import.sh -o import -t 24 -l import/statements_archive1 -r archives -z 500 -b / -a -w 100000 -bulk > logs/import-archives-step1.log"
   ]
  },
  {
   "cell_type": "code",
   "execution_count": null,
   "metadata": {},
   "outputs": [],
   "source": [
    "!cat logs/import-archives-step1.log"
   ]
  },
  {
   "cell_type": "code",
   "execution_count": null,
   "metadata": {},
   "outputs": [],
   "source": [
    "!import.sh -o import -t 24 -l import/statements_archive2 -r archives -z 500 -b / -a -w 100000 -bulk > logs/import-archives-step2.log"
   ]
  },
  {
   "cell_type": "code",
   "execution_count": null,
   "metadata": {},
   "outputs": [],
   "source": [
    "!cat logs/import-archives-step2.log"
   ]
  },
  {
   "cell_type": "code",
   "execution_count": 8,
   "metadata": {},
   "outputs": [],
   "source": [
    "!mongo \"mongodb+srv://nxbench-2826-archives.vzeqm.mongodb.net/nuxeo\" \\\n",
    "  --username $MONGOUSER --password $MONGOPWD \\\n",
    "  ../ToolBox/archives-mongodb-stats.js > snapshots/\"mongodb-archives-\"`date +%Y%m%d-%H%M%S`.bson"
   ]
  }
 ],
 "metadata": {
  "kernelspec": {
   "display_name": "Python 3",
   "language": "python",
   "name": "python3"
  },
  "language_info": {
   "codemirror_mode": {
    "name": "ipython",
    "version": 3
   },
   "file_extension": ".py",
   "mimetype": "text/x-python",
   "name": "python",
   "nbconvert_exporter": "python",
   "pygments_lexer": "ipython3",
   "version": "3.7.3"
  }
 },
 "nbformat": 4,
 "nbformat_minor": 4
}
