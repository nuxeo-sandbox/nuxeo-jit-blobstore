{
 "cells": [
  {
   "cell_type": "markdown",
   "metadata": {},
   "source": [
    "### Achived Statements - indexing\n",
    "\n",
    "Target:\n",
    "\n",
    " - us-east = 809,993,275\n",
    " - us-west = 809,993,275\n",
    " - archives = 3,239,979,516\n",
    " \n",
    "Process:\n",
    "\n",
    " - bulk index the 3B archived statements using BAF\n",
    " \n",
    "#### Principles\n",
    "\n",
    " - scale out the number of Nuxeo Worker nodes \n",
    "     - start with 5 worker nodes\n",
    "     - ready to scale up to 8\n",
    "     - bulk reindexing is configured with\n",
    "         - 40 partitions\n",
    "         - 5 threads/node to creating indexing commands\n",
    "         - 4 threads/node to submit indexing commands\n",
    "\n",
    "\n",
    "    es.baf.index.defaultPartitions=40\n",
    "    es.baf.index.concurrency=5\n",
    "    es.baf.bulkIndex.concurrency=4\n",
    "\n",
    "\n",
    "- configure ES for bulk indexing (see [ES toolbox](../ToolBox/Elasticsearch.ipynb))\n",
    "     - no replicas\n",
    "     - refresh rate  \n",
    " - configure the archives MongoDB cluster use allow read from secondaries\n",
    "     - add `?readPreference=nearest` to the connection url\n",
    "\n",
    "\n",
    "\n",
    "\n",
    "Associated Datadog notebook: https://app.datadoghq.com/notebook/276275/index-archives-3b\n",
    "\n",
    "#### Start the Bulk Indexing"
   ]
  },
  {
   "cell_type": "code",
   "execution_count": 11,
   "metadata": {},
   "outputs": [
    {
     "name": "stdout",
     "output_type": "stream",
     "text": [
      "{\"commandId\":\"7847045a-298f-4341-959e-f6b8dc971ee0\"}"
     ]
    }
   ],
   "source": [
    "!(INJECTOR=\"http://127.0.0.1:8080\";\\\n",
    "curl -H 'Content-Type:application/json+nxrequest' \\\n",
    "  -H 'X-NXRepository:archives' \\\n",
    "  -X POST -d '{\"params\":{},\"context\":{}}' -u $NXUSER:$NXPWD \\\n",
    "  \"$INJECTOR/nuxeo/api/v1/automation/Elasticsearch.BulkIndex\")"
   ]
  },
  {
   "cell_type": "code",
   "execution_count": 12,
   "metadata": {},
   "outputs": [
    {
     "name": "stdout",
     "output_type": "stream",
     "text": [
      "{\"entity-type\":\"bulkStatus\",\"commandId\":\"7847045a-298f-4341-959e-f6b8dc971ee0\",\"state\":\"SCROLLING_RUNNING\",\"processed\":281000,\"error\":false,\"errorCount\":0,\"total\":0,\"action\":\"index\",\"username\":\"nco-admin\",\"submitted\":\"2020-09-19T14:34:19.857Z\",\"scrollStart\":\"2020-09-19T14:34:19.881Z\",\"scrollEnd\":null,\"processingStart\":null,\"processingEnd\":null,\"completed\":null,\"processingMillis\":0}"
     ]
    }
   ],
   "source": [
    "# check status\n",
    "! cid=\"7847045a-298f-4341-959e-f6b8dc971ee0\"; \\\n",
    "  INJECTOR=\"http://127.0.0.1:8080\"; \\\n",
    "  curl -H 'Content-Type:application/json+nxrequest' -H 'X-NXRepository:archives' \\\n",
    "  -u $NXUSER:$NXPWD $INJECTOR/nuxeo/api/v1/bulk/$cid"
   ]
  },
  {
   "cell_type": "markdown",
   "metadata": {},
   "source": [
    "#### Configure index for maximum speed"
   ]
  },
  {
   "cell_type": "code",
   "execution_count": 13,
   "metadata": {},
   "outputs": [
    {
     "name": "stdout",
     "output_type": "stream",
     "text": [
      "\n",
      "curl -X PUT $ES_SERVER/archives/_settings -H \"Content-Type: application/json\"    -d '{\"index\" : { \"number_of_replicas\" : 0  , \"refresh_interval\" : -1 } }'\n",
      "\n",
      "\n",
      "{\"acknowledged\":true}"
     ]
    }
   ],
   "source": [
    "Index = \"archives\"\n",
    "\n",
    "cmd = \"\"\"\n",
    "curl -X PUT $ES_SERVER/$Index/_settings -H \"Content-Type: application/json\" \\\n",
    "   -d '{\"index\" : { \"number_of_replicas\" : 0  , \"refresh_interval\" : -1 } }'\n",
    "\n",
    "\"\"\".replace(\"$Index\", Index)\n",
    "\n",
    "print(cmd)\n",
    "\n",
    "!$cmd"
   ]
  },
  {
   "cell_type": "markdown",
   "metadata": {},
   "source": [
    "Get Bulk Command Status"
   ]
  },
  {
   "cell_type": "code",
   "execution_count": 14,
   "metadata": {},
   "outputs": [
    {
     "name": "stdout",
     "output_type": "stream",
     "text": [
      "{\"entity-type\":\"bulkStatus\",\"commandId\":\"7847045a-298f-4341-959e-f6b8dc971ee0\",\"state\":\"RUNNING\",\"processed\":2639789000,\"error\":false,\"errorCount\":0,\"total\":3240123297,\"action\":\"index\",\"username\":\"nco-admin\",\"submitted\":\"2020-09-19T14:34:19.857Z\",\"scrollStart\":\"2020-09-19T14:34:19.881Z\",\"scrollEnd\":\"2020-09-19T22:17:36.630Z\",\"processingStart\":null,\"processingEnd\":null,\"completed\":null,\"processingMillis\":0}"
     ]
    }
   ],
   "source": [
    "# check status\n",
    "! cid=\"7847045a-298f-4341-959e-f6b8dc971ee0\"; \\\n",
    "  INJECTOR=\"http://127.0.0.1:8080\"; \\\n",
    "  curl -H 'Content-Type:application/json+nxrequest' -H 'X-NXRepository:archives' \\\n",
    "  -u $NXUSER:$NXPWD $INJECTOR/nuxeo/api/v1/bulk/$cid"
   ]
  },
  {
   "cell_type": "markdown",
   "metadata": {},
   "source": [
    "**Gather statistics** "
   ]
  },
  {
   "cell_type": "code",
   "execution_count": null,
   "metadata": {},
   "outputs": [],
   "source": [
    "!statfile=\"snapshots/es-3B-archive-indexing-\"`date +%Y%m%d-%H%M%S`.txt; \\\n",
    " curl \"$ES_SERVER\" > $statfile; \\\n",
    " curl \"$ES_SERVER/_cat/health?v\" >> $statfile ; \\\n",
    " curl \"$ES_SERVER/_cat/nodes?v\" >> $statfile; \\\n",
    " curl \"$ES_SERVER/_cat/indices?v\" >> $statfile; \\\n",
    " cat $statfile"
   ]
  }
 ],
 "metadata": {
  "kernelspec": {
   "display_name": "Python 3",
   "language": "python",
   "name": "python3"
  },
  "language_info": {
   "codemirror_mode": {
    "name": "ipython",
    "version": 3
   },
   "file_extension": ".py",
   "mimetype": "text/x-python",
   "name": "python",
   "nbconvert_exporter": "python",
   "pygments_lexer": "ipython3",
   "version": "3.7.3"
  }
 },
 "nbformat": 4,
 "nbformat_minor": 4
}
