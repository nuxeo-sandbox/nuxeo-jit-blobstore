{
 "cells": [
  {
   "cell_type": "markdown",
   "metadata": {},
   "source": [
    "### Achived Statements - indexing\n",
    "\n",
    "Target:\n",
    "\n",
    " - us-east = 809,993,275\n",
    " - us-west = 809,993,275\n",
    " - archives = 3,239,979,516\n",
    " \n",
    "Process:\n",
    "\n",
    " - bulk index the 3B archived statements using BAF\n",
    " \n",
    "#### Principles\n",
    "\n",
    " - scale out the number of Nuxeo Worker nodes \n",
    "     - start with 5 worker nodes\n",
    "     - ready to scale up to 8\n",
    "     - bulk reindexing is configured with\n",
    "         - 40 partitions\n",
    "         - 5 threads/node to creating indexing commands\n",
    "         - 4 threads/node to submit indexing commands\n",
    "\n",
    "\n",
    "    es.baf.index.defaultPartitions=40\n",
    "    es.baf.index.concurrency=5\n",
    "    es.baf.bulkIndex.concurrency=4\n",
    "\n",
    "\n",
    "- configure ES for bulk indexing (see [ES toolbox](../ToolBox/Elasticsearch.ipynb))\n",
    "     - no replicas\n",
    "     - refresh rate  \n",
    " - configure the archives MongoDB cluster use allow read from secondaries\n",
    "     - add `?readPreference=nearest` to the connection url\n",
    "\n",
    "\n",
    "\n",
    "\n",
    "Associated Datadog notebook: https://app.datadoghq.com/notebook/276275/index-archives-3b\n",
    "\n",
    "#### Start the Bulk Indexing"
   ]
  },
  {
   "cell_type": "code",
   "execution_count": 11,
   "metadata": {},
   "outputs": [
    {
     "name": "stdout",
     "output_type": "stream",
     "text": [
      "{\"commandId\":\"7847045a-298f-4341-959e-f6b8dc971ee0\"}"
     ]
    }
   ],
   "source": [
    "!(INJECTOR=\"http://127.0.0.1:8080\";\\\n",
    "curl -H 'Content-Type:application/json+nxrequest' \\\n",
    "  -H 'X-NXRepository:archives' \\\n",
    "  -X POST -d '{\"params\":{},\"context\":{}}' -u $NXUSER:$NXPWD \\\n",
    "  \"$INJECTOR/nuxeo/api/v1/automation/Elasticsearch.BulkIndex\")"
   ]
  },
  {
   "cell_type": "code",
   "execution_count": 12,
   "metadata": {},
   "outputs": [
    {
     "name": "stdout",
     "output_type": "stream",
     "text": [
      "{\"entity-type\":\"bulkStatus\",\"commandId\":\"7847045a-298f-4341-959e-f6b8dc971ee0\",\"state\":\"SCROLLING_RUNNING\",\"processed\":281000,\"error\":false,\"errorCount\":0,\"total\":0,\"action\":\"index\",\"username\":\"nco-admin\",\"submitted\":\"2020-09-19T14:34:19.857Z\",\"scrollStart\":\"2020-09-19T14:34:19.881Z\",\"scrollEnd\":null,\"processingStart\":null,\"processingEnd\":null,\"completed\":null,\"processingMillis\":0}"
     ]
    }
   ],
   "source": [
    "# check status\n",
    "! cid=\"7847045a-298f-4341-959e-f6b8dc971ee0\"; \\\n",
    "  INJECTOR=\"http://127.0.0.1:8080\"; \\\n",
    "  curl -H 'Content-Type:application/json+nxrequest' -H 'X-NXRepository:archives' \\\n",
    "  -u $NXUSER:$NXPWD $INJECTOR/nuxeo/api/v1/bulk/$cid"
   ]
  },
  {
   "cell_type": "markdown",
   "metadata": {},
   "source": [
    "#### Configure index for maximum speed"
   ]
  },
  {
   "cell_type": "code",
   "execution_count": 13,
   "metadata": {},
   "outputs": [
    {
     "name": "stdout",
     "output_type": "stream",
     "text": [
      "\n",
      "curl -X PUT $ES_SERVER/archives/_settings -H \"Content-Type: application/json\"    -d '{\"index\" : { \"number_of_replicas\" : 0  , \"refresh_interval\" : -1 } }'\n",
      "\n",
      "\n",
      "{\"acknowledged\":true}"
     ]
    }
   ],
   "source": [
    "Index = \"archives\"\n",
    "\n",
    "cmd = \"\"\"\n",
    "curl -X PUT $ES_SERVER/$Index/_settings -H \"Content-Type: application/json\" \\\n",
    "   -d '{\"index\" : { \"number_of_replicas\" : 0  , \"refresh_interval\" : -1 } }'\n",
    "\n",
    "\"\"\".replace(\"$Index\", Index)\n",
    "\n",
    "print(cmd)\n",
    "\n",
    "!$cmd"
   ]
  },
  {
   "cell_type": "markdown",
   "metadata": {},
   "source": [
    "Get Bulk Command Status"
   ]
  },
  {
   "cell_type": "code",
   "execution_count": 15,
   "metadata": {},
   "outputs": [
    {
     "name": "stdout",
     "output_type": "stream",
     "text": [
      "{\"entity-type\":\"bulkStatus\",\"commandId\":\"7847045a-298f-4341-959e-f6b8dc971ee0\",\"state\":\"COMPLETED\",\"processed\":3240232297,\"error\":false,\"errorCount\":0,\"total\":3240123297,\"action\":\"index\",\"username\":\"nco-admin\",\"submitted\":\"2020-09-19T14:34:19.857Z\",\"scrollStart\":\"2020-09-19T14:34:19.881Z\",\"scrollEnd\":\"2020-09-19T22:17:36.630Z\",\"processingStart\":null,\"processingEnd\":null,\"completed\":\"2020-09-20T06:20:38.512Z\",\"processingMillis\":0}"
     ]
    }
   ],
   "source": [
    "# check status\n",
    "! cid=\"7847045a-298f-4341-959e-f6b8dc971ee0\"; \\\n",
    "  INJECTOR=\"http://127.0.0.1:8080\"; \\\n",
    "  curl -H 'Content-Type:application/json+nxrequest' -H 'X-NXRepository:archives' \\\n",
    "  -u $NXUSER:$NXPWD $INJECTOR/nuxeo/api/v1/bulk/$cid"
   ]
  },
  {
   "cell_type": "markdown",
   "metadata": {},
   "source": [
    "{\"entity-type\":\"bulkStatus\",\"commandId\":\"7847045a-298f-4341-959e-f6b8dc971ee0\",\"state\":\"COMPLETED\",\"processed\":3240232297,\"error\":false,\"errorCount\":0,\"total\":3240123297,\"action\":\"index\",\"username\":\"nco-admin\",\"submitted\":\"2020-09-19T14:34:19.857Z\",\"scrollStart\":\"2020-09-19T14:34:19.881Z\",\"scrollEnd\":\"2020-09-19T22:17:36.630Z\",\"processingStart\":null,\"processingEnd\":null,\"completed\":\"2020-09-20T06:20:38.512Z\",\"processingMillis\":0}"
   ]
  },
  {
   "cell_type": "code",
   "execution_count": 16,
   "metadata": {},
   "outputs": [
    {
     "name": "stdout",
     "output_type": "stream",
     "text": [
      "57,065.87 docs/s\n"
     ]
    }
   ],
   "source": [
    "from dateutil import parser\n",
    "start = \"2020-09-19T14:34:19.857Z\"\n",
    "end = \"2020-09-20T06:20:38.512Z\"\n",
    "nbdocs = 3240123297\n",
    "s = parser.parse(start)\n",
    "e = parser.parse(end) \n",
    "throughput = nbdocs / (e-s).total_seconds()\n",
    "\n",
    "print('%s docs/s' % format(throughput, ',.2f'))"
   ]
  },
  {
   "cell_type": "markdown",
   "metadata": {},
   "source": [
    "**Gather statistics** "
   ]
  },
  {
   "cell_type": "code",
   "execution_count": 17,
   "metadata": {},
   "outputs": [
    {
     "name": "stdout",
     "output_type": "stream",
     "text": [
      "  % Total    % Received % Xferd  Average Speed   Time    Time     Time  Current\n",
      "                                 Dload  Upload   Total   Spent    Left  Speed\n",
      "100   509  100   509    0     0  11065      0 --:--:-- --:--:-- --:--:-- 11065\n",
      "  % Total    % Received % Xferd  Average Speed   Time    Time     Time  Current\n",
      "                                 Dload  Upload   Total   Spent    Left  Speed\n",
      "100   336  100   336    0     0  28000      0 --:--:-- --:--:-- --:--:-- 28000\n",
      "  % Total    % Received % Xferd  Average Speed   Time    Time     Time  Current\n",
      "                                 Dload  Upload   Total   Spent    Left  Speed\n",
      "100  1403  100  1403    0     0  38972      0 --:--:-- --:--:-- --:--:-- 40085\n",
      "  % Total    % Received % Xferd  Average Speed   Time    Time     Time  Current\n",
      "                                 Dload  Upload   Total   Spent    Left  Speed\n",
      "100   864  100   864    0     0  30857      0 --:--:-- --:--:-- --:--:-- 30857\n",
      "{\n",
      "  \"name\" : \"G4PH9nZ\",\n",
      "  \"cluster_name\" : \"188670881089:es-nxbench-2826-benr\",\n",
      "  \"cluster_uuid\" : \"VkxqYf4lSLu0fU1msd7Qgw\",\n",
      "  \"version\" : {\n",
      "    \"number\" : \"6.5.4\",\n",
      "    \"build_flavor\" : \"oss\",\n",
      "    \"build_type\" : \"zip\",\n",
      "    \"build_hash\" : \"ad42e08\",\n",
      "    \"build_date\" : \"2020-06-18T23:56:05.513175Z\",\n",
      "    \"build_snapshot\" : false,\n",
      "    \"lucene_version\" : \"7.5.0\",\n",
      "    \"minimum_wire_compatibility_version\" : \"5.6.0\",\n",
      "    \"minimum_index_compatibility_version\" : \"5.0.0\"\n",
      "  },\n",
      "  \"tagline\" : \"You Know, for Search\"\n",
      "}\n",
      "epoch      timestamp cluster                           status node.total node.data shards pri relo init unassign pending_tasks max_task_wait_time active_shards_percent\n",
      "1600583134 06:25:34  188670881089:es-nxbench-2826-benr green          15        12    394 242    0    0        0             0                  -                100.0%\n",
      "ip            heap.percent ram.percent cpu load_1m load_5m load_15m node.role master name\n",
      "x.x.x.x           24          99   0    0.01    0.09     0.28 di        -      SvB-TY4\n",
      "x.x.x.x             5          96   0    0.13    0.07     0.02 m         -      jaOP5gp\n",
      "x.x.x.x           35          99   0    0.12    0.11     0.18 di        -      y4l0u2B\n",
      "x.x.x.x           55          99   0    0.00    0.04     0.18 di        -      8jUy_Kr\n",
      "x.x.x.x             40          99   0    0.29    0.21     0.28 di        -      cwWMIjI\n",
      "x.x.x.x           50          99   0    0.04    0.10     0.28 di        -      OzcDv6P\n",
      "x.x.x.x            46          99   0    0.00    0.04     0.23 di        -      DP9w1-n\n",
      "x.x.x.x             5          96   1    0.00    0.00     0.00 m         *      2uH41aE\n",
      "x.x.x.x           24          99   0    0.02    0.06     0.22 di        -      ltvpFbI\n",
      "x.x.x.x            21          99   0    0.00    0.07     0.24 di        -      6XUyTLV\n",
      "x.x.x.x           38          99   0    0.04    0.08     0.21 di        -      UW3yTqZ\n",
      "x.x.x.x            6          96   0    0.00    0.00     0.00 m         -      jmDBhD9\n",
      "x.x.x.x            50          99   0    0.03    0.05     0.24 di        -      mrUAsod\n",
      "x.x.x.x           44          99   0    0.00    0.14     0.60 di        -      G4PH9nZ\n",
      "x.x.x.x            17          99   0    0.00    0.01     0.13 di        -      M_mhgBy\n",
      "health status index        uuid                   pri rep docs.count docs.deleted store.size pri.store.size\n",
      "green  open   nuxeo-audit  gGm4wLiaQ1mDwroe_MhSWw  35   1    3599243            0        2gb            1gb\n",
      "green  open   us-west      cnMyWwwARz6pKNcr7-om9Q  35   1  801706658         6854      1.8tb        968.1gb\n",
      "green  open   .kibana_1    _2CznO6LRHCBOA_QcmUbuA   1   1          1            0      7.4kb          3.7kb\n",
      "green  open   archives     8CoDP5NPQ-qHfMRv5d_Buw 100   0 3216742228            0      1.3tb          1.3tb\n",
      "green  open   nuxeo        2NVvhrROSSOpu2EEN9qxxw  35   1        268           36      7.5mb          3.8mb\n",
      "green  open   nuxeo-uidgen 0bxocGu1SNeCJ8HqBwgE7A   1  11          1            0     29.6kb          2.4kb\n",
      "green  open   us-east      Jz3kBNZQTJyjVr9CPqUfTg  35   1  818318598         7185      1.9tb        989.4gb\n"
     ]
    }
   ],
   "source": [
    "!statfile=\"snapshots/es-3B-archive-indexing-\"`date +%Y%m%d-%H%M%S`.txt; \\\n",
    " curl \"$ES_SERVER\" > $statfile; \\\n",
    " curl \"$ES_SERVER/_cat/health?v\" >> $statfile ; \\\n",
    " curl \"$ES_SERVER/_cat/nodes?v\" >> $statfile; \\\n",
    " curl \"$ES_SERVER/_cat/indices?v\" >> $statfile; \\\n",
    " cat $statfile"
   ]
  },
  {
   "cell_type": "code",
   "execution_count": null,
   "metadata": {},
   "outputs": [],
   "source": []
  }
 ],
 "metadata": {
  "kernelspec": {
   "display_name": "Python 3",
   "language": "python",
   "name": "python3"
  },
  "language_info": {
   "codemirror_mode": {
    "name": "ipython",
    "version": 3
   },
   "file_extension": ".py",
   "mimetype": "text/x-python",
   "name": "python",
   "nbconvert_exporter": "python",
   "pygments_lexer": "ipython3",
   "version": "3.7.3"
  }
 },
 "nbformat": 4,
 "nbformat_minor": 4
}
