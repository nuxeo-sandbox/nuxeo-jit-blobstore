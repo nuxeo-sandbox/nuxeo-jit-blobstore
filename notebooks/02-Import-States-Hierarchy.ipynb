{
 "cells": [
  {
   "cell_type": "markdown",
   "metadata": {},
   "source": [
    "#### Import the state hierarchy in the 2 live repositories\n",
    "\n",
    "The Domain representing states will be dispatched between 2 logs to be importer in 2 different repositories"
   ]
  },
  {
   "cell_type": "markdown",
   "metadata": {},
   "source": [
    "Init the Nuxeo Configuration file ..."
   ]
  },
  {
   "cell_type": "code",
   "execution_count": 2,
   "metadata": {},
   "outputs": [],
   "source": [
    "%%bash\n",
    "cat <<EOT > nuxeo.properties\n",
    "url=http://127.0.0.1:8080/nuxeo\n",
    "login=$NXUSER\n",
    "password=$NXPWD\n",
    "EOT"
   ]
  },
  {
   "cell_type": "markdown",
   "metadata": {},
   "source": [
    "Because the initial hierarchy is small we can run synchronously in serie:\n",
    " - run producer to fill the 2 streams\n",
    " - run consumer pool for us-east\n",
    " - run consumer pool for us-west"
   ]
  },
  {
   "cell_type": "code",
   "execution_count": null,
   "metadata": {},
   "outputs": [],
   "source": [
    "!import.sh -o consumertree -l import/hierarchy -m \n",
    "!import.sh -o import -l import/hierarchy-us-east -r us-east -b /\n",
    "!import.sh -o import -l import/hierarchy-us-west -r us-west -b /\n"
   ]
  }
 ],
 "metadata": {
  "kernelspec": {
   "display_name": "Python 3",
   "language": "python",
   "name": "python3"
  },
  "language_info": {
   "codemirror_mode": {
    "name": "ipython",
    "version": 3
   },
   "file_extension": ".py",
   "mimetype": "text/x-python",
   "name": "python",
   "nbconvert_exporter": "python",
   "pygments_lexer": "ipython3",
   "version": "3.7.3"
  }
 },
 "nbformat": 4,
 "nbformat_minor": 4
}
