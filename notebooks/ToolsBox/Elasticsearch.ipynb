{
 "cells": [
  {
   "cell_type": "code",
   "execution_count": 40,
   "metadata": {},
   "outputs": [],
   "source": [
    "Elastic = \"127.0.0.1\""
   ]
  },
  {
   "cell_type": "code",
   "execution_count": 36,
   "metadata": {},
   "outputs": [
    {
     "name": "stdout",
     "output_type": "stream",
     "text": [
      "404 page not found\r\n"
     ]
    }
   ],
   "source": [
    "!curl -X PUT http://127.0.0.1/nuxeo/_settings -H \"Content-Type: application/json\"  -d '{    \"index\" : {  \"number_of_replicas\" : 1  } }'"
   ]
  },
  {
   "cell_type": "code",
   "execution_count": 44,
   "metadata": {},
   "outputs": [
    {
     "name": "stdout",
     "output_type": "stream",
     "text": [
      "curl: (3) unmatched brace in URL position 1:\r\n",
      "{http://\r\n",
      " ^\r\n",
      "curl: (6) Could not resolve host: +\r\n",
      "curl: (3) unmatched close brace/bracket in URL position 8:\r\n",
      "Elastic}/nuxeo/_settings\r\n",
      "       ^\r\n"
     ]
    }
   ],
   "source": [
    "!curl -X PUT {'http://' + Elastic}/nuxeo/_settings  -H 'Content-Type: application/json' -d '{    \"index\" : {  \"number_of_replicas\" : 1  } }'"
   ]
  }
 ],
 "metadata": {
  "kernelspec": {
   "display_name": "Python 3",
   "language": "python",
   "name": "python3"
  },
  "language_info": {
   "codemirror_mode": {
    "name": "ipython",
    "version": 3
   },
   "file_extension": ".py",
   "mimetype": "text/x-python",
   "name": "python",
   "nbconvert_exporter": "python",
   "pygments_lexer": "ipython3",
   "version": "3.7.3"
  }
 },
 "nbformat": 4,
 "nbformat_minor": 4
}
