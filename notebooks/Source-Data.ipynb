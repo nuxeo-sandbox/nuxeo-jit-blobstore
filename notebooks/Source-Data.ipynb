{
 "cells": [
  {
   "cell_type": "markdown",
   "metadata": {},
   "source": [
    "### Data prep\n",
    "\n",
    "#### Source data\n",
    "\n",
    "Source data for the 10B benchmark contains 3 types:\n",
    "\n",
    " - Customer data\n",
    "   - name, address, customer number ...\n",
    "   - Identity card (jpeg or pdf)\n",
    " - Account data\n",
    "   - Account number (+customer data)\n",
    "   - Letter for opening this account\n",
    " - Statements\n",
    "   - Month/Year\n",
    "   - Operations\n",
    "   - PDF \n",
    " \n",
    " For Customers and Account data:\n",
    "  - meta-data has been pre-generated\n",
    "     - https://10b-benchmark-data.s3.amazonaws.com/all-id-cards.csv\n",
    "     - https://10b-benchmark-data.s3.amazonaws.com/all-accounts.csv\n",
    "  - binaries have been pre-generated\n",
    "     - stored on a snowball then on a S3 bucket\n",
    " \n",
    " For Statements, data is generated 100% dynamically:\n",
    " \n",
    "  - the importer generate the statement data on the fly\n",
    "  - the custom BlobManager return the corresponding PDF\n",
    "  \n",
    " #### Volume and cardinality\n",
    " \n",
    " ##### Customers\n",
    " \n",
    " all-id-cards.csv contains 89,997,827 clients\n",
    " \n",
    " When imported, this will generate 89,997,827*2=179,995,654 documents \n",
    " \n",
    "  - 89,997,827 `Customer` documents\n",
    "  - 89,997,827 `IDcard` documents\n",
    " \n",
    " ##### Accounts\n",
    " \n",
    " all-accounts.csv contains 179,998,862 accounts\n",
    " \n",
    " In average this makes 2 accounts per customers, but some customer will have 1 and some will have 3.\n",
    " \n",
    " When imported, this will generate 179,998,862*2=359,997,724 documents \n",
    " \n",
    "  - 179,998,862 `Account` documents\n",
    "  - 179,998,862 `Correspondance<State>` documents\n",
    " \n",
    " ##### Statements\n",
    " \n",
    " The statements are generated using a parameter that correspond to the number of months.\n",
    " \n",
    " Generating 179,998,862 statements for 1 months, will generate 1 statement for each account.\n",
    " Generating 179,998,862*2 statements for 2 months, will generate 2 statements for each account.\n",
    " Generating 179,998,862*60 statements for 60 months, will generate 60 statements for each account.\n",
    " \n",
    " ##### Total\n",
    " \n",
    "  - 89,997,827 `Customer` documents\n",
    "  - 89,997,827 `IDcard` documents\n",
    "  - 179,998,862 `Account` documents\n",
    "  - 179,998,862 `Correspondance<State>` documents\n",
    "  - 179,998,862*60 `Statement` documents\n",
    "  \n",
    " 11,339,925,098 documents\n",
    " "
   ]
  },
  {
   "cell_type": "markdown",
   "metadata": {},
   "source": [
    "#### Extracting a smaller dataset\n",
    "\n",
    "It is possible to extract a smaller dataset, here is an example:\n",
    "\n",
    "Let's say we want to start with 100,000 customers:"
   ]
  },
  {
   "cell_type": "code",
   "execution_count": 13,
   "metadata": {},
   "outputs": [
    {
     "name": "stdout",
     "output_type": "stream",
     "text": [
      "100000 ../data/100m-customers.csv\r\n"
     ]
    }
   ],
   "source": [
    "!head -100000 ../data/sources/all-id-cards.csv > ../data/100m-customers.csv\n",
    "!wc -l ../data/100m-customers.csv "
   ]
  },
  {
   "cell_type": "markdown",
   "metadata": {},
   "source": [
    "Now we need about 2 times more accounts, but because it is randomly distributed, we will take 3 times more lines from accounts than from customer and will filter as a second step. "
   ]
  },
  {
   "cell_type": "code",
   "execution_count": 22,
   "metadata": {},
   "outputs": [
    {
     "name": "stdout",
     "output_type": "stream",
     "text": [
      "300000 ../data/300m-accounts.csv\r\n"
     ]
    }
   ],
   "source": [
    "!head -300000 ../data/sources/all-accounts.csv > ../data/300m-accounts.csv\n",
    "!wc -l ../data/300m-accounts.csv "
   ]
  },
  {
   "cell_type": "code",
   "execution_count": 23,
   "metadata": {},
   "outputs": [
    {
     "name": "stdout",
     "output_type": "stream",
     "text": [
      "Reading the ids\n",
      "Procesing /nxbench/notebooks/../data/100m-customers.csv\n",
      "collected 100000 keys\n",
      "Procesing /nxbench/notebooks/../data/300m-accounts.csv\n",
      " line: 300000 missing:99916\n",
      "line processed: 300000 # accounts missing:99916\n"
     ]
    }
   ],
   "source": [
    "!csvcheck.sh -i ../data/100m-customers.csv -a ../data/300m-accounts.csv "
   ]
  },
  {
   "cell_type": "markdown",
   "metadata": {},
   "source": [
    "csvcheck will match the accounts with the idcards and split them in:\n",
    " - verified-accounts.csv : the accounts that correspond to an id\n",
    " - accounts-withoutIDCard.csv : the orphaned accounts"
   ]
  },
  {
   "cell_type": "code",
   "execution_count": 24,
   "metadata": {},
   "outputs": [
    {
     "name": "stdout",
     "output_type": "stream",
     "text": [
      "accounts-withoutIDCard.csv  verified-accounts.csv\n",
      "200084 verified-accounts.csv\n"
     ]
    }
   ],
   "source": [
    "!ls *.csv\n",
    "!wc -l verified-accounts.csv"
   ]
  },
  {
   "cell_type": "code",
   "execution_count": 25,
   "metadata": {},
   "outputs": [
    {
     "name": "stdout",
     "output_type": "stream",
     "text": [
      "0002812b91635a426fb6ebb0515c0244\n",
      "100m-customers.csv\n",
      "200084-accounts.csv\n",
      "200m-accounts.csv\n",
      "faces\n",
      "id-cards-meta-data\n",
      "id-cards.zip\n",
      "letters\n",
      "letters-import-clean.zip\n",
      "letters-import.zip\n",
      "sources\n"
     ]
    }
   ],
   "source": [
    "%%bash\n",
    "rm accounts-withoutIDCard.csv\n",
    "rm ../data/300m-accounts.csv\n",
    "mv verified-accounts.csv ../data/200084-accounts.csv\n",
    "ls ../data/ "
   ]
  },
  {
   "cell_type": "code",
   "execution_count": null,
   "metadata": {},
   "outputs": [],
   "source": []
  }
 ],
 "metadata": {
  "kernelspec": {
   "display_name": "Python 3",
   "language": "python",
   "name": "python3"
  },
  "language_info": {
   "codemirror_mode": {
    "name": "ipython",
    "version": 3
   },
   "file_extension": ".py",
   "mimetype": "text/x-python",
   "name": "python",
   "nbconvert_exporter": "python",
   "pygments_lexer": "ipython3",
   "version": "3.7.3"
  }
 },
 "nbformat": 4,
 "nbformat_minor": 4
}
